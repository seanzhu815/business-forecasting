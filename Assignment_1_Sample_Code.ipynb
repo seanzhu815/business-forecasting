{
  "cells": [
    {
      "cell_type": "markdown",
      "metadata": {
        "id": "view-in-github",
        "colab_type": "text"
      },
      "source": [
        "<a href=\"https://colab.research.google.com/github/seanzhu815/business-forecasting/blob/main/Assignment_1_Sample_Code.ipynb\" target=\"_parent\"><img src=\"https://colab.research.google.com/assets/colab-badge.svg\" alt=\"Open In Colab\"/></a>"
      ]
    },
    {
      "cell_type": "markdown",
      "metadata": {
        "id": "Aby9eLh7CvJx",
        "tags": []
      },
      "source": [
        "# Assignment 1: Solution"
      ]
    },
    {
      "cell_type": "markdown",
      "metadata": {
        "id": "2ylTXk7JDGTW",
        "tags": []
      },
      "source": [
        "### We first import the necessary packages"
      ]
    },
    {
      "cell_type": "code",
      "execution_count": null,
      "metadata": {
        "id": "Ui6Rz3jEECn8",
        "tags": []
      },
      "outputs": [],
      "source": [
        "import pandas            as pd   \n",
        "import numpy             as np   \n",
        "import scipy             as scp  \n",
        "import matplotlib.pyplot as plt \n",
        "import os as os\n",
        "from datetime import date as dd \n",
        "from scipy import stats    \n",
        "from scipy import optimize\n",
        "import statsmodels.api as sm\n",
        "# %matplotlib inline"
      ]
    },
    {
      "cell_type": "markdown",
      "metadata": {
        "id": "oFS1oOYPGF0Z",
        "tags": []
      },
      "source": [
        "### We now get the data\n"
      ]
    },
    {
      "cell_type": "code",
      "execution_count": null,
      "metadata": {
        "colab": {
          "base_uri": "https://localhost:8080/",
          "height": 346
        },
        "id": "sXvEPraUJ3fp",
        "outputId": "092a060c-d4dc-401f-e3ce-780460429163"
      },
      "outputs": [
        {
          "data": {
            "text/plain": [
              "'/Users/zsy/Desktop/ucsd fall quarter/402 investment analysis/assign1'"
            ]
          },
          "execution_count": 2,
          "metadata": {},
          "output_type": "execute_result"
        }
      ],
      "source": [
        "os.getcwd()\n",
        "df=pd.read_excel('Assignment_1_MF402_2022.xlsx')\n",
        "os.getcwd()"
      ]
    },
    {
      "cell_type": "markdown",
      "metadata": {
        "id": "3LUNiORmKF8i"
      },
      "source": [
        "## Part One"
      ]
    },
    {
      "cell_type": "code",
      "execution_count": null,
      "metadata": {
        "id": "5H7A6ojXJ3fr",
        "outputId": "5e15ec7c-3f8a-475f-84cd-94efb82e0a81"
      },
      "outputs": [
        {
          "data": {
            "text/html": [
              "<div>\n",
              "<style scoped>\n",
              "    .dataframe tbody tr th:only-of-type {\n",
              "        vertical-align: middle;\n",
              "    }\n",
              "\n",
              "    .dataframe tbody tr th {\n",
              "        vertical-align: top;\n",
              "    }\n",
              "\n",
              "    .dataframe thead th {\n",
              "        text-align: right;\n",
              "    }\n",
              "</style>\n",
              "<table border=\"1\" class=\"dataframe\">\n",
              "  <thead>\n",
              "    <tr style=\"text-align: right;\">\n",
              "      <th></th>\n",
              "      <th>DATE</th>\n",
              "      <th>US stock returns</th>\n",
              "      <th>US stock index (total return)</th>\n",
              "      <th>dividend yield (per year)</th>\n",
              "      <th>10-year bond returns</th>\n",
              "      <th>10-year bond index</th>\n",
              "      <th>3-month T-bill return</th>\n",
              "      <th>3-month T-bill index</th>\n",
              "      <th>Monthly inflation rate</th>\n",
              "      <th>Inflation index</th>\n",
              "      <th>BTC value</th>\n",
              "      <th>BTC index</th>\n",
              "      <th>BTC returns</th>\n",
              "      <th>Gold value</th>\n",
              "      <th>Gold index</th>\n",
              "      <th>Gold returns</th>\n",
              "    </tr>\n",
              "  </thead>\n",
              "  <tbody>\n",
              "    <tr>\n",
              "      <td>0</td>\n",
              "      <td>19500131</td>\n",
              "      <td>0.017764</td>\n",
              "      <td>100.000000</td>\n",
              "      <td>0.0681</td>\n",
              "      <td>-0.006128</td>\n",
              "      <td>100.000000</td>\n",
              "      <td>0.000913</td>\n",
              "      <td>100.000000</td>\n",
              "      <td>-0.001843</td>\n",
              "      <td>100.000000</td>\n",
              "      <td>NaN</td>\n",
              "      <td>NaN</td>\n",
              "      <td>NaN</td>\n",
              "      <td>NaN</td>\n",
              "      <td>NaN</td>\n",
              "      <td>NaN</td>\n",
              "    </tr>\n",
              "    <tr>\n",
              "      <td>1</td>\n",
              "      <td>19500228</td>\n",
              "      <td>0.009971</td>\n",
              "      <td>100.997067</td>\n",
              "      <td>0.0674</td>\n",
              "      <td>0.002117</td>\n",
              "      <td>100.211700</td>\n",
              "      <td>0.000879</td>\n",
              "      <td>100.087929</td>\n",
              "      <td>0.001843</td>\n",
              "      <td>100.425351</td>\n",
              "      <td>NaN</td>\n",
              "      <td>NaN</td>\n",
              "      <td>NaN</td>\n",
              "      <td>NaN</td>\n",
              "      <td>NaN</td>\n",
              "      <td>NaN</td>\n",
              "    </tr>\n",
              "    <tr>\n",
              "      <td>2</td>\n",
              "      <td>19500331</td>\n",
              "      <td>0.004065</td>\n",
              "      <td>101.407625</td>\n",
              "      <td>0.0674</td>\n",
              "      <td>0.000821</td>\n",
              "      <td>100.293983</td>\n",
              "      <td>0.000976</td>\n",
              "      <td>100.185588</td>\n",
              "      <td>0.000551</td>\n",
              "      <td>100.552956</td>\n",
              "      <td>NaN</td>\n",
              "      <td>NaN</td>\n",
              "      <td>NaN</td>\n",
              "      <td>NaN</td>\n",
              "      <td>NaN</td>\n",
              "      <td>NaN</td>\n",
              "    </tr>\n",
              "    <tr>\n",
              "      <td>3</td>\n",
              "      <td>19500429</td>\n",
              "      <td>0.045113</td>\n",
              "      <td>105.982405</td>\n",
              "      <td>0.0661</td>\n",
              "      <td>0.002998</td>\n",
              "      <td>100.594708</td>\n",
              "      <td>0.000834</td>\n",
              "      <td>100.269185</td>\n",
              "      <td>0.000184</td>\n",
              "      <td>100.595491</td>\n",
              "      <td>NaN</td>\n",
              "      <td>NaN</td>\n",
              "      <td>NaN</td>\n",
              "      <td>NaN</td>\n",
              "      <td>NaN</td>\n",
              "      <td>NaN</td>\n",
              "    </tr>\n",
              "    <tr>\n",
              "      <td>4</td>\n",
              "      <td>19500531</td>\n",
              "      <td>0.039292</td>\n",
              "      <td>110.146628</td>\n",
              "      <td>0.0645</td>\n",
              "      <td>0.003311</td>\n",
              "      <td>100.927750</td>\n",
              "      <td>0.001082</td>\n",
              "      <td>100.377685</td>\n",
              "      <td>0.002198</td>\n",
              "      <td>101.105912</td>\n",
              "      <td>NaN</td>\n",
              "      <td>NaN</td>\n",
              "      <td>NaN</td>\n",
              "      <td>NaN</td>\n",
              "      <td>NaN</td>\n",
              "      <td>NaN</td>\n",
              "    </tr>\n",
              "  </tbody>\n",
              "</table>\n",
              "</div>"
            ],
            "text/plain": [
              "       DATE  US stock returns  US stock index (total return)  \\\n",
              "0  19500131          0.017764                     100.000000   \n",
              "1  19500228          0.009971                     100.997067   \n",
              "2  19500331          0.004065                     101.407625   \n",
              "3  19500429          0.045113                     105.982405   \n",
              "4  19500531          0.039292                     110.146628   \n",
              "\n",
              "   dividend yield (per year)  10-year bond returns  10-year bond index  \\\n",
              "0                     0.0681             -0.006128          100.000000   \n",
              "1                     0.0674              0.002117          100.211700   \n",
              "2                     0.0674              0.000821          100.293983   \n",
              "3                     0.0661              0.002998          100.594708   \n",
              "4                     0.0645              0.003311          100.927750   \n",
              "\n",
              "   3-month T-bill return  3-month T-bill index  Monthly inflation rate  \\\n",
              "0               0.000913            100.000000               -0.001843   \n",
              "1               0.000879            100.087929                0.001843   \n",
              "2               0.000976            100.185588                0.000551   \n",
              "3               0.000834            100.269185                0.000184   \n",
              "4               0.001082            100.377685                0.002198   \n",
              "\n",
              "   Inflation index  BTC value  BTC index  BTC returns  Gold value  \\\n",
              "0       100.000000        NaN        NaN          NaN         NaN   \n",
              "1       100.425351        NaN        NaN          NaN         NaN   \n",
              "2       100.552956        NaN        NaN          NaN         NaN   \n",
              "3       100.595491        NaN        NaN          NaN         NaN   \n",
              "4       101.105912        NaN        NaN          NaN         NaN   \n",
              "\n",
              "   Gold index   Gold returns  \n",
              "0          NaN           NaN  \n",
              "1          NaN           NaN  \n",
              "2          NaN           NaN  \n",
              "3          NaN           NaN  \n",
              "4          NaN           NaN  "
            ]
          },
          "execution_count": 3,
          "metadata": {},
          "output_type": "execute_result"
        }
      ],
      "source": [
        "df.head()"
      ]
    },
    {
      "cell_type": "code",
      "execution_count": null,
      "metadata": {
        "id": "SWsz_zhthHma",
        "outputId": "c4561f43-f592-4147-b73e-e4daedcd82ac"
      },
      "outputs": [
        {
          "data": {
            "text/html": [
              "<div>\n",
              "<style scoped>\n",
              "    .dataframe tbody tr th:only-of-type {\n",
              "        vertical-align: middle;\n",
              "    }\n",
              "\n",
              "    .dataframe tbody tr th {\n",
              "        vertical-align: top;\n",
              "    }\n",
              "\n",
              "    .dataframe thead th {\n",
              "        text-align: right;\n",
              "    }\n",
              "</style>\n",
              "<table border=\"1\" class=\"dataframe\">\n",
              "  <thead>\n",
              "    <tr style=\"text-align: right;\">\n",
              "      <th></th>\n",
              "      <th>DATE</th>\n",
              "      <th>US stock returns</th>\n",
              "      <th>US stock index (total return)</th>\n",
              "      <th>dividend yield (per year)</th>\n",
              "      <th>10-year bond returns</th>\n",
              "      <th>10-year bond index</th>\n",
              "      <th>3-month T-bill return</th>\n",
              "      <th>3-month T-bill index</th>\n",
              "      <th>Monthly inflation rate</th>\n",
              "      <th>Inflation index</th>\n",
              "      <th>BTC value</th>\n",
              "      <th>BTC index</th>\n",
              "      <th>BTC returns</th>\n",
              "      <th>Gold value</th>\n",
              "      <th>Gold index</th>\n",
              "      <th>Gold returns</th>\n",
              "    </tr>\n",
              "  </thead>\n",
              "  <tbody>\n",
              "    <tr>\n",
              "      <td>0</td>\n",
              "      <td>19500131</td>\n",
              "      <td>0.017764</td>\n",
              "      <td>100.000000</td>\n",
              "      <td>0.0681</td>\n",
              "      <td>-0.006128</td>\n",
              "      <td>100.000000</td>\n",
              "      <td>0.000913</td>\n",
              "      <td>100.000000</td>\n",
              "      <td>-0.001843</td>\n",
              "      <td>100.000000</td>\n",
              "      <td>NaN</td>\n",
              "      <td>NaN</td>\n",
              "      <td>NaN</td>\n",
              "      <td>NaN</td>\n",
              "      <td>NaN</td>\n",
              "      <td>NaN</td>\n",
              "    </tr>\n",
              "    <tr>\n",
              "      <td>1</td>\n",
              "      <td>19500228</td>\n",
              "      <td>0.009971</td>\n",
              "      <td>100.997067</td>\n",
              "      <td>0.0674</td>\n",
              "      <td>0.002117</td>\n",
              "      <td>100.211700</td>\n",
              "      <td>0.000879</td>\n",
              "      <td>100.087929</td>\n",
              "      <td>0.001843</td>\n",
              "      <td>100.425351</td>\n",
              "      <td>NaN</td>\n",
              "      <td>NaN</td>\n",
              "      <td>NaN</td>\n",
              "      <td>NaN</td>\n",
              "      <td>NaN</td>\n",
              "      <td>NaN</td>\n",
              "    </tr>\n",
              "    <tr>\n",
              "      <td>2</td>\n",
              "      <td>19500331</td>\n",
              "      <td>0.004065</td>\n",
              "      <td>101.407625</td>\n",
              "      <td>0.0674</td>\n",
              "      <td>0.000821</td>\n",
              "      <td>100.293983</td>\n",
              "      <td>0.000976</td>\n",
              "      <td>100.185588</td>\n",
              "      <td>0.000551</td>\n",
              "      <td>100.552956</td>\n",
              "      <td>NaN</td>\n",
              "      <td>NaN</td>\n",
              "      <td>NaN</td>\n",
              "      <td>NaN</td>\n",
              "      <td>NaN</td>\n",
              "      <td>NaN</td>\n",
              "    </tr>\n",
              "    <tr>\n",
              "      <td>3</td>\n",
              "      <td>19500429</td>\n",
              "      <td>0.045113</td>\n",
              "      <td>105.982405</td>\n",
              "      <td>0.0661</td>\n",
              "      <td>0.002998</td>\n",
              "      <td>100.594708</td>\n",
              "      <td>0.000834</td>\n",
              "      <td>100.269185</td>\n",
              "      <td>0.000184</td>\n",
              "      <td>100.595491</td>\n",
              "      <td>NaN</td>\n",
              "      <td>NaN</td>\n",
              "      <td>NaN</td>\n",
              "      <td>NaN</td>\n",
              "      <td>NaN</td>\n",
              "      <td>NaN</td>\n",
              "    </tr>\n",
              "    <tr>\n",
              "      <td>4</td>\n",
              "      <td>19500531</td>\n",
              "      <td>0.039292</td>\n",
              "      <td>110.146628</td>\n",
              "      <td>0.0645</td>\n",
              "      <td>0.003311</td>\n",
              "      <td>100.927750</td>\n",
              "      <td>0.001082</td>\n",
              "      <td>100.377685</td>\n",
              "      <td>0.002198</td>\n",
              "      <td>101.105912</td>\n",
              "      <td>NaN</td>\n",
              "      <td>NaN</td>\n",
              "      <td>NaN</td>\n",
              "      <td>NaN</td>\n",
              "      <td>NaN</td>\n",
              "      <td>NaN</td>\n",
              "    </tr>\n",
              "    <tr>\n",
              "      <td>...</td>\n",
              "      <td>...</td>\n",
              "      <td>...</td>\n",
              "      <td>...</td>\n",
              "      <td>...</td>\n",
              "      <td>...</td>\n",
              "      <td>...</td>\n",
              "      <td>...</td>\n",
              "      <td>...</td>\n",
              "      <td>...</td>\n",
              "      <td>...</td>\n",
              "      <td>...</td>\n",
              "      <td>...</td>\n",
              "      <td>...</td>\n",
              "      <td>...</td>\n",
              "      <td>...</td>\n",
              "      <td>...</td>\n",
              "    </tr>\n",
              "    <tr>\n",
              "      <td>859</td>\n",
              "      <td>20210831</td>\n",
              "      <td>0.028990</td>\n",
              "      <td>26525.982405</td>\n",
              "      <td>0.0132</td>\n",
              "      <td>-0.004837</td>\n",
              "      <td>4858.115933</td>\n",
              "      <td>0.000030</td>\n",
              "      <td>2288.817882</td>\n",
              "      <td>0.001446</td>\n",
              "      <td>1161.599319</td>\n",
              "      <td>47166.687500</td>\n",
              "      <td>13941.400489</td>\n",
              "      <td>0.133101</td>\n",
              "      <td>NaN</td>\n",
              "      <td>654.861111</td>\n",
              "      <td>-0.011530</td>\n",
              "    </tr>\n",
              "    <tr>\n",
              "      <td>860</td>\n",
              "      <td>20210930</td>\n",
              "      <td>-0.047569</td>\n",
              "      <td>25264.164223</td>\n",
              "      <td>0.0133</td>\n",
              "      <td>-0.015425</td>\n",
              "      <td>4783.179495</td>\n",
              "      <td>0.000080</td>\n",
              "      <td>2289.000987</td>\n",
              "      <td>0.001781</td>\n",
              "      <td>1166.371757</td>\n",
              "      <td>43790.894531</td>\n",
              "      <td>12943.592836</td>\n",
              "      <td>-0.071572</td>\n",
              "      <td>1755.3</td>\n",
              "      <td>641.557018</td>\n",
              "      <td>-0.020316</td>\n",
              "    </tr>\n",
              "    <tr>\n",
              "      <td>861</td>\n",
              "      <td>20211029</td>\n",
              "      <td>0.069144</td>\n",
              "      <td>27011.026393</td>\n",
              "      <td>0.0134</td>\n",
              "      <td>-0.004896</td>\n",
              "      <td>4759.761048</td>\n",
              "      <td>-0.000034</td>\n",
              "      <td>2288.923161</td>\n",
              "      <td>0.003747</td>\n",
              "      <td>1176.478094</td>\n",
              "      <td>61318.957031</td>\n",
              "      <td>18124.489610</td>\n",
              "      <td>0.400267</td>\n",
              "      <td>1783.0</td>\n",
              "      <td>651.681287</td>\n",
              "      <td>0.015781</td>\n",
              "    </tr>\n",
              "    <tr>\n",
              "      <td>862</td>\n",
              "      <td>20211130</td>\n",
              "      <td>-0.008334</td>\n",
              "      <td>26785.923754</td>\n",
              "      <td>0.0129</td>\n",
              "      <td>0.012455</td>\n",
              "      <td>4819.043872</td>\n",
              "      <td>0.000073</td>\n",
              "      <td>2289.090253</td>\n",
              "      <td>0.003026</td>\n",
              "      <td>1184.704381</td>\n",
              "      <td>57005.425781</td>\n",
              "      <td>16849.507841</td>\n",
              "      <td>-0.070346</td>\n",
              "      <td>1773.6</td>\n",
              "      <td>648.245614</td>\n",
              "      <td>-0.005272</td>\n",
              "    </tr>\n",
              "    <tr>\n",
              "      <td>863</td>\n",
              "      <td>20211231</td>\n",
              "      <td>0.043613</td>\n",
              "      <td>27954.134897</td>\n",
              "      <td>0.0129</td>\n",
              "      <td>-0.004750</td>\n",
              "      <td>4796.153414</td>\n",
              "      <td>0.000081</td>\n",
              "      <td>2289.275669</td>\n",
              "      <td>0.002491</td>\n",
              "      <td>1191.518503</td>\n",
              "      <td>46306.445313</td>\n",
              "      <td>13687.132456</td>\n",
              "      <td>-0.187684</td>\n",
              "      <td>1827.5</td>\n",
              "      <td>667.945906</td>\n",
              "      <td>0.030390</td>\n",
              "    </tr>\n",
              "  </tbody>\n",
              "</table>\n",
              "<p>864 rows × 16 columns</p>\n",
              "</div>"
            ],
            "text/plain": [
              "         DATE  US stock returns  US stock index (total return)  \\\n",
              "0    19500131          0.017764                     100.000000   \n",
              "1    19500228          0.009971                     100.997067   \n",
              "2    19500331          0.004065                     101.407625   \n",
              "3    19500429          0.045113                     105.982405   \n",
              "4    19500531          0.039292                     110.146628   \n",
              "..        ...               ...                            ...   \n",
              "859  20210831          0.028990                   26525.982405   \n",
              "860  20210930         -0.047569                   25264.164223   \n",
              "861  20211029          0.069144                   27011.026393   \n",
              "862  20211130         -0.008334                   26785.923754   \n",
              "863  20211231          0.043613                   27954.134897   \n",
              "\n",
              "     dividend yield (per year)  10-year bond returns  10-year bond index  \\\n",
              "0                       0.0681             -0.006128          100.000000   \n",
              "1                       0.0674              0.002117          100.211700   \n",
              "2                       0.0674              0.000821          100.293983   \n",
              "3                       0.0661              0.002998          100.594708   \n",
              "4                       0.0645              0.003311          100.927750   \n",
              "..                         ...                   ...                 ...   \n",
              "859                     0.0132             -0.004837         4858.115933   \n",
              "860                     0.0133             -0.015425         4783.179495   \n",
              "861                     0.0134             -0.004896         4759.761048   \n",
              "862                     0.0129              0.012455         4819.043872   \n",
              "863                     0.0129             -0.004750         4796.153414   \n",
              "\n",
              "     3-month T-bill return  3-month T-bill index  Monthly inflation rate  \\\n",
              "0                 0.000913            100.000000               -0.001843   \n",
              "1                 0.000879            100.087929                0.001843   \n",
              "2                 0.000976            100.185588                0.000551   \n",
              "3                 0.000834            100.269185                0.000184   \n",
              "4                 0.001082            100.377685                0.002198   \n",
              "..                     ...                   ...                     ...   \n",
              "859               0.000030           2288.817882                0.001446   \n",
              "860               0.000080           2289.000987                0.001781   \n",
              "861              -0.000034           2288.923161                0.003747   \n",
              "862               0.000073           2289.090253                0.003026   \n",
              "863               0.000081           2289.275669                0.002491   \n",
              "\n",
              "     Inflation index     BTC value     BTC index  BTC returns  Gold value  \\\n",
              "0         100.000000           NaN           NaN          NaN         NaN   \n",
              "1         100.425351           NaN           NaN          NaN         NaN   \n",
              "2         100.552956           NaN           NaN          NaN         NaN   \n",
              "3         100.595491           NaN           NaN          NaN         NaN   \n",
              "4         101.105912           NaN           NaN          NaN         NaN   \n",
              "..               ...           ...           ...          ...         ...   \n",
              "859      1161.599319  47166.687500  13941.400489     0.133101         NaN   \n",
              "860      1166.371757  43790.894531  12943.592836    -0.071572      1755.3   \n",
              "861      1176.478094  61318.957031  18124.489610     0.400267      1783.0   \n",
              "862      1184.704381  57005.425781  16849.507841    -0.070346      1773.6   \n",
              "863      1191.518503  46306.445313  13687.132456    -0.187684      1827.5   \n",
              "\n",
              "     Gold index   Gold returns  \n",
              "0            NaN           NaN  \n",
              "1            NaN           NaN  \n",
              "2            NaN           NaN  \n",
              "3            NaN           NaN  \n",
              "4            NaN           NaN  \n",
              "..           ...           ...  \n",
              "859   654.861111     -0.011530  \n",
              "860   641.557018     -0.020316  \n",
              "861   651.681287      0.015781  \n",
              "862   648.245614     -0.005272  \n",
              "863   667.945906      0.030390  \n",
              "\n",
              "[864 rows x 16 columns]"
            ]
          },
          "execution_count": 4,
          "metadata": {},
          "output_type": "execute_result"
        }
      ],
      "source": [
        "date = df.iloc[:,0]\n",
        "returns = df.iloc[:,1]         # Nominal returns\n",
        "inflation = df.iloc[:,8]       # Inflation\n",
        "real_ret = returns - inflation # Real returns\n",
        "cons=df.iloc[:17]\n",
        "# Fill in rfrate and rf10 from the dataframe\n",
        "rfrate = df.iloc[:,6]\n",
        "rf10 =  df.iloc[:,4]     # Risk free rate\n",
        "df"
      ]
    },
    {
      "cell_type": "markdown",
      "metadata": {
        "id": "D5Xih9PsJ3fs"
      },
      "source": [
        "### Question 1.1"
      ]
    },
    {
      "cell_type": "code",
      "execution_count": null,
      "metadata": {
        "id": "L_o1bsP1J3ft",
        "outputId": "db556072-c47b-481c-b14a-eb7f0315a522"
      },
      "outputs": [
        {
          "data": {
            "text/plain": [
              "[<matplotlib.lines.Line2D at 0x7f9a4dc8cdd0>]"
            ]
          },
          "execution_count": 5,
          "metadata": {},
          "output_type": "execute_result"
        },
        {
          "data": {
            "image/png": "[encoded data removed]",
            "text/plain": [
              "<Figure size 432x288 with 1 Axes>"
            ]
          },
          "metadata": {
            "needs_background": "light"
          },
          "output_type": "display_data"
        }
      ],
      "source": [
        "erp = returns - rfrate         # Excess Return\n",
        "plt.plot(erp)"
      ]
    },
    {
      "cell_type": "markdown",
      "metadata": {
        "id": "lQzLwAM_J3ft"
      },
      "source": [
        "We now need to run a regression of excess return on a constant. There are multiple ways of doing this. We can define a user created function or use statsmodels package. Here we will use statsmodels package."
      ]
    },
    {
      "cell_type": "code",
      "execution_count": null,
      "metadata": {
        "id": "v0gNE5HnJ3fu",
        "outputId": "ce763202-b001-4c05-cb06-5f79f347f964"
      },
      "outputs": [
        {
          "data": {
            "text/html": [
              "<table class=\"simpletable\">\n",
              "<caption>OLS Regression Results</caption>\n",
              "<tr>\n",
              "  <th>Dep. Variable:</th>            <td>y</td>        <th>  R-squared:         </th> <td>   0.000</td>\n",
              "</tr>\n",
              "<tr>\n",
              "  <th>Model:</th>                   <td>OLS</td>       <th>  Adj. R-squared:    </th> <td>   0.000</td>\n",
              "</tr>\n",
              "<tr>\n",
              "  <th>Method:</th>             <td>Least Squares</td>  <th>  F-statistic:       </th> <td>     nan</td>\n",
              "</tr>\n",
              "<tr>\n",
              "  <th>Date:</th>             <td>Sat, 01 Oct 2022</td> <th>  Prob (F-statistic):</th>  <td>   nan</td> \n",
              "</tr>\n",
              "<tr>\n",
              "  <th>Time:</th>                 <td>19:47:05</td>     <th>  Log-Likelihood:    </th> <td> -629.07</td>\n",
              "</tr>\n",
              "<tr>\n",
              "  <th>No. Observations:</th>      <td>   864</td>      <th>  AIC:               </th> <td>   1260.</td>\n",
              "</tr>\n",
              "<tr>\n",
              "  <th>Df Residuals:</th>          <td>   863</td>      <th>  BIC:               </th> <td>   1265.</td>\n",
              "</tr>\n",
              "<tr>\n",
              "  <th>Df Model:</th>              <td>     0</td>      <th>                     </th>     <td> </td>   \n",
              "</tr>\n",
              "<tr>\n",
              "  <th>Covariance Type:</th>      <td>nonrobust</td>    <th>                     </th>     <td> </td>   \n",
              "</tr>\n",
              "</table>\n",
              "<table class=\"simpletable\">\n",
              "<tr>\n",
              "    <td></td>       <th>coef</th>     <th>std err</th>      <th>t</th>      <th>P>|t|</th>  <th>[0.025</th>    <th>0.975]</th>  \n",
              "</tr>\n",
              "<tr>\n",
              "  <th>const</th> <td>    0.0456</td> <td>    0.017</td> <td>    2.670</td> <td> 0.008</td> <td>    0.012</td> <td>    0.079</td>\n",
              "</tr>\n",
              "</table>\n",
              "<table class=\"simpletable\">\n",
              "<tr>\n",
              "  <th>Omnibus:</th>       <td>64.481</td> <th>  Durbin-Watson:     </th> <td>   1.932</td>\n",
              "</tr>\n",
              "<tr>\n",
              "  <th>Prob(Omnibus):</th> <td> 0.000</td> <th>  Jarque-Bera (JB):  </th> <td> 137.061</td>\n",
              "</tr>\n",
              "<tr>\n",
              "  <th>Skew:</th>          <td>-0.456</td> <th>  Prob(JB):          </th> <td>1.73e-30</td>\n",
              "</tr>\n",
              "<tr>\n",
              "  <th>Kurtosis:</th>      <td> 4.725</td> <th>  Cond. No.          </th> <td>    1.00</td>\n",
              "</tr>\n",
              "</table><br/><br/>Notes:<br/>[1] Standard Errors assume that the covariance matrix of the errors is correctly specified."
            ],
            "text/plain": [
              "<class 'statsmodels.iolib.summary.Summary'>\n",
              "\"\"\"\n",
              "                            OLS Regression Results                            \n",
              "==============================================================================\n",
              "Dep. Variable:                      y   R-squared:                       0.000\n",
              "Model:                            OLS   Adj. R-squared:                  0.000\n",
              "Method:                 Least Squares   F-statistic:                       nan\n",
              "Date:                Sat, 01 Oct 2022   Prob (F-statistic):                nan\n",
              "Time:                        19:47:05   Log-Likelihood:                -629.07\n",
              "No. Observations:                 864   AIC:                             1260.\n",
              "Df Residuals:                     863   BIC:                             1265.\n",
              "Df Model:                           0                                         \n",
              "Covariance Type:            nonrobust                                         \n",
              "==============================================================================\n",
              "                 coef    std err          t      P>|t|      [0.025      0.975]\n",
              "------------------------------------------------------------------------------\n",
              "const          0.0456      0.017      2.670      0.008       0.012       0.079\n",
              "==============================================================================\n",
              "Omnibus:                       64.481   Durbin-Watson:                   1.932\n",
              "Prob(Omnibus):                  0.000   Jarque-Bera (JB):              137.061\n",
              "Skew:                          -0.456   Prob(JB):                     1.73e-30\n",
              "Kurtosis:                       4.725   Cond. No.                         1.00\n",
              "==============================================================================\n",
              "\n",
              "Notes:\n",
              "[1] Standard Errors assume that the covariance matrix of the errors is correctly specified.\n",
              "\"\"\""
            ]
          },
          "execution_count": 6,
          "metadata": {},
          "output_type": "execute_result"
        }
      ],
      "source": [
        "dim = erp.shape[0]\n",
        "cons=np.ones((1,864),dtype=int).reshape(-1,1)\n",
        "model = sm.OLS(12*erp,cons).fit()\n",
        "yhat = model.predict()\n",
        "model.summary()\n"
      ]
    },
    {
      "cell_type": "markdown",
      "metadata": {
        "id": "ZifBAV12J3fu"
      },
      "source": [
        "We need to look at the standard errors of the constant. Do they look small or large to you?"
      ]
    },
    {
      "cell_type": "markdown",
      "metadata": {
        "id": "IvdoK5XjJ3fu"
      },
      "source": [
        "### Question 1.2"
      ]
    },
    {
      "cell_type": "markdown",
      "metadata": {
        "id": "cQAyLiKxJ3fv"
      },
      "source": [
        "We are now interested in the moving average of the equity risk premium."
      ]
    },
    {
      "cell_type": "code",
      "execution_count": null,
      "metadata": {
        "id": "aUoCgDlIJ3fv"
      },
      "outputs": [],
      "source": [
        "ma_erp=erp.rolling(window=120).mean()"
      ]
    },
    {
      "cell_type": "code",
      "execution_count": null,
      "metadata": {
        "id": "ATTDt9rIJ3fv",
        "outputId": "c8948932-5407-488c-998c-62edd1737831"
      },
      "outputs": [
        {
          "data": {
            "text/plain": [
              "[<matplotlib.lines.Line2D at 0x7f9a4daec790>]"
            ]
          },
          "execution_count": 8,
          "metadata": {},
          "output_type": "execute_result"
        },
        {
          "data": {
            "image/png": "[encoded data removed]",
            "text/plain": [
              "<Figure size 432x288 with 1 Axes>"
            ]
          },
          "metadata": {
            "needs_background": "light"
          },
          "output_type": "display_data"
        }
      ],
      "source": [
        "plt.plot(ma_erp)"
      ]
    },
    {
      "cell_type": "markdown",
      "metadata": {
        "id": "thV88ylFJ3fv"
      },
      "source": [
        "From the graph above it is clear that the historical estimate of the equity risk premium is stable/not stable."
      ]
    },
    {
      "cell_type": "markdown",
      "metadata": {
        "id": "Cb4xzv6UJ3fw"
      },
      "source": [
        "### Question 1.3"
      ]
    },
    {
      "cell_type": "markdown",
      "metadata": {
        "id": "B1ckpL_8J3fw"
      },
      "source": [
        "# We get the long run US GDP growth from the Survey of Professional Forecasters:\n",
        "\n",
        "https://www.philadelphiafed.org/surveys-and-data/real-time-data-research/spf-q3-2021\n",
        "\n",
        "2025 GDP Growth rate is xxx"
      ]
    },
    {
      "cell_type": "code",
      "execution_count": null,
      "metadata": {
        "id": "QO7GqhgDJ3fw",
        "scrolled": true
      },
      "outputs": [],
      "source": [
        "us_gdp_growth = 0.021        # Fill from above"
      ]
    },
    {
      "cell_type": "markdown",
      "metadata": {
        "id": "JHKg6p8LJ3fw"
      },
      "source": [
        "From FRED we get the 10 Year TIPS https://fred.stlouisfed.org/series/DFII10#0\n",
        "\n",
        "\n",
        "For 2021 year end we have: xxx\n"
      ]
    },
    {
      "cell_type": "code",
      "execution_count": null,
      "metadata": {
        "id": "i_vjh6trJ3fw"
      },
      "outputs": [],
      "source": [
        "tips_yield =  -0.0104"
      ]
    },
    {
      "cell_type": "code",
      "execution_count": null,
      "metadata": {
        "id": "Hzq-bLhRJ3fx",
        "outputId": "980fec0c-10cf-455c-d631-3775f801ed75"
      },
      "outputs": [
        {
          "data": {
            "text/plain": [
              "0.0129"
            ]
          },
          "execution_count": 90,
          "metadata": {},
          "output_type": "execute_result"
        }
      ],
      "source": [
        "last_dpratio = df.iloc[dim-1,3]\n",
        "last_dpratio"
      ]
    },
    {
      "cell_type": "markdown",
      "metadata": {
        "id": "YdZ367etJ3fx"
      },
      "source": [
        "According to the Grodon Growth model the equity risk premium is given by:"
      ]
    },
    {
      "cell_type": "code",
      "execution_count": null,
      "metadata": {
        "id": "NwyJeSXUJ3fx",
        "outputId": "d7d73d24-1cd7-4143-f7bc-87dd3531749e"
      },
      "outputs": [
        {
          "name": "stdout",
          "output_type": "stream",
          "text": [
            "According to the Gordon Growth Model the ERP is 4.46 percent\n"
          ]
        }
      ],
      "source": [
        "gordon = last_dpratio*(1+us_gdp_growth) + us_gdp_growth - tips_yield\n",
        "print(\"According to the Gordon Growth Model the ERP is %.2f percent\" % (gordon*100))"
      ]
    },
    {
      "cell_type": "markdown",
      "metadata": {
        "id": "5D_StH7eJ3fx",
        "tags": []
      },
      "source": [
        "### Question 1.4"
      ]
    },
    {
      "cell_type": "markdown",
      "metadata": {
        "id": "QuE69-m8J3fx"
      },
      "source": [
        "The novel approach in Slide 9 of the case study gives the following formula: $$ ERP = E/P - RealBondYield $$\n"
      ]
    },
    {
      "cell_type": "code",
      "execution_count": null,
      "metadata": {
        "id": "azEo55WhJ3fx",
        "outputId": "8fe7c243-a472-41ee-dd92-4ccafb3fa1a0"
      },
      "outputs": [
        {
          "name": "stdout",
          "output_type": "stream",
          "text": [
            "according to the novel method, ERP is equal to 3.04%\n"
          ]
        }
      ],
      "source": [
        "ep = 4.6/100\n",
        "erp_nov= ep - 0.0156                                        # Fill in the relevant variables\n",
        "print(f'according to the novel method, ERP is equal to {erp_nov*100}%')"
      ]
    },
    {
      "cell_type": "markdown",
      "metadata": {
        "id": "0zhwCVhVJ3fx",
        "tags": []
      },
      "source": [
        "## Part Two"
      ]
    },
    {
      "cell_type": "markdown",
      "metadata": {
        "id": "wyCo0jSoJ3fx",
        "tags": []
      },
      "source": [
        "### Question 2.1"
      ]
    },
    {
      "cell_type": "markdown",
      "metadata": {
        "id": "4vAg7ZPiJ3fx"
      },
      "source": [
        "a. We need to calculate the annualized sharpe ratio. We first get the mean return over the full sample and multiply by 12 to annualize, then we get the standard deviation over the full sample and multiply by the square root of 12."
      ]
    },
    {
      "cell_type": "code",
      "execution_count": null,
      "metadata": {
        "id": "LbQJPb7CJ3fy",
        "outputId": "02f381fc-ce80-4895-dcb7-cd4a8952bf4a"
      },
      "outputs": [
        {
          "name": "stdout",
          "output_type": "stream",
          "text": [
            "The annualized sharpe ratio is 0.23\n"
          ]
        }
      ],
      "source": [
        "erp = returns- rf10\n",
        "vol_ret = np.std(returns)              \n",
        "annualized_vol = 12**0.5*vol_ret               # Compute the annnualized volatility of returns\n",
        "\n",
        "mean_erp = np.mean(erp)\n",
        "annualized_erp = 12*mean_erp\n",
        "\n",
        "shratio = annualized_erp/annualized_vol                   # Compute the Sharpe ratio\n",
        "print(\"The annualized sharpe ratio is %.2f\" % shratio)"
      ]
    },
    {
      "cell_type": "markdown",
      "metadata": {
        "id": "mA3A5kQ4J3fy"
      },
      "source": [
        "b. We now need to calculate the 3% VaR "
      ]
    },
    {
      "cell_type": "code",
      "execution_count": null,
      "metadata": {
        "id": "m2uwi-kPJ3fy",
        "outputId": "27df5541-6fce-40fd-fb3d-eb238cbabebe"
      },
      "outputs": [
        {
          "name": "stdout",
          "output_type": "stream",
          "text": [
            "The VaR is -7.91 percent\n"
          ]
        }
      ],
      "source": [
        "alpha_var = 0.03\n",
        "returns_sorted = np.sort(returns)\n",
        "\n",
        "VaR = np.quantile(returns_sorted, alpha_var) # quantile interpolates (linear default)\n",
        "print(\"The VaR is %.2f percent\" % (VaR*100))"
      ]
    },
    {
      "cell_type": "markdown",
      "metadata": {
        "id": "ebUQCXCEJ3fy"
      },
      "source": [
        "c. Calculating Expected Shortfall"
      ]
    },
    {
      "cell_type": "code",
      "execution_count": null,
      "metadata": {
        "id": "zl6vwOlBJ3fy",
        "outputId": "ea736e7d-4a68-485d-ef0c-e9bc9afad7ac"
      },
      "outputs": [
        {
          "name": "stdout",
          "output_type": "stream",
          "text": [
            "The Expected Shortfall is -10.36 percent\n"
          ]
        }
      ],
      "source": [
        "alpha_es = 0.03\n",
        "sum=0\n",
        "numbers=0\n",
        "for i in returns_sorted:\n",
        "    if i <VaR:\n",
        "        sum+=i\n",
        "        numbers+=1\n",
        "mean=sum/numbers\n",
        "ES = mean\n",
        "print(\"The Expected Shortfall is %.2f percent\" % (ES*100))"
      ]
    },
    {
      "cell_type": "markdown",
      "metadata": {
        "id": "a2abYVgwJ3fy"
      },
      "source": [
        "d. Calculating Skew"
      ]
    },
    {
      "cell_type": "code",
      "execution_count": null,
      "metadata": {
        "id": "QCElu1NZJ3fz",
        "outputId": "d1f843e2-f520-46e8-bf0b-831cf3f22afd"
      },
      "outputs": [
        {
          "name": "stdout",
          "output_type": "stream",
          "text": [
            "The skewness is -0.43\n"
          ]
        }
      ],
      "source": [
        "sk = scp.stats.skew(returns)\n",
        "print(\"The skewness is %.2f\" % sk)"
      ]
    },
    {
      "cell_type": "markdown",
      "metadata": {
        "id": "io2I8sn8J3fz"
      },
      "source": [
        "e. Calculating Kurtosis"
      ]
    },
    {
      "cell_type": "code",
      "execution_count": null,
      "metadata": {
        "id": "P-KI3B7nJ3fz",
        "outputId": "a45b9dba-c5bc-4c5c-9484-3ab52d91200d"
      },
      "outputs": [
        {
          "name": "stdout",
          "output_type": "stream",
          "text": [
            "The kurtosis is 1.70\n"
          ]
        }
      ],
      "source": [
        "kurt = scp.stats.kurtosis(returns)\n",
        "print(\"The kurtosis is %.2f\" % kurt)"
      ]
    },
    {
      "cell_type": "code",
      "execution_count": null,
      "metadata": {
        "id": "K_vODUw9Zi57",
        "outputId": "439c8887-91f7-4e94-eb04-46a7990c946e"
      },
      "outputs": [
        {
          "data": {
            "text/plain": [
              "0      0.017764\n",
              "1      0.009971\n",
              "2      0.004065\n",
              "3      0.045113\n",
              "4      0.039292\n",
              "         ...   \n",
              "859    0.028990\n",
              "860   -0.047569\n",
              "861    0.069144\n",
              "862   -0.008334\n",
              "863    0.043613\n",
              "Name: US stock returns, Length: 864, dtype: float64"
            ]
          },
          "execution_count": 19,
          "metadata": {},
          "output_type": "execute_result"
        }
      ],
      "source": [
        "df['DATE']\n",
        "returns"
      ]
    },
    {
      "cell_type": "markdown",
      "metadata": {
        "id": "gQGHJ_rUJ3fz"
      },
      "source": [
        "f. We now need to calculate Maximum Drawdown. We use the python code used in class to have a user written function."
      ]
    },
    {
      "cell_type": "code",
      "execution_count": null,
      "metadata": {
        "id": "ir-X2VQ5J3fz"
      },
      "outputs": [],
      "source": [
        "def maxdrawdown(x): \n",
        "    \"\"\"\n",
        "    NumPy analog to corresponding MATLAB Financial Toolbox Function\n",
        "    OUTPUT: start, end, and max drawdown in terms of max percentage drop from a peak\n",
        "    \"\"\"\n",
        "    i = np.argmax(np.maximum.accumulate(x) - x) # end of period\n",
        "    j = np.argmax(x[:i]) # start of the period\n",
        "    percent_change = 100*( x[i] - x[j] ) / x[j]\n",
        "    return j,i,percent_change\n",
        "\n",
        "def datenum(date):\n",
        "    \"\"\"\n",
        "    Converts yyyymmdd dates to ordinal code\n",
        "    \"\"\"\n",
        "    dn = np.zeros(date.shape)\n",
        "    for i in range(len(date)):\n",
        "        dt = str(date[i])\n",
        "        dn[i] = dd.toordinal(dd(int(dt[0:4]),int(dt[4:6]),int(dt[6:8])))\n",
        "    return dn"
      ]
    },
    {
      "cell_type": "code",
      "execution_count": null,
      "metadata": {
        "id": "hyzwJb8QJ3fz",
        "outputId": "1d85dec9-f40d-4452-d19e-13175a06b10b"
      },
      "outputs": [
        {
          "data": {
            "text/plain": [
              "0        1.017764\n",
              "1        1.027912\n",
              "2        1.032090\n",
              "3        1.078651\n",
              "4        1.121033\n",
              "          ...    \n",
              "859    269.971900\n",
              "860    257.129568\n",
              "861    274.908503\n",
              "862    272.617489\n",
              "863    284.507121\n",
              "Name: US stock returns, Length: 864, dtype: float64"
            ]
          },
          "execution_count": 21,
          "metadata": {},
          "output_type": "execute_result"
        }
      ],
      "source": [
        "cumulativeret = np.cumprod(1+returns)\n",
        "\n",
        "cumulativeret\n"
      ]
    },
    {
      "cell_type": "code",
      "execution_count": null,
      "metadata": {
        "id": "2hAhQ38oZi58",
        "outputId": "f16ab5a8-6b1c-4594-ceab-7ff0740f83c6"
      },
      "outputs": [
        {
          "data": {
            "text/plain": [
              "693"
            ]
          },
          "execution_count": 92,
          "metadata": {},
          "output_type": "execute_result"
        }
      ],
      "source": [
        "MaxDDStartIndex, MaxDDEndIndex, MaxDD = maxdrawdown(cumulativeret)\n",
        "begdate = date[MaxDDStartIndex]\n",
        "enddate = date[MaxDDEndIndex]"
      ]
    },
    {
      "cell_type": "code",
      "execution_count": null,
      "metadata": {
        "id": "B1tCOUCgJ3fz",
        "outputId": "4cd4c2f8-698c-4102-8cf6-7b520f875d82"
      },
      "outputs": [
        {
          "name": "stdout",
          "output_type": "stream",
          "text": [
            "The Maximum Drawdown is -52.56%\n"
          ]
        }
      ],
      "source": [
        "print(f'The Maximum Drawdown is {MaxDD:.4}%')"
      ]
    },
    {
      "cell_type": "code",
      "execution_count": null,
      "metadata": {
        "id": "OxWJriZ5J3fz",
        "outputId": "28ced746-1226-4357-955c-d032c48b5dae"
      },
      "outputs": [
        {
          "name": "stdout",
          "output_type": "stream",
          "text": [
            "Max VC DrawDown from date 20071031 to date 20090227\n"
          ]
        }
      ],
      "source": [
        "print(f'Max VC DrawDown from date {begdate} to date {enddate}')"
      ]
    },
    {
      "cell_type": "markdown",
      "metadata": {
        "id": "UHgakqnCJ3fz"
      },
      "source": [
        "g. Checking normality"
      ]
    },
    {
      "cell_type": "code",
      "execution_count": null,
      "metadata": {
        "id": "-vraTnJFJ3f0",
        "outputId": "8d0cdab3-244d-4e0c-bf6a-9242f77e7aad"
      },
      "outputs": [
        {
          "data": {
            "text/plain": [
              "(array([  1.,   2.,   5.,  32., 107., 295., 311.,  93.,  15.,   3.]),\n",
              " array([-0.21763043, -0.17956269, -0.14149496, -0.10342723, -0.0653595 ,\n",
              "        -0.02729176,  0.01077597,  0.0488437 ,  0.08691143,  0.12497917,\n",
              "         0.1630469 ]),\n",
              " <a list of 10 Patch objects>)"
            ]
          },
          "execution_count": 71,
          "metadata": {},
          "output_type": "execute_result"
        },
        {
          "data": {
            "image/png": "[encoded data removed]",
            "text/plain": [
              "<Figure size 432x288 with 1 Axes>"
            ]
          },
          "metadata": {
            "needs_background": "light"
          },
          "output_type": "display_data"
        }
      ],
      "source": [
        "plt.hist(returns)"
      ]
    },
    {
      "cell_type": "markdown",
      "metadata": {
        "id": "ZC0wYk88J3f0"
      },
      "source": [
        "Looking at the histogram, skewness and kurtosis, we conclude xxx."
      ]
    },
    {
      "cell_type": "markdown",
      "metadata": {
        "id": "zanAr0TRJ3f0"
      },
      "source": [
        "### Question 2.2"
      ]
    },
    {
      "cell_type": "markdown",
      "metadata": {
        "id": "jpUibeaVJ3f0"
      },
      "source": [
        "We first setup the Sharpe ratio function for the optimization problem. "
      ]
    },
    {
      "cell_type": "code",
      "execution_count": null,
      "metadata": {
        "id": "g78WJ_oNJ3f0"
      },
      "outputs": [],
      "source": [
        "def Shratio(w,mu,Sigma,Rf): \n",
        "    portfolio_return = np.sum(mu * w) - Rf    # portfolio excess return\n",
        "    portfolio_vol    = np.sqrt(np.dot(w.T, np.dot(Sigma,w)))  # portfolio volatility\n",
        "    return portfolio_return / portfolio_vol"
      ]
    },
    {
      "cell_type": "markdown",
      "metadata": {
        "id": "UCZqooeVJ3f0"
      },
      "source": [
        "We now need to set the risk free rate and select the number of assets in our portfolio."
      ]
    },
    {
      "cell_type": "code",
      "execution_count": null,
      "metadata": {
        "id": "nyq8YqnTJ3f0",
        "outputId": "2f952433-db2f-48a3-95ec-fcc984ac29e4"
      },
      "outputs": [
        {
          "data": {
            "text/plain": [
              "8.1e-05"
            ]
          },
          "execution_count": 27,
          "metadata": {},
          "output_type": "execute_result"
        }
      ],
      "source": [
        "Rf = rfrate[len(rfrate)-1]  # risk free rate\n",
        "n = 2                      # number of assets\n",
        "tbonds_ret = df.iloc[:,4]   # tbonds\n",
        "tbills_ret =df.iloc[:,6]    # tbills\n",
        "Rf"
      ]
    },
    {
      "cell_type": "markdown",
      "metadata": {
        "id": "M8mEBiy9J3f0"
      },
      "source": [
        "Combine stock, and bond returns in to a matrix, calculate the mean return of all assets, and the covariance."
      ]
    },
    {
      "cell_type": "code",
      "execution_count": null,
      "metadata": {
        "id": "PG-f2iKbJ3f0",
        "outputId": "31cc5c00-6909-4427-e0c9-f0fa3e31ac7d"
      },
      "outputs": [
        {
          "data": {
            "text/plain": [
              "array([[1.72729425e-03, 5.52795606e-05],\n",
              "       [5.52795606e-05, 4.27534215e-04]])"
            ]
          },
          "execution_count": 28,
          "metadata": {},
          "output_type": "execute_result"
        }
      ],
      "source": [
        "ret = np.concatenate((np.expand_dims(returns,1), np.expand_dims(tbonds_ret,1)),axis = 1)\n",
        "mu = np.mean(ret, axis = 0)\n",
        "Sigma = np.cov(ret, rowvar = False)\n",
        "Sigma"
      ]
    },
    {
      "cell_type": "markdown",
      "metadata": {
        "id": "zSBnXa2dJ3f0"
      },
      "source": [
        "Set the initial weights to be equal"
      ]
    },
    {
      "cell_type": "code",
      "execution_count": null,
      "metadata": {
        "id": "f7P-shi6J3f0",
        "outputId": "f77a37c6-3355-41a9-ec78-919d86d4f9cb"
      },
      "outputs": [
        {
          "data": {
            "text/plain": [
              "array([[0.5],\n",
              "       [0.5]])"
            ]
          },
          "execution_count": 29,
          "metadata": {},
          "output_type": "execute_result"
        }
      ],
      "source": [
        "w0 = np.ones((n,1))/n \n",
        "w0"
      ]
    },
    {
      "cell_type": "markdown",
      "metadata": {
        "id": "0AwhBGC7J3f1"
      },
      "source": [
        "Set the constraint condition and solve for the tangency portfolio."
      ]
    },
    {
      "cell_type": "code",
      "execution_count": null,
      "metadata": {
        "id": "x_PPmWO7J3f1",
        "outputId": "420f7380-6faa-424f-ac8c-cfbdc8fa36ff"
      },
      "outputs": [
        {
          "name": "stdout",
          "output_type": "stream",
          "text": [
            "optimal weights are [0.27653573 0.72346427] with Sharpe ratio 0.28\n"
          ]
        }
      ],
      "source": [
        "cons = ({'type' : 'eq', 'fun': lambda x: x[0] + x[1] - 1}) # portfolio weights sum to 1\n",
        "\n",
        "# solve for tangency portfolio\n",
        "sol = scp.optimize.minimize(lambda w: -Shratio(w, mu, Sigma, Rf), x0 = w0, constraints = cons) \n",
        "w_uncon = sol.x\n",
        "val = -sol.fun\n",
        "\n",
        "print(f'optimal weights are {w_uncon} with Sharpe ratio {val:.2}')\n"
      ]
    },
    {
      "cell_type": "markdown",
      "metadata": {
        "id": "2LClR_xbJ3f1"
      },
      "source": [
        "Calculate the mean and variance of the tangency portfolio, and the weight on the portfolio."
      ]
    },
    {
      "cell_type": "code",
      "execution_count": null,
      "metadata": {
        "id": "Mjcn_PIBJ3f1"
      },
      "outputs": [],
      "source": [
        "#### add risk-free asset\n",
        "gam = 5                                         # gamma: risk aversion coefficient\n",
        "mu_uncon  = w_uncon.T.dot(mu)                   # mean of tangency portfolio\n",
        "var_uncon = np.dot(w_uncon.T, np.dot(Sigma,w_uncon))                                    # variance of tangency portfolio\n",
        "wT_con    =(mu_uncon-Rf)/(gam*var_uncon)                                    # weight to be put in the tangency when maximizing mean variance utility\n",
        "rcon      = wT_con*mu_uncon + (1-wT_con)*Rf"
      ]
    },
    {
      "cell_type": "code",
      "execution_count": null,
      "metadata": {
        "id": "Ya24aOhRZi5_",
        "outputId": "c4ee6880-1a89-437f-d08a-fda550496dde"
      },
      "outputs": [
        {
          "data": {
            "text/plain": [
              "array([0.27653573, 0.72346427])"
            ]
          },
          "execution_count": 32,
          "metadata": {},
          "output_type": "execute_result"
        }
      ],
      "source": [
        "c=np.dot(Sigma,w_uncon)\n",
        "w_uncon\n"
      ]
    },
    {
      "cell_type": "code",
      "execution_count": null,
      "metadata": {
        "id": "1NZpW-j6J3f1",
        "outputId": "cb6c40db-1113-498f-e4f2-172014767ac2"
      },
      "outputs": [
        {
          "name": "stdout",
          "output_type": "stream",
          "text": [
            "The mean of the tnagency portfolio is :0.0055\n",
            "The variance of the tangency portfolio is : 0.00038\n",
            "The weight on the risky portfolio is : 2.8\n",
            "The return of the tangency portfolio is : 0.015\n"
          ]
        }
      ],
      "source": [
        "print(f'The mean of the tnagency portfolio is :{mu_uncon:.2}')\n",
        "print(f'The variance of the tangency portfolio is : {var_uncon:.2}')\n",
        "print(f'The weight on the risky portfolio is : {wT_con:.2}')\n",
        "print(f'The return of the tangency portfolio is : {rcon:.2}')\n"
      ]
    },
    {
      "cell_type": "markdown",
      "metadata": {
        "id": "UX09-ZgOJ3f1"
      },
      "source": [
        "### Question 2.3"
      ]
    },
    {
      "cell_type": "code",
      "execution_count": null,
      "metadata": {
        "id": "jfwqid3mJ3f1"
      },
      "outputs": [],
      "source": [
        "delta = tbonds_ret - returns\n",
        "sumd=0\n",
        "for i in delta:\n",
        "    if i>0:\n",
        "        sumd+=1\n",
        "    \n",
        "under = sumd / dim"
      ]
    },
    {
      "cell_type": "code",
      "execution_count": null,
      "metadata": {
        "id": "tbv6-rntJ3f1",
        "outputId": "0ef501ed-e9d1-4602-b097-9d0518c485c6"
      },
      "outputs": [
        {
          "name": "stdout",
          "output_type": "stream",
          "text": [
            "a. Stocks underperform bonds approx. 43.98% of the time.\n"
          ]
        }
      ],
      "source": [
        "print(f'a. Stocks underperform bonds approx. {100*under:.4}% of the time.')"
      ]
    },
    {
      "cell_type": "code",
      "execution_count": null,
      "metadata": {
        "id": "4f_ZV7nsJ3f1"
      },
      "outputs": [],
      "source": [
        "def CumReturnsAndDeltas(df, num_months, dim):\n",
        "    \n",
        "    ret =[]\n",
        "    delta = []\n",
        "    stk=[]\n",
        "    bond=[]\n",
        "    for i in range(num_months-1, dim):\n",
        "        ret.append(np.array([(df.iloc[i,2] / df.iloc[i-num_months+1,2]) - 1,          # Stocks\n",
        "                                 ( df.iloc[i,5] / df.iloc[i-num_months+1,5] ) - 1,    # Bonds\n",
        "                                 ( df.iloc[i,7] / df.iloc[i-num_months+1,7] ) - 1,    # T-bill\n",
        "                                 ( df.iloc[i,11] / df.iloc[i-num_months+1,11] ) - 1,  # BTC\n",
        "                                 ( df.iloc[i,14] / df.iloc[i-num_months+1,14] ) - 1,  # Gold\n",
        "                                 ( df.iloc[i,9] / df.iloc[i-num_months+1,9] ) - 1 ])) # Inflation\n",
        "        delta.append(ret[i-num_months+1][1]- ret[i-num_months+1][0])\n",
        "\n",
        "    ret = np.array(ret)\n",
        "    delta = np.array(delta)\n",
        "    stk.append(ret[i-num_months+1][0])\n",
        "    bond=stk.append(ret[i-num_months+1][1])\n",
        "    return ret, delta \n",
        "\n"
      ]
    },
    {
      "cell_type": "code",
      "execution_count": null,
      "metadata": {
        "id": "yzrQ_PiWJ3f1"
      },
      "outputs": [],
      "source": [
        "ret_cumulative_1yr, delta_1yr = CumReturnsAndDeltas(df, 12, dim)\n",
        "sumd1=0\n",
        "for i in delta_1yr:\n",
        "    if i>0:\n",
        "        sumd1+=1\n",
        "delt_1yr=sumd1 / delta_1yr.shape[0]\n",
        "\n",
        "ret_cumulative_5yr, delta_5yr = CumReturnsAndDeltas(df, 60, dim)\n",
        "sumd2=0\n",
        "for i in delta_5yr:\n",
        "    if i>0:\n",
        "        sumd2+=1\n",
        "\n",
        "\n",
        "ret_cumulative_10yr, delta_10yr = CumReturnsAndDeltas(df, 120, dim)\n",
        "sumd3=0\n",
        "for i in delta_10yr:\n",
        "    if i>0:\n",
        "        sumd3+=1\n",
        "delt_10yr=sumd3 / delta_10yr.shape[0]"
      ]
    },
    {
      "cell_type": "code",
      "execution_count": null,
      "metadata": {
        "id": "JjE0etO1J3f1",
        "outputId": "b1f47b5f-dfd0-4e70-92b5-de1b92a543e0"
      },
      "outputs": [
        {
          "name": "stdout",
          "output_type": "stream",
          "text": [
            "b.i At the 1 year horizon stocks underperformed bonds 40.09% of the time.\n"
          ]
        }
      ],
      "source": [
        "print( f'b.i At the 1 year horizon stocks underperformed bonds {delt_1yr*100:.4}% of the time.')"
      ]
    },
    {
      "cell_type": "code",
      "execution_count": null,
      "metadata": {
        "id": "qwJ13g0oJ3f2",
        "outputId": "47800d0a-8b3a-4f10-d43f-e543dde34d6c"
      },
      "outputs": [
        {
          "name": "stdout",
          "output_type": "stream",
          "text": [
            "b.ii At the 5 year horizon stocks underperformed bonds 40.87% of the time.\n"
          ]
        }
      ],
      "source": [
        "print(f'b.ii At the 5 year horizon stocks underperformed bonds {delt_5yr*100:.4}% of the time.')"
      ]
    },
    {
      "cell_type": "code",
      "execution_count": null,
      "metadata": {
        "id": "USWej32IJ3f2",
        "outputId": "8139731c-de02-4bf3-dfc4-8cf2b8dc3acb"
      },
      "outputs": [
        {
          "name": "stdout",
          "output_type": "stream",
          "text": [
            "b.iii At the 10 year horizon stocks underperformed bonds 43.09% of the time.\n"
          ]
        }
      ],
      "source": [
        "print(f'b.iii At the 10 year horizon stocks underperformed bonds {delt_10yr*100:.4}% of the time.')"
      ]
    },
    {
      "cell_type": "code",
      "execution_count": null,
      "metadata": {
        "id": "clEJ3R2TZi6A"
      },
      "outputs": [],
      "source": [
        "def CumStocksAndBonds(df, num_months, dim):\n",
        "    \n",
        "    ret =[]\n",
        "    stk=[]\n",
        "    bond=[]\n",
        "    tbl=[]\n",
        "    btc=[]\n",
        "    gld=[]\n",
        "    inf=[]\n",
        "    for i in range(num_months-1, dim):\n",
        "        ret.append(np.array([(df.iloc[i,2] / df.iloc[i-num_months+1,2]) - 1,          # Stocks\n",
        "                                 ( df.iloc[i,5] / df.iloc[i-num_months+1,5] ) - 1,    # Bonds\n",
        "                                 ( df.iloc[i,7] / df.iloc[i-num_months+1,7] ) - 1,    # T-bill\n",
        "                                 ( df.iloc[i,11] / df.iloc[i-num_months+1,11] ) - 1,  # BTC\n",
        "                                 ( df.iloc[i,14] / df.iloc[i-num_months+1,14] ) - 1,  # Gold\n",
        "                                 ( df.iloc[i,9] / df.iloc[i-num_months+1,9] ) - 1 ])) # Inflation\n",
        "        stk.append(ret[i-num_months+1][0])\n",
        "        bond.append(ret[i-num_months+1][1])\n",
        "        tbl.append(ret[i-num_months+1][2])\n",
        "        btc.append(ret[i-num_months+1][3])\n",
        "        gld.append(ret[i-num_months+1][4])\n",
        "        inf.append(ret[i-num_months+1][5])\n",
        "    ret = np.array(ret)\n",
        "    stk = np.array(stk)\n",
        "    bond= np.array(bond)\n",
        "    tbl = np.array(tbl)\n",
        "    btc = np.array(btc)\n",
        "    gld = np.array(gld)\n",
        "    inf = np.array(inf)\n",
        "    return  stk,bond\n"
      ]
    },
    {
      "cell_type": "code",
      "execution_count": null,
      "metadata": {
        "id": "vEM0fQOBZi6A"
      },
      "outputs": [],
      "source": [
        "stk_1yr, bond_1yr = CumStocksAndBonds(df, 12, dim)"
      ]
    },
    {
      "cell_type": "code",
      "execution_count": null,
      "metadata": {
        "id": "gopd0YyLZi6A",
        "outputId": "6459554a-885b-4da4-a8cb-5f7cf0e0f280"
      },
      "outputs": [
        {
          "name": "stdout",
          "output_type": "stream",
          "text": [
            " At the 1 year horizon, the variance of stocks returns is 2.26% \n",
            " At the 1 year horizon, the variance of bonds returns is 0.6088% \n"
          ]
        }
      ],
      "source": [
        "var_stk_1yr=np.var(stk_1yr)\n",
        "var_bond_1yr=np.var(bond_1yr)\n",
        "print( f' At the 1 year horizon, the variance of stocks returns is {var_stk_1yr*100:.4}% ')\n",
        "print( f' At the 1 year horizon, the variance of bonds returns is {var_bond_1yr*100:.4}% ')"
      ]
    },
    {
      "cell_type": "code",
      "execution_count": null,
      "metadata": {
        "id": "zfwvEjtqZi6B",
        "outputId": "9cbd702e-dc94-4f9f-81c3-ccf32bb76f47"
      },
      "outputs": [
        {
          "name": "stdout",
          "output_type": "stream",
          "text": [
            " At the 5 year horizon, the variance of stocks returns is 21.6% \n",
            " At the 5 year horizon, the variance of bonds returns is 7.57% \n"
          ]
        }
      ],
      "source": [
        "stk_5yr, bond_5yr = CumStocksAndBonds(df, 60, dim)\n",
        "var_stk_5yr=np.var(stk_5yr)\n",
        "var_bond_5yr=np.var(bond_5yr)\n",
        "print( f' At the 5 year horizon, the variance of stocks returns is {var_stk_5yr*100:.4}% ')\n",
        "print( f' At the 5 year horizon, the variance of bonds returns is {var_bond_5yr*100:.4}% ')"
      ]
    },
    {
      "cell_type": "code",
      "execution_count": null,
      "metadata": {
        "id": "3qwoJovDZi6B",
        "outputId": "e0767b3d-e384-4705-8b55-68dd4da6ef62"
      },
      "outputs": [
        {
          "name": "stdout",
          "output_type": "stream",
          "text": [
            " At the 10 year horizon, the variance of stocks returns is 76.57% \n",
            " At the 10 year horizon, the variance of bonds returns is 37.25% \n"
          ]
        }
      ],
      "source": [
        "stk_10yr, bond_10yr = CumStocksAndBonds(df, 120, dim)\n",
        "var_stk_10yr=np.var(stk_10yr)\n",
        "var_bond_10yr=np.var(bond_10yr)\n",
        "print( f' At the 10 year horizon, the variance of stocks returns is {var_stk_10yr*100:.4}% ')\n",
        "print( f' At the 10 year horizon, the variance of bonds returns is {var_bond_10yr*100:.4}% ')"
      ]
    },
    {
      "cell_type": "markdown",
      "metadata": {
        "id": "3av0U1Y5J3f2"
      },
      "source": [
        "## PART 3"
      ]
    },
    {
      "cell_type": "markdown",
      "metadata": {
        "id": "pUAfbgfYZi6B"
      },
      "source": [
        "US stocks\n"
      ]
    },
    {
      "cell_type": "code",
      "execution_count": null,
      "metadata": {
        "id": "CVx3PyHsZi6B"
      },
      "outputs": [],
      "source": [
        "def ReturnsAndCov(df, num_months, dim):\n",
        "    \n",
        "    ret =[]\n",
        "    stk=[]\n",
        "    tbl=[]\n",
        "    btc=[]\n",
        "    gld=[]\n",
        "    inf=[]\n",
        "    for i in range(num_months-1, dim):\n",
        "        ret.append(np.array([(df.iloc[i,2] / df.iloc[i-num_months+1,2]) - 1,          # Stocks\n",
        "                                 ( df.iloc[i,5] / df.iloc[i-num_months+1,5] ) - 1,    # Bonds\n",
        "                                 ( df.iloc[i,7] / df.iloc[i-num_months+1,7] ) - 1,    # T-bill\n",
        "                                 ( df.iloc[i,11] / df.iloc[i-num_months+1,11] ) - 1,  # BTC\n",
        "                                 ( df.iloc[i,14] / df.iloc[i-num_months+1,14] ) - 1,  # Gold\n",
        "                                 ( df.iloc[i,9] / df.iloc[i-num_months+1,9] ) - 1 ])) # Inflation\n",
        "        stk.append(ret[i-num_months+1][0])\n",
        "        tbl.append(ret[i-num_months+1][2])\n",
        "        btc.append(ret[i-num_months+1][3])\n",
        "        gld.append(ret[i-num_months+1][4])\n",
        "        inf.append(ret[i-num_months+1][5])\n",
        "    ret = np.array(ret)\n",
        "    stk = np.array(stk)\n",
        "    tbl = np.array(tbl)\n",
        "    btc = np.array(btc)\n",
        "    gld = np.array(gld)\n",
        "    inf = np.array(inf)\n",
        "    return  stk,tbl,btc,gld,inf\n"
      ]
    },
    {
      "cell_type": "code",
      "execution_count": null,
      "metadata": {
        "id": "sAIOsfVeZi6B"
      },
      "outputs": [],
      "source": [
        "stk_3m,tbl_3m,btc_3m,gld_3m,inf_3m=ReturnsAndCov(df, 3, dim)"
      ]
    },
    {
      "cell_type": "code",
      "execution_count": null,
      "metadata": {
        "id": "RbvAWP7zZi6B"
      },
      "outputs": [],
      "source": [
        "btc_3m = btc_3m[~np.isnan(btc_3m)]\n",
        "gld_3m=gld_3m[~np.isnan(gld_3m)]"
      ]
    },
    {
      "cell_type": "code",
      "execution_count": null,
      "metadata": {
        "id": "swtkRHnoZi6C",
        "outputId": "f4898529-97b3-404c-83b2-abfb398cb651"
      },
      "outputs": [
        {
          "name": "stdout",
          "output_type": "stream",
          "text": [
            "The covirance of three months stocks and inflation is -0.069678\n",
            "The covirance of three months T-bills and inflation is 0.48414\n",
            "The covirance of three months Bitcoin and inflation is 0.075066\n",
            "The covirance of three months gold and inflation is 0.033833\n"
          ]
        }
      ],
      "source": [
        "a3=np.corrcoef(stk_3m,inf_3m)[0][1]\n",
        "b3=np.corrcoef(tbl_3m,inf_3m)[0][1]\n",
        "c3=np.corrcoef(btc_3m,inf_3m[777:])[0][1]\n",
        "d3=np.corrcoef(gld_3m,inf_3m[608:])[0][1]\n",
        "print(f'The covirance of three months stocks and inflation is {a3:.5}')\n",
        "print(f'The covirance of three months T-bills and inflation is {b3:.5}')\n",
        "print(f'The covirance of three months Bitcoin and inflation is {c3:.5}')\n",
        "print(f'The covirance of three months gold and inflation is {d3:.5}')"
      ]
    },
    {
      "cell_type": "code",
      "execution_count": null,
      "metadata": {
        "id": "IWitorNoZi6C"
      },
      "outputs": [],
      "source": [
        "stk_12m,tbl_12m,btc_12m,gld_12m,inf_12m=ReturnsAndCov(df, 12, dim)"
      ]
    },
    {
      "cell_type": "code",
      "execution_count": null,
      "metadata": {
        "id": "YExX23vNZi6C"
      },
      "outputs": [],
      "source": [
        "btc_12m = btc_12m[~np.isnan(btc_12m)]\n",
        "gld_12m=gld_12m[~np.isnan(gld_12m)]"
      ]
    },
    {
      "cell_type": "code",
      "execution_count": null,
      "metadata": {
        "scrolled": true,
        "id": "kt5_x-xCZi6C",
        "outputId": "c782343f-7d75-494e-90a4-9ecd759a2c2a"
      },
      "outputs": [
        {
          "name": "stdout",
          "output_type": "stream",
          "text": [
            "The covirance of 12 months stocks and inflation is -0.16757\n",
            "The covirance of 12 months T-bills and inflation is 0.63839\n",
            "The covirance of 12 months Bitcoin and inflation is 0.17816\n",
            "The covirance of 12 months gold and inflation is 0.2095\n"
          ]
        }
      ],
      "source": [
        "a12=np.corrcoef(stk_12m,inf_12m)[0][1]\n",
        "b12=np.corrcoef(tbl_12m,inf_12m)[0][1]\n",
        "c12=np.corrcoef(btc_12m,inf_12m[777:])[0][1]\n",
        "d12=np.corrcoef(gld_12m,inf_12m[608:])[0][1]\n",
        "print(f'The covirance of 12 months stocks and inflation is {a12:.5}')\n",
        "print(f'The covirance of 12 months T-bills and inflation is {b12:.5}')\n",
        "print(f'The covirance of 12 months Bitcoin and inflation is {c12:.5}')\n",
        "print(f'The covirance of 12 months gold and inflation is {d12:.5}')"
      ]
    },
    {
      "cell_type": "code",
      "execution_count": null,
      "metadata": {
        "id": "TG_Y3FTTZi6C"
      },
      "outputs": [],
      "source": [
        "stk_24m,tbl_24m,btc_24m,gld_24m,inf_24m=ReturnsAndCov(df, 24, dim)"
      ]
    },
    {
      "cell_type": "code",
      "execution_count": null,
      "metadata": {
        "id": "2tPZaZm7Zi6C"
      },
      "outputs": [],
      "source": [
        "btc_24m = btc_24m[~np.isnan(btc_24m)]\n",
        "gld_24m=gld_24m[~np.isnan(gld_24m)]"
      ]
    },
    {
      "cell_type": "code",
      "execution_count": null,
      "metadata": {
        "id": "uqC9Oh2MZi6C",
        "outputId": "80f55716-1bda-48f0-eb6c-a6a91f3eeece"
      },
      "outputs": [
        {
          "name": "stdout",
          "output_type": "stream",
          "text": [
            "The correlation of 3 months stocks and inflation is -0.069678\n",
            "The correlation of 3 months T-bills and inflation is 0.48414\n",
            "The correlation of 3 months Bitcoin and inflation is 0.075066\n",
            "The correlation of 3 months gold and inflation is 0.033833\n",
            "The correlation of 12 months stocks and inflation is -0.16757\n",
            "The correlation of 12 months T-bills and inflation is 0.63839\n",
            "The correlation of 12 months Bitcoin and inflation is 0.17816\n",
            "The correlation of 12 months gold and inflation is 0.2095\n",
            "The correlation of 24 months stocks and inflation is -0.23049\n",
            "The correlation of 24 months T-bills and inflation is 0.70383\n",
            "The correlation of 24 months Bitcoin and inflation is 0.15062\n",
            "The correlation of 24 months gold and inflation is 0.40425\n"
          ]
        }
      ],
      "source": [
        "a24=np.corrcoef(stk_24m,inf_24m)[0][1]\n",
        "b24=np.corrcoef(tbl_24m,inf_24m)[0][1]\n",
        "c24=np.corrcoef(btc_24m,inf_24m[777:])[0][1]\n",
        "d24=np.corrcoef(gld_24m,inf_24m[608:])[0][1]\n",
        "print(f'The correlation of 3 months stocks and inflation is {a3:.5}')\n",
        "print(f'The correlation of 3 months T-bills and inflation is {b3:.5}')\n",
        "print(f'The correlation of 3 months Bitcoin and inflation is {c3:.5}')\n",
        "print(f'The correlation of 3 months gold and inflation is {d3:.5}')\n",
        "print(f'The correlation of 12 months stocks and inflation is {a12:.5}')\n",
        "print(f'The correlation of 12 months T-bills and inflation is {b12:.5}')\n",
        "print(f'The correlation of 12 months Bitcoin and inflation is {c12:.5}')\n",
        "print(f'The correlation of 12 months gold and inflation is {d12:.5}')\n",
        "print(f'The correlation of 24 months stocks and inflation is {a24:.5}')\n",
        "print(f'The correlation of 24 months T-bills and inflation is {b24:.5}')\n",
        "print(f'The correlation of 24 months Bitcoin and inflation is {c24:.5}')\n",
        "print(f'The correlation of 24 months gold and inflation is {d24:.5}')"
      ]
    },
    {
      "cell_type": "code",
      "execution_count": null,
      "metadata": {
        "id": "H-g6ovl7Zi6C"
      },
      "outputs": [],
      "source": []
    },
    {
      "cell_type": "code",
      "execution_count": null,
      "metadata": {
        "id": "HH35bx-KZi6C"
      },
      "outputs": [],
      "source": []
    }
  ],
  "metadata": {
    "colab": {
      "provenance": [],
      "include_colab_link": true
    },
    "kernelspec": {
      "display_name": "Python 3",
      "language": "python",
      "name": "python3"
    },
    "language_info": {
      "codemirror_mode": {
        "name": "ipython",
        "version": 3
      },
      "file_extension": ".py",
      "mimetype": "text/x-python",
      "name": "python",
      "nbconvert_exporter": "python",
      "pygments_lexer": "ipython3",
      "version": "3.7.4"
    },
    "vscode": {
      "interpreter": {
        "hash": "639e406a5771ae6be96f4b944df43e571a63d1198e3617b1046929a34f060e05"
      }
    }
  },
  "nbformat": 4,
  "nbformat_minor": 0
}