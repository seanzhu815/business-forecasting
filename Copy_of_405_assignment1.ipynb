{
  "nbformat": 4,
  "nbformat_minor": 0,
  "metadata": {
    "colab": {
      "provenance": [],
      "collapsed_sections": [
        "UrPu8y-J4uCY",
        "61-FvU3_w80G",
        "vzFglN1K9p5_",
        "IY3pV-wX1g0z",
        "dy-aCK5a4RfG",
        "kjKwPtP5z4SE",
        "DAVvFJNq2-po",
        "uwVM1MN75x37",
        "txPYJsyV-zgC",
        "8XrXEaUX-5Aq",
        "GM4bDhIBBL2x",
        "gqQ-fZVlMoiT",
        "z-LiL3c8NiUA",
        "bNo6vXofNrgt",
        "SFZAahhZPj9a",
        "KxdFv3ZmtPG1",
        "9RvGxeemuWKh",
        "NmbXwA2lwH7y",
        "LS7FYeox5REL"
      ],
      "authorship_tag": "ABX9TyO8wQe5f3axRJA+VxQhRMeJ",
      "include_colab_link": true
    },
    "kernelspec": {
      "name": "python3",
      "display_name": "Python 3"
    },
    "language_info": {
      "name": "python"
    }
  },
  "cells": [
    {
      "cell_type": "markdown",
      "metadata": {
        "id": "view-in-github",
        "colab_type": "text"
      },
      "source": [
        "<a href=\"https://colab.research.google.com/github/seanzhu815/business-forecasting/blob/main/Copy_of_405_assignment1.ipynb\" target=\"_parent\"><img src=\"https://colab.research.google.com/assets/colab-badge.svg\" alt=\"Open In Colab\"/></a>"
      ]
    },
    {
      "cell_type": "markdown",
      "source": [
        "#Part I"
      ],
      "metadata": {
        "id": "UrPu8y-J4uCY"
      }
    },
    {
      "cell_type": "code",
      "source": [
        "from google.colab import files\n",
        "uploaded = files.upload()"
      ],
      "metadata": {
        "id": "cZso1YY4_7Vz",
        "colab": {
          "base_uri": "https://localhost:8080/",
          "height": 215
        },
        "outputId": "5eebffdf-ce55-4e3f-dfb3-4c3f82d5043b"
      },
      "execution_count": null,
      "outputs": [
        {
          "output_type": "display_data",
          "data": {
            "text/plain": [
              "<IPython.core.display.HTML object>"
            ],
            "text/html": [
              "\n",
              "     <input type=\"file\" id=\"files-d9ea43c0-d5ae-4a42-ad69-e79658b17818\" name=\"files[]\" multiple disabled\n",
              "        style=\"border:none\" />\n",
              "     <output id=\"result-d9ea43c0-d5ae-4a42-ad69-e79658b17818\">\n",
              "      Upload widget is only available when the cell has been executed in the\n",
              "      current browser session. Please rerun this cell to enable.\n",
              "      </output>\n",
              "      <script>// Copyright 2017 Google LLC\n",
              "//\n",
              "// Licensed under the Apache License, Version 2.0 (the \"License\");\n",
              "// you may not use this file except in compliance with the License.\n",
              "// You may obtain a copy of the License at\n",
              "//\n",
              "//      http://www.apache.org/licenses/LICENSE-2.0\n",
              "//\n",
              "// Unless required by applicable law or agreed to in writing, software\n",
              "// distributed under the License is distributed on an \"AS IS\" BASIS,\n",
              "// WITHOUT WARRANTIES OR CONDITIONS OF ANY KIND, either express or implied.\n",
              "// See the License for the specific language governing permissions and\n",
              "// limitations under the License.\n",
              "\n",
              "/**\n",
              " * @fileoverview Helpers for google.colab Python module.\n",
              " */\n",
              "(function(scope) {\n",
              "function span(text, styleAttributes = {}) {\n",
              "  const element = document.createElement('span');\n",
              "  element.textContent = text;\n",
              "  for (const key of Object.keys(styleAttributes)) {\n",
              "    element.style[key] = styleAttributes[key];\n",
              "  }\n",
              "  return element;\n",
              "}\n",
              "\n",
              "// Max number of bytes which will be uploaded at a time.\n",
              "const MAX_PAYLOAD_SIZE = 100 * 1024;\n",
              "\n",
              "function _uploadFiles(inputId, outputId) {\n",
              "  const steps = uploadFilesStep(inputId, outputId);\n",
              "  const outputElement = document.getElementById(outputId);\n",
              "  // Cache steps on the outputElement to make it available for the next call\n",
              "  // to uploadFilesContinue from Python.\n",
              "  outputElement.steps = steps;\n",
              "\n",
              "  return _uploadFilesContinue(outputId);\n",
              "}\n",
              "\n",
              "// This is roughly an async generator (not supported in the browser yet),\n",
              "// where there are multiple asynchronous steps and the Python side is going\n",
              "// to poll for completion of each step.\n",
              "// This uses a Promise to block the python side on completion of each step,\n",
              "// then passes the result of the previous step as the input to the next step.\n",
              "function _uploadFilesContinue(outputId) {\n",
              "  const outputElement = document.getElementById(outputId);\n",
              "  const steps = outputElement.steps;\n",
              "\n",
              "  const next = steps.next(outputElement.lastPromiseValue);\n",
              "  return Promise.resolve(next.value.promise).then((value) => {\n",
              "    // Cache the last promise value to make it available to the next\n",
              "    // step of the generator.\n",
              "    outputElement.lastPromiseValue = value;\n",
              "    return next.value.response;\n",
              "  });\n",
              "}\n",
              "\n",
              "/**\n",
              " * Generator function which is called between each async step of the upload\n",
              " * process.\n",
              " * @param {string} inputId Element ID of the input file picker element.\n",
              " * @param {string} outputId Element ID of the output display.\n",
              " * @return {!Iterable<!Object>} Iterable of next steps.\n",
              " */\n",
              "function* uploadFilesStep(inputId, outputId) {\n",
              "  const inputElement = document.getElementById(inputId);\n",
              "  inputElement.disabled = false;\n",
              "\n",
              "  const outputElement = document.getElementById(outputId);\n",
              "  outputElement.innerHTML = '';\n",
              "\n",
              "  const pickedPromise = new Promise((resolve) => {\n",
              "    inputElement.addEventListener('change', (e) => {\n",
              "      resolve(e.target.files);\n",
              "    });\n",
              "  });\n",
              "\n",
              "  const cancel = document.createElement('button');\n",
              "  inputElement.parentElement.appendChild(cancel);\n",
              "  cancel.textContent = 'Cancel upload';\n",
              "  const cancelPromise = new Promise((resolve) => {\n",
              "    cancel.onclick = () => {\n",
              "      resolve(null);\n",
              "    };\n",
              "  });\n",
              "\n",
              "  // Wait for the user to pick the files.\n",
              "  const files = yield {\n",
              "    promise: Promise.race([pickedPromise, cancelPromise]),\n",
              "    response: {\n",
              "      action: 'starting',\n",
              "    }\n",
              "  };\n",
              "\n",
              "  cancel.remove();\n",
              "\n",
              "  // Disable the input element since further picks are not allowed.\n",
              "  inputElement.disabled = true;\n",
              "\n",
              "  if (!files) {\n",
              "    return {\n",
              "      response: {\n",
              "        action: 'complete',\n",
              "      }\n",
              "    };\n",
              "  }\n",
              "\n",
              "  for (const file of files) {\n",
              "    const li = document.createElement('li');\n",
              "    li.append(span(file.name, {fontWeight: 'bold'}));\n",
              "    li.append(span(\n",
              "        `(${file.type || 'n/a'}) - ${file.size} bytes, ` +\n",
              "        `last modified: ${\n",
              "            file.lastModifiedDate ? file.lastModifiedDate.toLocaleDateString() :\n",
              "                                    'n/a'} - `));\n",
              "    const percent = span('0% done');\n",
              "    li.appendChild(percent);\n",
              "\n",
              "    outputElement.appendChild(li);\n",
              "\n",
              "    const fileDataPromise = new Promise((resolve) => {\n",
              "      const reader = new FileReader();\n",
              "      reader.onload = (e) => {\n",
              "        resolve(e.target.result);\n",
              "      };\n",
              "      reader.readAsArrayBuffer(file);\n",
              "    });\n",
              "    // Wait for the data to be ready.\n",
              "    let fileData = yield {\n",
              "      promise: fileDataPromise,\n",
              "      response: {\n",
              "        action: 'continue',\n",
              "      }\n",
              "    };\n",
              "\n",
              "    // Use a chunked sending to avoid message size limits. See b/62115660.\n",
              "    let position = 0;\n",
              "    do {\n",
              "      const length = Math.min(fileData.byteLength - position, MAX_PAYLOAD_SIZE);\n",
              "      const chunk = new Uint8Array(fileData, position, length);\n",
              "      position += length;\n",
              "\n",
              "      const base64 = btoa(String.fromCharCode.apply(null, chunk));\n",
              "      yield {\n",
              "        response: {\n",
              "          action: 'append',\n",
              "          file: file.name,\n",
              "          data: base64,\n",
              "        },\n",
              "      };\n",
              "\n",
              "      let percentDone = fileData.byteLength === 0 ?\n",
              "          100 :\n",
              "          Math.round((position / fileData.byteLength) * 100);\n",
              "      percent.textContent = `${percentDone}% done`;\n",
              "\n",
              "    } while (position < fileData.byteLength);\n",
              "  }\n",
              "\n",
              "  // All done.\n",
              "  yield {\n",
              "    response: {\n",
              "      action: 'complete',\n",
              "    }\n",
              "  };\n",
              "}\n",
              "\n",
              "scope.google = scope.google || {};\n",
              "scope.google.colab = scope.google.colab || {};\n",
              "scope.google.colab._files = {\n",
              "  _uploadFiles,\n",
              "  _uploadFilesContinue,\n",
              "};\n",
              "})(self);\n",
              "</script> "
            ]
          },
          "metadata": {}
        },
        {
          "output_type": "stream",
          "name": "stdout",
          "text": [
            "Saving CPIAUCSL_2022.csv to CPIAUCSL_2022.csv\n",
            "Saving Data_year.csv to Data_year.csv\n",
            "Saving GOLD_2022.csv to GOLD_2022.csv\n",
            "Saving SP500_2022.csv to SP500_2022.csv\n",
            "Saving UNRATE_2022.csv to UNRATE_2022.csv\n"
          ]
        }
      ]
    },
    {
      "cell_type": "markdown",
      "source": [
        "##Question 1\n"
      ],
      "metadata": {
        "id": "61-FvU3_w80G"
      }
    },
    {
      "cell_type": "markdown",
      "source": [
        "### import data"
      ],
      "metadata": {
        "id": "vzFglN1K9p5_"
      }
    },
    {
      "cell_type": "code",
      "source": [
        "import pandas as pd\n",
        "import seaborn as sns\n",
        "from matplotlib import pyplot as plt\n",
        "import numpy as np\n",
        "#input the data of the 4 variables\n",
        "df1 = pd.read_csv('CPIAUCSL_2022.csv',index_col='Date', parse_dates=True)\n",
        "df2 = pd.read_csv('GOLD_2022.csv',index_col='Date', parse_dates=True)\n",
        "df3 = pd.read_csv('UNRATE_2022.csv',index_col='Date', parse_dates=True)\n",
        "df4 = pd.read_csv('SP500_2022.csv',index_col='Date', parse_dates=True)"
      ],
      "metadata": {
        "id": "d1bDP5AF9t5z"
      },
      "execution_count": null,
      "outputs": []
    },
    {
      "cell_type": "markdown",
      "source": [
        "### Time-series plot\n"
      ],
      "metadata": {
        "id": "IY3pV-wX1g0z"
      }
    },
    {
      "cell_type": "code",
      "source": [
        "\n",
        "#Produce a time-series plot for each variable\n",
        "fig, axes = plt.subplots(2, 2, figsize=(10, 6))\n",
        "\n",
        "df1['Date'] = df1.index\n",
        "df2['Date'] = df2.index\n",
        "df3['Date'] = df3.index\n",
        "df4['Date'] = df4.index\n",
        "\n",
        "sns.lineplot(ax=axes[0, 0],data=df1,x='Date', y='CPIAUCSL')\n",
        "sns.lineplot(ax=axes[0, 1],data=df2,x='Date', y='Close')\n",
        "sns.lineplot(ax=axes[1, 0],data=df3,x='Date', y='UNRATE')\n",
        "sns.lineplot(ax=axes[1, 1],data=df4,x='Date', y='SP500')\n",
        "\n"
      ],
      "metadata": {
        "id": "T1VOyPdcwKq8",
        "colab": {
          "base_uri": "https://localhost:8080/",
          "height": 406
        },
        "outputId": "c759e469-f04e-4f96-ae78-afbd6d07ca34"
      },
      "execution_count": null,
      "outputs": [
        {
          "output_type": "execute_result",
          "data": {
            "text/plain": [
              "<matplotlib.axes._subplots.AxesSubplot at 0x7f85d6c10e50>"
            ]
          },
          "metadata": {},
          "execution_count": 41
        },
        {
          "output_type": "display_data",
          "data": {
            "text/plain": [
              "<Figure size 720x432 with 4 Axes>"
            ],
            "image/png": "[encoded data removed]"
          },
          "metadata": {
            "needs_background": "light"
          }
        }
      ]
    },
    {
      "cell_type": "markdown",
      "source": [
        "### Transformed series plots"
      ],
      "metadata": {
        "id": "Tr1oN89bwlwG"
      }
    },
    {
      "cell_type": "code",
      "source": [
        "\n",
        "df1['log_first_difference_CPI']=np.log(df1['CPIAUCSL']/df1['CPIAUCSL'].shift(1)).dropna()\n",
        "df2['log_first_difference_GD']=np.log(df2['Close']/df2['Close'].shift(1)).dropna()\n",
        "df3['log_first_difference_UNR']=np.log(df3['UNRATE']/df3['UNRATE'].shift(1)).dropna()\n",
        "df4['log_first_difference_SP500']=np.log(df4['SP500']/df4['SP500'].shift(1)).dropna()\n",
        "\n",
        "df1.set_index('Date',drop=True)\n",
        "df2.set_index('Date',drop=True)\n",
        "df3.set_index('Date',drop=True)\n",
        "df4.set_index('Date',drop=True)\n",
        "\n",
        "fig, axes = plt.subplots(2, 2, figsize=(10, 6))\n",
        "sns.lineplot(ax=axes[0, 0],data=df1,x='Date', y='log_first_difference_CPI')\n",
        "sns.lineplot(ax=axes[0, 1],data=df2,x='Date', y='log_first_difference_GD')\n",
        "sns.lineplot(ax=axes[1, 0],data=df3,x='Date', y='log_first_difference_UNR')\n",
        "sns.lineplot(ax=axes[1, 1],data=df4,x='Date', y='log_first_difference_SP500')"
      ],
      "metadata": {
        "id": "5fCWFxtnwe37"
      },
      "execution_count": null,
      "outputs": []
    },
    {
      "cell_type": "markdown",
      "source": [
        "### Augmented Dickey-Fuller test to formally show that our variable is non-stationary."
      ],
      "metadata": {
        "id": "dy-aCK5a4RfG"
      }
    },
    {
      "cell_type": "code",
      "source": [
        "#a general function that returns the result of an ADF test regardless of the series chosen. \n",
        "from statsmodels.tsa.stattools import adfuller\n",
        "def adf_test(timeseries,x):\n",
        "    print(\"Results of Dickey-Fuller Test:\")\n",
        "    dftest = adfuller(timeseries, regression=x,autolag=\"AIC\")\n",
        "    dfoutput = pd.Series(\n",
        "        dftest[0:4],\n",
        "        index=[\n",
        "            \"Test Statistic\",\n",
        "            \"p-value\",\n",
        "            \"#Lags Used\",\n",
        "            \"Number of Observations Used\",\n",
        "        ],\n",
        "    )\n",
        "    for key, value in dftest[4].items():\n",
        "        dfoutput[\"Critical Value (%s)\" % key] = value\n",
        "    print(dfoutput)"
      ],
      "metadata": {
        "id": "cxEa7XGF4RJV"
      },
      "execution_count": null,
      "outputs": []
    },
    {
      "cell_type": "code",
      "source": [
        "adf_test(df1['CPIAUCSL'],'c')\n",
        "adf_test(df1['CPIAUCSL'],'nc')\n",
        "adf_test(df1['CPIAUCSL'],'ct')"
      ],
      "metadata": {
        "id": "nBJEbcZn4dEa"
      },
      "execution_count": null,
      "outputs": []
    },
    {
      "cell_type": "markdown",
      "source": [
        "We ran the ADF test three times to include different specifications of the ADF test. In none of the tests we were able to reject the null hypothesis of non-stationarity. Therefore, we conclude that our series definitely is non-stationary."
      ],
      "metadata": {
        "id": "d-ribh4F6QxM"
      }
    },
    {
      "cell_type": "code",
      "source": [
        "df1['CPIAUCSLlog'] = np.log(df1['CPIAUCSL'])\n",
        "df1['DCPIlog'] = df1['CPIAUCSLlog'].diff()\n",
        "adf_test(df1['DCPIlog'].iloc[1:],'c')"
      ],
      "metadata": {
        "id": "mUbZTu467K32"
      },
      "execution_count": null,
      "outputs": []
    },
    {
      "cell_type": "markdown",
      "source": [
        "We reject the null hypothesis of non-stationarity. Therefore it is enough to difference our variable once.We just difference it once and it become stationary."
      ],
      "metadata": {
        "id": "mSg7NfK28E-y"
      }
    },
    {
      "cell_type": "markdown",
      "source": [
        "##Question2\n"
      ],
      "metadata": {
        "id": "kjKwPtP5z4SE"
      }
    },
    {
      "cell_type": "markdown",
      "source": [
        "Auto-correlation "
      ],
      "metadata": {
        "id": "grNgH3a51qug"
      }
    },
    {
      "cell_type": "code",
      "source": [
        "import statsmodels.api as sm\n",
        "import warnings\n",
        "warnings.filterwarnings(\"ignore\")"
      ],
      "metadata": {
        "id": "EWSQGBJJxJPK"
      },
      "execution_count": null,
      "outputs": []
    },
    {
      "cell_type": "code",
      "source": [
        "sm.graphics.tsa.plot_acf(df1['CPIAUCSL'].squeeze(), lags=10)\n",
        "sm.graphics.tsa.plot_acf(df2['Close'].squeeze(), lags=10)\n",
        "sm.graphics.tsa.plot_acf(df3['UNRATE'].squeeze(), lags=10)\n",
        "sm.graphics.tsa.plot_acf(df4['SP500'].squeeze(), lags=10)"
      ],
      "metadata": {
        "id": "Ir-1u93xxx5g",
        "colab": {
          "base_uri": "https://localhost:8080/",
          "height": 1000
        },
        "outputId": "7c0d3aea-8185-4f4a-a75d-476c7019e920"
      },
      "execution_count": null,
      "outputs": [
        {
          "output_type": "execute_result",
          "data": {
            "text/plain": [
              "<Figure size 432x288 with 1 Axes>"
            ],
            "image/png": "[encoded data removed]"
          },
          "metadata": {},
          "execution_count": 10
        },
        {
          "output_type": "display_data",
          "data": {
            "text/plain": [
              "<Figure size 432x288 with 1 Axes>"
            ],
            "image/png": "[encoded data removed]"
          },
          "metadata": {
            "needs_background": "light"
          }
        },
        {
          "output_type": "display_data",
          "data": {
            "text/plain": [
              "<Figure size 432x288 with 1 Axes>"
            ],
            "image/png": "[encoded data removed]"
          },
          "metadata": {
            "needs_background": "light"
          }
        },
        {
          "output_type": "display_data",
          "data": {
            "text/plain": [
              "<Figure size 432x288 with 1 Axes>"
            ],
            "image/png": "[encoded data removed]"
          },
          "metadata": {
            "needs_background": "light"
          }
        },
        {
          "output_type": "display_data",
          "data": {
            "text/plain": [
              "<Figure size 432x288 with 1 Axes>"
            ],
            "image/png": "[encoded data removed]"
          },
          "metadata": {
            "needs_background": "light"
          }
        }
      ]
    },
    {
      "cell_type": "markdown",
      "source": [
        "Partial Auto-Correlation "
      ],
      "metadata": {
        "id": "EjsU5aac0Fl4"
      }
    },
    {
      "cell_type": "code",
      "source": [
        "sm.graphics.tsa.plot_pacf(df1['CPIAUCSL'].squeeze(), lags=10)\n",
        "sm.graphics.tsa.plot_pacf(df2['Close'].squeeze(), lags=10)\n",
        "sm.graphics.tsa.plot_pacf(df3['UNRATE'].squeeze(), lags=10)\n",
        "sm.graphics.tsa.plot_pacf(df4['SP500'].squeeze(), lags=10)"
      ],
      "metadata": {
        "id": "fmvqxOUry0Kj",
        "colab": {
          "base_uri": "https://localhost:8080/",
          "height": 1000
        },
        "outputId": "3912ad92-7538-4262-e0a0-f3ea4cd01215"
      },
      "execution_count": null,
      "outputs": [
        {
          "output_type": "execute_result",
          "data": {
            "text/plain": [
              "<Figure size 432x288 with 1 Axes>"
            ],
            "image/png": "[encoded data removed]"
          },
          "metadata": {},
          "execution_count": 11
        },
        {
          "output_type": "display_data",
          "data": {
            "text/plain": [
              "<Figure size 432x288 with 1 Axes>"
            ],
            "image/png": "[encoded data removed]"
          },
          "metadata": {
            "needs_background": "light"
          }
        },
        {
          "output_type": "display_data",
          "data": {
            "text/plain": [
              "<Figure size 432x288 with 1 Axes>"
            ],
            "image/png": "[encoded data removed]"
          },
          "metadata": {
            "needs_background": "light"
          }
        },
        {
          "output_type": "display_data",
          "data": {
            "text/plain": [
              "<Figure size 432x288 with 1 Axes>"
            ],
            "image/png": "[encoded data removed]"
          },
          "metadata": {
            "needs_background": "light"
          }
        },
        {
          "output_type": "display_data",
          "data": {
            "text/plain": [
              "<Figure size 432x288 with 1 Axes>"
            ],
            "image/png": "[encoded data removed]"
          },
          "metadata": {
            "needs_background": "light"
          }
        }
      ]
    },
    {
      "cell_type": "markdown",
      "source": [
        "Ljung Box Test to test if the autocorrelation is statistically significant"
      ],
      "metadata": {
        "id": "1Zdb5UEc0S_H"
      }
    },
    {
      "cell_type": "code",
      "source": [
        "sm.stats.acorr_ljungbox(df1['CPIAUCSL'], lags=[1], return_df=True, boxpierce=True)\n"
      ],
      "metadata": {
        "id": "_6oCek6Vzg1r",
        "colab": {
          "base_uri": "https://localhost:8080/",
          "height": 81
        },
        "outputId": "8713b5eb-3bf5-4878-e3d1-60482f4b3b5a"
      },
      "execution_count": null,
      "outputs": [
        {
          "output_type": "execute_result",
          "data": {
            "text/plain": [
              "      lb_stat      lb_pvalue     bp_stat      bp_pvalue\n",
              "1  903.792959  1.469870e-198  900.810144  6.541921e-198"
            ],
            "text/html": [
              "\n",
              "  <div id=\"df-418e7c0d-d24c-44bc-bef1-f5d731801c15\">\n",
              "    <div class=\"colab-df-container\">\n",
              "      <div>\n",
              "<style scoped>\n",
              "    .dataframe tbody tr th:only-of-type {\n",
              "        vertical-align: middle;\n",
              "    }\n",
              "\n",
              "    .dataframe tbody tr th {\n",
              "        vertical-align: top;\n",
              "    }\n",
              "\n",
              "    .dataframe thead th {\n",
              "        text-align: right;\n",
              "    }\n",
              "</style>\n",
              "<table border=\"1\" class=\"dataframe\">\n",
              "  <thead>\n",
              "    <tr style=\"text-align: right;\">\n",
              "      <th></th>\n",
              "      <th>lb_stat</th>\n",
              "      <th>lb_pvalue</th>\n",
              "      <th>bp_stat</th>\n",
              "      <th>bp_pvalue</th>\n",
              "    </tr>\n",
              "  </thead>\n",
              "  <tbody>\n",
              "    <tr>\n",
              "      <th>1</th>\n",
              "      <td>903.792959</td>\n",
              "      <td>1.469870e-198</td>\n",
              "      <td>900.810144</td>\n",
              "      <td>6.541921e-198</td>\n",
              "    </tr>\n",
              "  </tbody>\n",
              "</table>\n",
              "</div>\n",
              "      <button class=\"colab-df-convert\" onclick=\"convertToInteractive('df-418e7c0d-d24c-44bc-bef1-f5d731801c15')\"\n",
              "              title=\"Convert this dataframe to an interactive table.\"\n",
              "              style=\"display:none;\">\n",
              "        \n",
              "  <svg xmlns=\"http://www.w3.org/2000/svg\" height=\"24px\"viewBox=\"0 0 24 24\"\n",
              "       width=\"24px\">\n",
              "    <path d=\"M0 0h24v24H0V0z\" fill=\"none\"/>\n",
              "    <path d=\"M18.56 5.44l.94 2.06.94-2.06 2.06-.94-2.06-.94-.94-2.06-.94 2.06-2.06.94zm-11 1L8.5 8.5l.94-2.06 2.06-.94-2.06-.94L8.5 2.5l-.94 2.06-2.06.94zm10 10l.94 2.06.94-2.06 2.06-.94-2.06-.94-.94-2.06-.94 2.06-2.06.94z\"/><path d=\"M17.41 7.96l-1.37-1.37c-.4-.4-.92-.59-1.43-.59-.52 0-1.04.2-1.43.59L10.3 9.45l-7.72 7.72c-.78.78-.78 2.05 0 2.83L4 21.41c.39.39.9.59 1.41.59.51 0 1.02-.2 1.41-.59l7.78-7.78 2.81-2.81c.8-.78.8-2.07 0-2.86zM5.41 20L4 18.59l7.72-7.72 1.47 1.35L5.41 20z\"/>\n",
              "  </svg>\n",
              "      </button>\n",
              "      \n",
              "  <style>\n",
              "    .colab-df-container {\n",
              "      display:flex;\n",
              "      flex-wrap:wrap;\n",
              "      gap: 12px;\n",
              "    }\n",
              "\n",
              "    .colab-df-convert {\n",
              "      background-color: #E8F0FE;\n",
              "      border: none;\n",
              "      border-radius: 50%;\n",
              "      cursor: pointer;\n",
              "      display: none;\n",
              "      fill: #1967D2;\n",
              "      height: 32px;\n",
              "      padding: 0 0 0 0;\n",
              "      width: 32px;\n",
              "    }\n",
              "\n",
              "    .colab-df-convert:hover {\n",
              "      background-color: #E2EBFA;\n",
              "      box-shadow: 0px 1px 2px rgba(60, 64, 67, 0.3), 0px 1px 3px 1px rgba(60, 64, 67, 0.15);\n",
              "      fill: #174EA6;\n",
              "    }\n",
              "\n",
              "    [theme=dark] .colab-df-convert {\n",
              "      background-color: #3B4455;\n",
              "      fill: #D2E3FC;\n",
              "    }\n",
              "\n",
              "    [theme=dark] .colab-df-convert:hover {\n",
              "      background-color: #434B5C;\n",
              "      box-shadow: 0px 1px 3px 1px rgba(0, 0, 0, 0.15);\n",
              "      filter: drop-shadow(0px 1px 2px rgba(0, 0, 0, 0.3));\n",
              "      fill: #FFFFFF;\n",
              "    }\n",
              "  </style>\n",
              "\n",
              "      <script>\n",
              "        const buttonEl =\n",
              "          document.querySelector('#df-418e7c0d-d24c-44bc-bef1-f5d731801c15 button.colab-df-convert');\n",
              "        buttonEl.style.display =\n",
              "          google.colab.kernel.accessAllowed ? 'block' : 'none';\n",
              "\n",
              "        async function convertToInteractive(key) {\n",
              "          const element = document.querySelector('#df-418e7c0d-d24c-44bc-bef1-f5d731801c15');\n",
              "          const dataTable =\n",
              "            await google.colab.kernel.invokeFunction('convertToInteractive',\n",
              "                                                     [key], {});\n",
              "          if (!dataTable) return;\n",
              "\n",
              "          const docLinkHtml = 'Like what you see? Visit the ' +\n",
              "            '<a target=\"_blank\" href=https://colab.research.google.com/notebooks/data_table.ipynb>data table notebook</a>'\n",
              "            + ' to learn more about interactive tables.';\n",
              "          element.innerHTML = '';\n",
              "          dataTable['output_type'] = 'display_data';\n",
              "          await google.colab.output.renderOutput(dataTable, element);\n",
              "          const docLink = document.createElement('div');\n",
              "          docLink.innerHTML = docLinkHtml;\n",
              "          element.appendChild(docLink);\n",
              "        }\n",
              "      </script>\n",
              "    </div>\n",
              "  </div>\n",
              "  "
            ]
          },
          "metadata": {},
          "execution_count": 12
        }
      ]
    },
    {
      "cell_type": "code",
      "source": [
        "sm.stats.acorr_ljungbox(df1['CPIAUCSL'], lags=[12], return_df=True, boxpierce=True)\n"
      ],
      "metadata": {
        "id": "nDRz2Qit2loH",
        "colab": {
          "base_uri": "https://localhost:8080/",
          "height": 81
        },
        "outputId": "a5fcd1ec-d9a5-44b9-c22b-0e8761973aee"
      },
      "execution_count": null,
      "outputs": [
        {
          "output_type": "execute_result",
          "data": {
            "text/plain": [
              "         lb_stat  lb_pvalue       bp_stat  bp_pvalue\n",
              "12  10523.762237        0.0  10426.097003        0.0"
            ],
            "text/html": [
              "\n",
              "  <div id=\"df-6444d89d-700f-48b0-bd16-bae49337e6c5\">\n",
              "    <div class=\"colab-df-container\">\n",
              "      <div>\n",
              "<style scoped>\n",
              "    .dataframe tbody tr th:only-of-type {\n",
              "        vertical-align: middle;\n",
              "    }\n",
              "\n",
              "    .dataframe tbody tr th {\n",
              "        vertical-align: top;\n",
              "    }\n",
              "\n",
              "    .dataframe thead th {\n",
              "        text-align: right;\n",
              "    }\n",
              "</style>\n",
              "<table border=\"1\" class=\"dataframe\">\n",
              "  <thead>\n",
              "    <tr style=\"text-align: right;\">\n",
              "      <th></th>\n",
              "      <th>lb_stat</th>\n",
              "      <th>lb_pvalue</th>\n",
              "      <th>bp_stat</th>\n",
              "      <th>bp_pvalue</th>\n",
              "    </tr>\n",
              "  </thead>\n",
              "  <tbody>\n",
              "    <tr>\n",
              "      <th>12</th>\n",
              "      <td>10523.762237</td>\n",
              "      <td>0.0</td>\n",
              "      <td>10426.097003</td>\n",
              "      <td>0.0</td>\n",
              "    </tr>\n",
              "  </tbody>\n",
              "</table>\n",
              "</div>\n",
              "      <button class=\"colab-df-convert\" onclick=\"convertToInteractive('df-6444d89d-700f-48b0-bd16-bae49337e6c5')\"\n",
              "              title=\"Convert this dataframe to an interactive table.\"\n",
              "              style=\"display:none;\">\n",
              "        \n",
              "  <svg xmlns=\"http://www.w3.org/2000/svg\" height=\"24px\"viewBox=\"0 0 24 24\"\n",
              "       width=\"24px\">\n",
              "    <path d=\"M0 0h24v24H0V0z\" fill=\"none\"/>\n",
              "    <path d=\"M18.56 5.44l.94 2.06.94-2.06 2.06-.94-2.06-.94-.94-2.06-.94 2.06-2.06.94zm-11 1L8.5 8.5l.94-2.06 2.06-.94-2.06-.94L8.5 2.5l-.94 2.06-2.06.94zm10 10l.94 2.06.94-2.06 2.06-.94-2.06-.94-.94-2.06-.94 2.06-2.06.94z\"/><path d=\"M17.41 7.96l-1.37-1.37c-.4-.4-.92-.59-1.43-.59-.52 0-1.04.2-1.43.59L10.3 9.45l-7.72 7.72c-.78.78-.78 2.05 0 2.83L4 21.41c.39.39.9.59 1.41.59.51 0 1.02-.2 1.41-.59l7.78-7.78 2.81-2.81c.8-.78.8-2.07 0-2.86zM5.41 20L4 18.59l7.72-7.72 1.47 1.35L5.41 20z\"/>\n",
              "  </svg>\n",
              "      </button>\n",
              "      \n",
              "  <style>\n",
              "    .colab-df-container {\n",
              "      display:flex;\n",
              "      flex-wrap:wrap;\n",
              "      gap: 12px;\n",
              "    }\n",
              "\n",
              "    .colab-df-convert {\n",
              "      background-color: #E8F0FE;\n",
              "      border: none;\n",
              "      border-radius: 50%;\n",
              "      cursor: pointer;\n",
              "      display: none;\n",
              "      fill: #1967D2;\n",
              "      height: 32px;\n",
              "      padding: 0 0 0 0;\n",
              "      width: 32px;\n",
              "    }\n",
              "\n",
              "    .colab-df-convert:hover {\n",
              "      background-color: #E2EBFA;\n",
              "      box-shadow: 0px 1px 2px rgba(60, 64, 67, 0.3), 0px 1px 3px 1px rgba(60, 64, 67, 0.15);\n",
              "      fill: #174EA6;\n",
              "    }\n",
              "\n",
              "    [theme=dark] .colab-df-convert {\n",
              "      background-color: #3B4455;\n",
              "      fill: #D2E3FC;\n",
              "    }\n",
              "\n",
              "    [theme=dark] .colab-df-convert:hover {\n",
              "      background-color: #434B5C;\n",
              "      box-shadow: 0px 1px 3px 1px rgba(0, 0, 0, 0.15);\n",
              "      filter: drop-shadow(0px 1px 2px rgba(0, 0, 0, 0.3));\n",
              "      fill: #FFFFFF;\n",
              "    }\n",
              "  </style>\n",
              "\n",
              "      <script>\n",
              "        const buttonEl =\n",
              "          document.querySelector('#df-6444d89d-700f-48b0-bd16-bae49337e6c5 button.colab-df-convert');\n",
              "        buttonEl.style.display =\n",
              "          google.colab.kernel.accessAllowed ? 'block' : 'none';\n",
              "\n",
              "        async function convertToInteractive(key) {\n",
              "          const element = document.querySelector('#df-6444d89d-700f-48b0-bd16-bae49337e6c5');\n",
              "          const dataTable =\n",
              "            await google.colab.kernel.invokeFunction('convertToInteractive',\n",
              "                                                     [key], {});\n",
              "          if (!dataTable) return;\n",
              "\n",
              "          const docLinkHtml = 'Like what you see? Visit the ' +\n",
              "            '<a target=\"_blank\" href=https://colab.research.google.com/notebooks/data_table.ipynb>data table notebook</a>'\n",
              "            + ' to learn more about interactive tables.';\n",
              "          element.innerHTML = '';\n",
              "          dataTable['output_type'] = 'display_data';\n",
              "          await google.colab.output.renderOutput(dataTable, element);\n",
              "          const docLink = document.createElement('div');\n",
              "          docLink.innerHTML = docLinkHtml;\n",
              "          element.appendChild(docLink);\n",
              "        }\n",
              "      </script>\n",
              "    </div>\n",
              "  </div>\n",
              "  "
            ]
          },
          "metadata": {},
          "execution_count": 126
        }
      ]
    },
    {
      "cell_type": "code",
      "source": [
        "sm.stats.acorr_ljungbox(df2['Close'], lags=[1], return_df=True, boxpierce=True)\n"
      ],
      "metadata": {
        "id": "odeybnJe2mKw",
        "colab": {
          "base_uri": "https://localhost:8080/",
          "height": 81
        },
        "outputId": "d1a8bf13-2418-47e4-ff2b-5974f5923325"
      },
      "execution_count": null,
      "outputs": [
        {
          "output_type": "execute_result",
          "data": {
            "text/plain": [
              "       lb_stat  lb_pvalue       bp_stat  bp_pvalue\n",
              "1  14084.90717        0.0  14081.909106        0.0"
            ],
            "text/html": [
              "\n",
              "  <div id=\"df-f517b5cf-2635-4c0c-9b11-5027a4222e3d\">\n",
              "    <div class=\"colab-df-container\">\n",
              "      <div>\n",
              "<style scoped>\n",
              "    .dataframe tbody tr th:only-of-type {\n",
              "        vertical-align: middle;\n",
              "    }\n",
              "\n",
              "    .dataframe tbody tr th {\n",
              "        vertical-align: top;\n",
              "    }\n",
              "\n",
              "    .dataframe thead th {\n",
              "        text-align: right;\n",
              "    }\n",
              "</style>\n",
              "<table border=\"1\" class=\"dataframe\">\n",
              "  <thead>\n",
              "    <tr style=\"text-align: right;\">\n",
              "      <th></th>\n",
              "      <th>lb_stat</th>\n",
              "      <th>lb_pvalue</th>\n",
              "      <th>bp_stat</th>\n",
              "      <th>bp_pvalue</th>\n",
              "    </tr>\n",
              "  </thead>\n",
              "  <tbody>\n",
              "    <tr>\n",
              "      <th>1</th>\n",
              "      <td>14084.90717</td>\n",
              "      <td>0.0</td>\n",
              "      <td>14081.909106</td>\n",
              "      <td>0.0</td>\n",
              "    </tr>\n",
              "  </tbody>\n",
              "</table>\n",
              "</div>\n",
              "      <button class=\"colab-df-convert\" onclick=\"convertToInteractive('df-f517b5cf-2635-4c0c-9b11-5027a4222e3d')\"\n",
              "              title=\"Convert this dataframe to an interactive table.\"\n",
              "              style=\"display:none;\">\n",
              "        \n",
              "  <svg xmlns=\"http://www.w3.org/2000/svg\" height=\"24px\"viewBox=\"0 0 24 24\"\n",
              "       width=\"24px\">\n",
              "    <path d=\"M0 0h24v24H0V0z\" fill=\"none\"/>\n",
              "    <path d=\"M18.56 5.44l.94 2.06.94-2.06 2.06-.94-2.06-.94-.94-2.06-.94 2.06-2.06.94zm-11 1L8.5 8.5l.94-2.06 2.06-.94-2.06-.94L8.5 2.5l-.94 2.06-2.06.94zm10 10l.94 2.06.94-2.06 2.06-.94-2.06-.94-.94-2.06-.94 2.06-2.06.94z\"/><path d=\"M17.41 7.96l-1.37-1.37c-.4-.4-.92-.59-1.43-.59-.52 0-1.04.2-1.43.59L10.3 9.45l-7.72 7.72c-.78.78-.78 2.05 0 2.83L4 21.41c.39.39.9.59 1.41.59.51 0 1.02-.2 1.41-.59l7.78-7.78 2.81-2.81c.8-.78.8-2.07 0-2.86zM5.41 20L4 18.59l7.72-7.72 1.47 1.35L5.41 20z\"/>\n",
              "  </svg>\n",
              "      </button>\n",
              "      \n",
              "  <style>\n",
              "    .colab-df-container {\n",
              "      display:flex;\n",
              "      flex-wrap:wrap;\n",
              "      gap: 12px;\n",
              "    }\n",
              "\n",
              "    .colab-df-convert {\n",
              "      background-color: #E8F0FE;\n",
              "      border: none;\n",
              "      border-radius: 50%;\n",
              "      cursor: pointer;\n",
              "      display: none;\n",
              "      fill: #1967D2;\n",
              "      height: 32px;\n",
              "      padding: 0 0 0 0;\n",
              "      width: 32px;\n",
              "    }\n",
              "\n",
              "    .colab-df-convert:hover {\n",
              "      background-color: #E2EBFA;\n",
              "      box-shadow: 0px 1px 2px rgba(60, 64, 67, 0.3), 0px 1px 3px 1px rgba(60, 64, 67, 0.15);\n",
              "      fill: #174EA6;\n",
              "    }\n",
              "\n",
              "    [theme=dark] .colab-df-convert {\n",
              "      background-color: #3B4455;\n",
              "      fill: #D2E3FC;\n",
              "    }\n",
              "\n",
              "    [theme=dark] .colab-df-convert:hover {\n",
              "      background-color: #434B5C;\n",
              "      box-shadow: 0px 1px 3px 1px rgba(0, 0, 0, 0.15);\n",
              "      filter: drop-shadow(0px 1px 2px rgba(0, 0, 0, 0.3));\n",
              "      fill: #FFFFFF;\n",
              "    }\n",
              "  </style>\n",
              "\n",
              "      <script>\n",
              "        const buttonEl =\n",
              "          document.querySelector('#df-f517b5cf-2635-4c0c-9b11-5027a4222e3d button.colab-df-convert');\n",
              "        buttonEl.style.display =\n",
              "          google.colab.kernel.accessAllowed ? 'block' : 'none';\n",
              "\n",
              "        async function convertToInteractive(key) {\n",
              "          const element = document.querySelector('#df-f517b5cf-2635-4c0c-9b11-5027a4222e3d');\n",
              "          const dataTable =\n",
              "            await google.colab.kernel.invokeFunction('convertToInteractive',\n",
              "                                                     [key], {});\n",
              "          if (!dataTable) return;\n",
              "\n",
              "          const docLinkHtml = 'Like what you see? Visit the ' +\n",
              "            '<a target=\"_blank\" href=https://colab.research.google.com/notebooks/data_table.ipynb>data table notebook</a>'\n",
              "            + ' to learn more about interactive tables.';\n",
              "          element.innerHTML = '';\n",
              "          dataTable['output_type'] = 'display_data';\n",
              "          await google.colab.output.renderOutput(dataTable, element);\n",
              "          const docLink = document.createElement('div');\n",
              "          docLink.innerHTML = docLinkHtml;\n",
              "          element.appendChild(docLink);\n",
              "        }\n",
              "      </script>\n",
              "    </div>\n",
              "  </div>\n",
              "  "
            ]
          },
          "metadata": {},
          "execution_count": 127
        }
      ]
    },
    {
      "cell_type": "code",
      "source": [
        "sm.stats.acorr_ljungbox(df2['Close'], lags=[12], return_df=True, boxpierce=True)\n"
      ],
      "metadata": {
        "id": "vWTEqOS92mcF",
        "colab": {
          "base_uri": "https://localhost:8080/",
          "height": 81
        },
        "outputId": "3317f11f-0865-4582-cc5f-4e815b3fbb60"
      },
      "execution_count": null,
      "outputs": [
        {
          "output_type": "execute_result",
          "data": {
            "text/plain": [
              "          lb_stat  lb_pvalue        bp_stat  bp_pvalue\n",
              "12  168422.608975        0.0  168321.125609        0.0"
            ],
            "text/html": [
              "\n",
              "  <div id=\"df-385c2b97-d1ea-40dc-94e5-619e74019f09\">\n",
              "    <div class=\"colab-df-container\">\n",
              "      <div>\n",
              "<style scoped>\n",
              "    .dataframe tbody tr th:only-of-type {\n",
              "        vertical-align: middle;\n",
              "    }\n",
              "\n",
              "    .dataframe tbody tr th {\n",
              "        vertical-align: top;\n",
              "    }\n",
              "\n",
              "    .dataframe thead th {\n",
              "        text-align: right;\n",
              "    }\n",
              "</style>\n",
              "<table border=\"1\" class=\"dataframe\">\n",
              "  <thead>\n",
              "    <tr style=\"text-align: right;\">\n",
              "      <th></th>\n",
              "      <th>lb_stat</th>\n",
              "      <th>lb_pvalue</th>\n",
              "      <th>bp_stat</th>\n",
              "      <th>bp_pvalue</th>\n",
              "    </tr>\n",
              "  </thead>\n",
              "  <tbody>\n",
              "    <tr>\n",
              "      <th>12</th>\n",
              "      <td>168422.608975</td>\n",
              "      <td>0.0</td>\n",
              "      <td>168321.125609</td>\n",
              "      <td>0.0</td>\n",
              "    </tr>\n",
              "  </tbody>\n",
              "</table>\n",
              "</div>\n",
              "      <button class=\"colab-df-convert\" onclick=\"convertToInteractive('df-385c2b97-d1ea-40dc-94e5-619e74019f09')\"\n",
              "              title=\"Convert this dataframe to an interactive table.\"\n",
              "              style=\"display:none;\">\n",
              "        \n",
              "  <svg xmlns=\"http://www.w3.org/2000/svg\" height=\"24px\"viewBox=\"0 0 24 24\"\n",
              "       width=\"24px\">\n",
              "    <path d=\"M0 0h24v24H0V0z\" fill=\"none\"/>\n",
              "    <path d=\"M18.56 5.44l.94 2.06.94-2.06 2.06-.94-2.06-.94-.94-2.06-.94 2.06-2.06.94zm-11 1L8.5 8.5l.94-2.06 2.06-.94-2.06-.94L8.5 2.5l-.94 2.06-2.06.94zm10 10l.94 2.06.94-2.06 2.06-.94-2.06-.94-.94-2.06-.94 2.06-2.06.94z\"/><path d=\"M17.41 7.96l-1.37-1.37c-.4-.4-.92-.59-1.43-.59-.52 0-1.04.2-1.43.59L10.3 9.45l-7.72 7.72c-.78.78-.78 2.05 0 2.83L4 21.41c.39.39.9.59 1.41.59.51 0 1.02-.2 1.41-.59l7.78-7.78 2.81-2.81c.8-.78.8-2.07 0-2.86zM5.41 20L4 18.59l7.72-7.72 1.47 1.35L5.41 20z\"/>\n",
              "  </svg>\n",
              "      </button>\n",
              "      \n",
              "  <style>\n",
              "    .colab-df-container {\n",
              "      display:flex;\n",
              "      flex-wrap:wrap;\n",
              "      gap: 12px;\n",
              "    }\n",
              "\n",
              "    .colab-df-convert {\n",
              "      background-color: #E8F0FE;\n",
              "      border: none;\n",
              "      border-radius: 50%;\n",
              "      cursor: pointer;\n",
              "      display: none;\n",
              "      fill: #1967D2;\n",
              "      height: 32px;\n",
              "      padding: 0 0 0 0;\n",
              "      width: 32px;\n",
              "    }\n",
              "\n",
              "    .colab-df-convert:hover {\n",
              "      background-color: #E2EBFA;\n",
              "      box-shadow: 0px 1px 2px rgba(60, 64, 67, 0.3), 0px 1px 3px 1px rgba(60, 64, 67, 0.15);\n",
              "      fill: #174EA6;\n",
              "    }\n",
              "\n",
              "    [theme=dark] .colab-df-convert {\n",
              "      background-color: #3B4455;\n",
              "      fill: #D2E3FC;\n",
              "    }\n",
              "\n",
              "    [theme=dark] .colab-df-convert:hover {\n",
              "      background-color: #434B5C;\n",
              "      box-shadow: 0px 1px 3px 1px rgba(0, 0, 0, 0.15);\n",
              "      filter: drop-shadow(0px 1px 2px rgba(0, 0, 0, 0.3));\n",
              "      fill: #FFFFFF;\n",
              "    }\n",
              "  </style>\n",
              "\n",
              "      <script>\n",
              "        const buttonEl =\n",
              "          document.querySelector('#df-385c2b97-d1ea-40dc-94e5-619e74019f09 button.colab-df-convert');\n",
              "        buttonEl.style.display =\n",
              "          google.colab.kernel.accessAllowed ? 'block' : 'none';\n",
              "\n",
              "        async function convertToInteractive(key) {\n",
              "          const element = document.querySelector('#df-385c2b97-d1ea-40dc-94e5-619e74019f09');\n",
              "          const dataTable =\n",
              "            await google.colab.kernel.invokeFunction('convertToInteractive',\n",
              "                                                     [key], {});\n",
              "          if (!dataTable) return;\n",
              "\n",
              "          const docLinkHtml = 'Like what you see? Visit the ' +\n",
              "            '<a target=\"_blank\" href=https://colab.research.google.com/notebooks/data_table.ipynb>data table notebook</a>'\n",
              "            + ' to learn more about interactive tables.';\n",
              "          element.innerHTML = '';\n",
              "          dataTable['output_type'] = 'display_data';\n",
              "          await google.colab.output.renderOutput(dataTable, element);\n",
              "          const docLink = document.createElement('div');\n",
              "          docLink.innerHTML = docLinkHtml;\n",
              "          element.appendChild(docLink);\n",
              "        }\n",
              "      </script>\n",
              "    </div>\n",
              "  </div>\n",
              "  "
            ]
          },
          "metadata": {},
          "execution_count": 128
        }
      ]
    },
    {
      "cell_type": "code",
      "source": [
        "sm.stats.acorr_ljungbox(df3['UNRATE'], lags=[1], return_df=True, boxpierce=True)\n"
      ],
      "metadata": {
        "id": "76-x4CxJ2mtn",
        "colab": {
          "base_uri": "https://localhost:8080/",
          "height": 81
        },
        "outputId": "6d57b6d9-4e6a-4888-89d2-e4b0cdf6afb8"
      },
      "execution_count": null,
      "outputs": [
        {
          "output_type": "execute_result",
          "data": {
            "text/plain": [
              "      lb_stat      lb_pvalue     bp_stat      bp_pvalue\n",
              "1  841.862397  4.272759e-185  839.049939  1.746428e-184"
            ],
            "text/html": [
              "\n",
              "  <div id=\"df-b71fe848-3e03-4cf5-9303-cc0beef44d42\">\n",
              "    <div class=\"colab-df-container\">\n",
              "      <div>\n",
              "<style scoped>\n",
              "    .dataframe tbody tr th:only-of-type {\n",
              "        vertical-align: middle;\n",
              "    }\n",
              "\n",
              "    .dataframe tbody tr th {\n",
              "        vertical-align: top;\n",
              "    }\n",
              "\n",
              "    .dataframe thead th {\n",
              "        text-align: right;\n",
              "    }\n",
              "</style>\n",
              "<table border=\"1\" class=\"dataframe\">\n",
              "  <thead>\n",
              "    <tr style=\"text-align: right;\">\n",
              "      <th></th>\n",
              "      <th>lb_stat</th>\n",
              "      <th>lb_pvalue</th>\n",
              "      <th>bp_stat</th>\n",
              "      <th>bp_pvalue</th>\n",
              "    </tr>\n",
              "  </thead>\n",
              "  <tbody>\n",
              "    <tr>\n",
              "      <th>1</th>\n",
              "      <td>841.862397</td>\n",
              "      <td>4.272759e-185</td>\n",
              "      <td>839.049939</td>\n",
              "      <td>1.746428e-184</td>\n",
              "    </tr>\n",
              "  </tbody>\n",
              "</table>\n",
              "</div>\n",
              "      <button class=\"colab-df-convert\" onclick=\"convertToInteractive('df-b71fe848-3e03-4cf5-9303-cc0beef44d42')\"\n",
              "              title=\"Convert this dataframe to an interactive table.\"\n",
              "              style=\"display:none;\">\n",
              "        \n",
              "  <svg xmlns=\"http://www.w3.org/2000/svg\" height=\"24px\"viewBox=\"0 0 24 24\"\n",
              "       width=\"24px\">\n",
              "    <path d=\"M0 0h24v24H0V0z\" fill=\"none\"/>\n",
              "    <path d=\"M18.56 5.44l.94 2.06.94-2.06 2.06-.94-2.06-.94-.94-2.06-.94 2.06-2.06.94zm-11 1L8.5 8.5l.94-2.06 2.06-.94-2.06-.94L8.5 2.5l-.94 2.06-2.06.94zm10 10l.94 2.06.94-2.06 2.06-.94-2.06-.94-.94-2.06-.94 2.06-2.06.94z\"/><path d=\"M17.41 7.96l-1.37-1.37c-.4-.4-.92-.59-1.43-.59-.52 0-1.04.2-1.43.59L10.3 9.45l-7.72 7.72c-.78.78-.78 2.05 0 2.83L4 21.41c.39.39.9.59 1.41.59.51 0 1.02-.2 1.41-.59l7.78-7.78 2.81-2.81c.8-.78.8-2.07 0-2.86zM5.41 20L4 18.59l7.72-7.72 1.47 1.35L5.41 20z\"/>\n",
              "  </svg>\n",
              "      </button>\n",
              "      \n",
              "  <style>\n",
              "    .colab-df-container {\n",
              "      display:flex;\n",
              "      flex-wrap:wrap;\n",
              "      gap: 12px;\n",
              "    }\n",
              "\n",
              "    .colab-df-convert {\n",
              "      background-color: #E8F0FE;\n",
              "      border: none;\n",
              "      border-radius: 50%;\n",
              "      cursor: pointer;\n",
              "      display: none;\n",
              "      fill: #1967D2;\n",
              "      height: 32px;\n",
              "      padding: 0 0 0 0;\n",
              "      width: 32px;\n",
              "    }\n",
              "\n",
              "    .colab-df-convert:hover {\n",
              "      background-color: #E2EBFA;\n",
              "      box-shadow: 0px 1px 2px rgba(60, 64, 67, 0.3), 0px 1px 3px 1px rgba(60, 64, 67, 0.15);\n",
              "      fill: #174EA6;\n",
              "    }\n",
              "\n",
              "    [theme=dark] .colab-df-convert {\n",
              "      background-color: #3B4455;\n",
              "      fill: #D2E3FC;\n",
              "    }\n",
              "\n",
              "    [theme=dark] .colab-df-convert:hover {\n",
              "      background-color: #434B5C;\n",
              "      box-shadow: 0px 1px 3px 1px rgba(0, 0, 0, 0.15);\n",
              "      filter: drop-shadow(0px 1px 2px rgba(0, 0, 0, 0.3));\n",
              "      fill: #FFFFFF;\n",
              "    }\n",
              "  </style>\n",
              "\n",
              "      <script>\n",
              "        const buttonEl =\n",
              "          document.querySelector('#df-b71fe848-3e03-4cf5-9303-cc0beef44d42 button.colab-df-convert');\n",
              "        buttonEl.style.display =\n",
              "          google.colab.kernel.accessAllowed ? 'block' : 'none';\n",
              "\n",
              "        async function convertToInteractive(key) {\n",
              "          const element = document.querySelector('#df-b71fe848-3e03-4cf5-9303-cc0beef44d42');\n",
              "          const dataTable =\n",
              "            await google.colab.kernel.invokeFunction('convertToInteractive',\n",
              "                                                     [key], {});\n",
              "          if (!dataTable) return;\n",
              "\n",
              "          const docLinkHtml = 'Like what you see? Visit the ' +\n",
              "            '<a target=\"_blank\" href=https://colab.research.google.com/notebooks/data_table.ipynb>data table notebook</a>'\n",
              "            + ' to learn more about interactive tables.';\n",
              "          element.innerHTML = '';\n",
              "          dataTable['output_type'] = 'display_data';\n",
              "          await google.colab.output.renderOutput(dataTable, element);\n",
              "          const docLink = document.createElement('div');\n",
              "          docLink.innerHTML = docLinkHtml;\n",
              "          element.appendChild(docLink);\n",
              "        }\n",
              "      </script>\n",
              "    </div>\n",
              "  </div>\n",
              "  "
            ]
          },
          "metadata": {},
          "execution_count": 129
        }
      ]
    },
    {
      "cell_type": "code",
      "source": [
        "sm.stats.acorr_ljungbox(df3['UNRATE'], lags=[12], return_df=True, boxpierce=True)\n"
      ],
      "metadata": {
        "id": "aDL_w7oK2nWb",
        "colab": {
          "base_uri": "https://localhost:8080/",
          "height": 81
        },
        "outputId": "d2b17316-8bc1-462d-d3ea-22581615c337"
      },
      "execution_count": null,
      "outputs": [
        {
          "output_type": "execute_result",
          "data": {
            "text/plain": [
              "       lb_stat  lb_pvalue      bp_stat  bp_pvalue\n",
              "12  6925.26588        0.0  6866.734382        0.0"
            ],
            "text/html": [
              "\n",
              "  <div id=\"df-ee707291-d673-4e0a-8ea8-c1e84cd3e128\">\n",
              "    <div class=\"colab-df-container\">\n",
              "      <div>\n",
              "<style scoped>\n",
              "    .dataframe tbody tr th:only-of-type {\n",
              "        vertical-align: middle;\n",
              "    }\n",
              "\n",
              "    .dataframe tbody tr th {\n",
              "        vertical-align: top;\n",
              "    }\n",
              "\n",
              "    .dataframe thead th {\n",
              "        text-align: right;\n",
              "    }\n",
              "</style>\n",
              "<table border=\"1\" class=\"dataframe\">\n",
              "  <thead>\n",
              "    <tr style=\"text-align: right;\">\n",
              "      <th></th>\n",
              "      <th>lb_stat</th>\n",
              "      <th>lb_pvalue</th>\n",
              "      <th>bp_stat</th>\n",
              "      <th>bp_pvalue</th>\n",
              "    </tr>\n",
              "  </thead>\n",
              "  <tbody>\n",
              "    <tr>\n",
              "      <th>12</th>\n",
              "      <td>6925.26588</td>\n",
              "      <td>0.0</td>\n",
              "      <td>6866.734382</td>\n",
              "      <td>0.0</td>\n",
              "    </tr>\n",
              "  </tbody>\n",
              "</table>\n",
              "</div>\n",
              "      <button class=\"colab-df-convert\" onclick=\"convertToInteractive('df-ee707291-d673-4e0a-8ea8-c1e84cd3e128')\"\n",
              "              title=\"Convert this dataframe to an interactive table.\"\n",
              "              style=\"display:none;\">\n",
              "        \n",
              "  <svg xmlns=\"http://www.w3.org/2000/svg\" height=\"24px\"viewBox=\"0 0 24 24\"\n",
              "       width=\"24px\">\n",
              "    <path d=\"M0 0h24v24H0V0z\" fill=\"none\"/>\n",
              "    <path d=\"M18.56 5.44l.94 2.06.94-2.06 2.06-.94-2.06-.94-.94-2.06-.94 2.06-2.06.94zm-11 1L8.5 8.5l.94-2.06 2.06-.94-2.06-.94L8.5 2.5l-.94 2.06-2.06.94zm10 10l.94 2.06.94-2.06 2.06-.94-2.06-.94-.94-2.06-.94 2.06-2.06.94z\"/><path d=\"M17.41 7.96l-1.37-1.37c-.4-.4-.92-.59-1.43-.59-.52 0-1.04.2-1.43.59L10.3 9.45l-7.72 7.72c-.78.78-.78 2.05 0 2.83L4 21.41c.39.39.9.59 1.41.59.51 0 1.02-.2 1.41-.59l7.78-7.78 2.81-2.81c.8-.78.8-2.07 0-2.86zM5.41 20L4 18.59l7.72-7.72 1.47 1.35L5.41 20z\"/>\n",
              "  </svg>\n",
              "      </button>\n",
              "      \n",
              "  <style>\n",
              "    .colab-df-container {\n",
              "      display:flex;\n",
              "      flex-wrap:wrap;\n",
              "      gap: 12px;\n",
              "    }\n",
              "\n",
              "    .colab-df-convert {\n",
              "      background-color: #E8F0FE;\n",
              "      border: none;\n",
              "      border-radius: 50%;\n",
              "      cursor: pointer;\n",
              "      display: none;\n",
              "      fill: #1967D2;\n",
              "      height: 32px;\n",
              "      padding: 0 0 0 0;\n",
              "      width: 32px;\n",
              "    }\n",
              "\n",
              "    .colab-df-convert:hover {\n",
              "      background-color: #E2EBFA;\n",
              "      box-shadow: 0px 1px 2px rgba(60, 64, 67, 0.3), 0px 1px 3px 1px rgba(60, 64, 67, 0.15);\n",
              "      fill: #174EA6;\n",
              "    }\n",
              "\n",
              "    [theme=dark] .colab-df-convert {\n",
              "      background-color: #3B4455;\n",
              "      fill: #D2E3FC;\n",
              "    }\n",
              "\n",
              "    [theme=dark] .colab-df-convert:hover {\n",
              "      background-color: #434B5C;\n",
              "      box-shadow: 0px 1px 3px 1px rgba(0, 0, 0, 0.15);\n",
              "      filter: drop-shadow(0px 1px 2px rgba(0, 0, 0, 0.3));\n",
              "      fill: #FFFFFF;\n",
              "    }\n",
              "  </style>\n",
              "\n",
              "      <script>\n",
              "        const buttonEl =\n",
              "          document.querySelector('#df-ee707291-d673-4e0a-8ea8-c1e84cd3e128 button.colab-df-convert');\n",
              "        buttonEl.style.display =\n",
              "          google.colab.kernel.accessAllowed ? 'block' : 'none';\n",
              "\n",
              "        async function convertToInteractive(key) {\n",
              "          const element = document.querySelector('#df-ee707291-d673-4e0a-8ea8-c1e84cd3e128');\n",
              "          const dataTable =\n",
              "            await google.colab.kernel.invokeFunction('convertToInteractive',\n",
              "                                                     [key], {});\n",
              "          if (!dataTable) return;\n",
              "\n",
              "          const docLinkHtml = 'Like what you see? Visit the ' +\n",
              "            '<a target=\"_blank\" href=https://colab.research.google.com/notebooks/data_table.ipynb>data table notebook</a>'\n",
              "            + ' to learn more about interactive tables.';\n",
              "          element.innerHTML = '';\n",
              "          dataTable['output_type'] = 'display_data';\n",
              "          await google.colab.output.renderOutput(dataTable, element);\n",
              "          const docLink = document.createElement('div');\n",
              "          docLink.innerHTML = docLinkHtml;\n",
              "          element.appendChild(docLink);\n",
              "        }\n",
              "      </script>\n",
              "    </div>\n",
              "  </div>\n",
              "  "
            ]
          },
          "metadata": {},
          "execution_count": 130
        }
      ]
    },
    {
      "cell_type": "code",
      "source": [
        "sm.stats.acorr_ljungbox(df4['SP500'], lags=[1], return_df=True, boxpierce=True)\n"
      ],
      "metadata": {
        "id": "QdRDQE4g2nni",
        "colab": {
          "base_uri": "https://localhost:8080/",
          "height": 81
        },
        "outputId": "94d2885a-28e4-48c2-d078-67725912d831"
      },
      "execution_count": null,
      "outputs": [
        {
          "output_type": "execute_result",
          "data": {
            "text/plain": [
              "       lb_stat  lb_pvalue      bp_stat  bp_pvalue\n",
              "1  1796.749506        0.0  1793.789457        0.0"
            ],
            "text/html": [
              "\n",
              "  <div id=\"df-60c90708-b82a-4ae9-8c8b-63c516c457b3\">\n",
              "    <div class=\"colab-df-container\">\n",
              "      <div>\n",
              "<style scoped>\n",
              "    .dataframe tbody tr th:only-of-type {\n",
              "        vertical-align: middle;\n",
              "    }\n",
              "\n",
              "    .dataframe tbody tr th {\n",
              "        vertical-align: top;\n",
              "    }\n",
              "\n",
              "    .dataframe thead th {\n",
              "        text-align: right;\n",
              "    }\n",
              "</style>\n",
              "<table border=\"1\" class=\"dataframe\">\n",
              "  <thead>\n",
              "    <tr style=\"text-align: right;\">\n",
              "      <th></th>\n",
              "      <th>lb_stat</th>\n",
              "      <th>lb_pvalue</th>\n",
              "      <th>bp_stat</th>\n",
              "      <th>bp_pvalue</th>\n",
              "    </tr>\n",
              "  </thead>\n",
              "  <tbody>\n",
              "    <tr>\n",
              "      <th>1</th>\n",
              "      <td>1796.749506</td>\n",
              "      <td>0.0</td>\n",
              "      <td>1793.789457</td>\n",
              "      <td>0.0</td>\n",
              "    </tr>\n",
              "  </tbody>\n",
              "</table>\n",
              "</div>\n",
              "      <button class=\"colab-df-convert\" onclick=\"convertToInteractive('df-60c90708-b82a-4ae9-8c8b-63c516c457b3')\"\n",
              "              title=\"Convert this dataframe to an interactive table.\"\n",
              "              style=\"display:none;\">\n",
              "        \n",
              "  <svg xmlns=\"http://www.w3.org/2000/svg\" height=\"24px\"viewBox=\"0 0 24 24\"\n",
              "       width=\"24px\">\n",
              "    <path d=\"M0 0h24v24H0V0z\" fill=\"none\"/>\n",
              "    <path d=\"M18.56 5.44l.94 2.06.94-2.06 2.06-.94-2.06-.94-.94-2.06-.94 2.06-2.06.94zm-11 1L8.5 8.5l.94-2.06 2.06-.94-2.06-.94L8.5 2.5l-.94 2.06-2.06.94zm10 10l.94 2.06.94-2.06 2.06-.94-2.06-.94-.94-2.06-.94 2.06-2.06.94z\"/><path d=\"M17.41 7.96l-1.37-1.37c-.4-.4-.92-.59-1.43-.59-.52 0-1.04.2-1.43.59L10.3 9.45l-7.72 7.72c-.78.78-.78 2.05 0 2.83L4 21.41c.39.39.9.59 1.41.59.51 0 1.02-.2 1.41-.59l7.78-7.78 2.81-2.81c.8-.78.8-2.07 0-2.86zM5.41 20L4 18.59l7.72-7.72 1.47 1.35L5.41 20z\"/>\n",
              "  </svg>\n",
              "      </button>\n",
              "      \n",
              "  <style>\n",
              "    .colab-df-container {\n",
              "      display:flex;\n",
              "      flex-wrap:wrap;\n",
              "      gap: 12px;\n",
              "    }\n",
              "\n",
              "    .colab-df-convert {\n",
              "      background-color: #E8F0FE;\n",
              "      border: none;\n",
              "      border-radius: 50%;\n",
              "      cursor: pointer;\n",
              "      display: none;\n",
              "      fill: #1967D2;\n",
              "      height: 32px;\n",
              "      padding: 0 0 0 0;\n",
              "      width: 32px;\n",
              "    }\n",
              "\n",
              "    .colab-df-convert:hover {\n",
              "      background-color: #E2EBFA;\n",
              "      box-shadow: 0px 1px 2px rgba(60, 64, 67, 0.3), 0px 1px 3px 1px rgba(60, 64, 67, 0.15);\n",
              "      fill: #174EA6;\n",
              "    }\n",
              "\n",
              "    [theme=dark] .colab-df-convert {\n",
              "      background-color: #3B4455;\n",
              "      fill: #D2E3FC;\n",
              "    }\n",
              "\n",
              "    [theme=dark] .colab-df-convert:hover {\n",
              "      background-color: #434B5C;\n",
              "      box-shadow: 0px 1px 3px 1px rgba(0, 0, 0, 0.15);\n",
              "      filter: drop-shadow(0px 1px 2px rgba(0, 0, 0, 0.3));\n",
              "      fill: #FFFFFF;\n",
              "    }\n",
              "  </style>\n",
              "\n",
              "      <script>\n",
              "        const buttonEl =\n",
              "          document.querySelector('#df-60c90708-b82a-4ae9-8c8b-63c516c457b3 button.colab-df-convert');\n",
              "        buttonEl.style.display =\n",
              "          google.colab.kernel.accessAllowed ? 'block' : 'none';\n",
              "\n",
              "        async function convertToInteractive(key) {\n",
              "          const element = document.querySelector('#df-60c90708-b82a-4ae9-8c8b-63c516c457b3');\n",
              "          const dataTable =\n",
              "            await google.colab.kernel.invokeFunction('convertToInteractive',\n",
              "                                                     [key], {});\n",
              "          if (!dataTable) return;\n",
              "\n",
              "          const docLinkHtml = 'Like what you see? Visit the ' +\n",
              "            '<a target=\"_blank\" href=https://colab.research.google.com/notebooks/data_table.ipynb>data table notebook</a>'\n",
              "            + ' to learn more about interactive tables.';\n",
              "          element.innerHTML = '';\n",
              "          dataTable['output_type'] = 'display_data';\n",
              "          await google.colab.output.renderOutput(dataTable, element);\n",
              "          const docLink = document.createElement('div');\n",
              "          docLink.innerHTML = docLinkHtml;\n",
              "          element.appendChild(docLink);\n",
              "        }\n",
              "      </script>\n",
              "    </div>\n",
              "  </div>\n",
              "  "
            ]
          },
          "metadata": {},
          "execution_count": 131
        }
      ]
    },
    {
      "cell_type": "code",
      "source": [
        "sm.stats.acorr_ljungbox(df4['SP500'], lags=[12], return_df=True, boxpierce=True)"
      ],
      "metadata": {
        "id": "MZLTbHEH2n4I",
        "colab": {
          "base_uri": "https://localhost:8080/",
          "height": 81
        },
        "outputId": "f577aaae-4cf3-4e25-dbf5-bd95bc127d69"
      },
      "execution_count": null,
      "outputs": [
        {
          "output_type": "execute_result",
          "data": {
            "text/plain": [
              "         lb_stat  lb_pvalue       bp_stat  bp_pvalue\n",
              "12  19478.242951        0.0  19389.938267        0.0"
            ],
            "text/html": [
              "\n",
              "  <div id=\"df-687657dd-af08-4369-a209-2972ce5128f6\">\n",
              "    <div class=\"colab-df-container\">\n",
              "      <div>\n",
              "<style scoped>\n",
              "    .dataframe tbody tr th:only-of-type {\n",
              "        vertical-align: middle;\n",
              "    }\n",
              "\n",
              "    .dataframe tbody tr th {\n",
              "        vertical-align: top;\n",
              "    }\n",
              "\n",
              "    .dataframe thead th {\n",
              "        text-align: right;\n",
              "    }\n",
              "</style>\n",
              "<table border=\"1\" class=\"dataframe\">\n",
              "  <thead>\n",
              "    <tr style=\"text-align: right;\">\n",
              "      <th></th>\n",
              "      <th>lb_stat</th>\n",
              "      <th>lb_pvalue</th>\n",
              "      <th>bp_stat</th>\n",
              "      <th>bp_pvalue</th>\n",
              "    </tr>\n",
              "  </thead>\n",
              "  <tbody>\n",
              "    <tr>\n",
              "      <th>12</th>\n",
              "      <td>19478.242951</td>\n",
              "      <td>0.0</td>\n",
              "      <td>19389.938267</td>\n",
              "      <td>0.0</td>\n",
              "    </tr>\n",
              "  </tbody>\n",
              "</table>\n",
              "</div>\n",
              "      <button class=\"colab-df-convert\" onclick=\"convertToInteractive('df-687657dd-af08-4369-a209-2972ce5128f6')\"\n",
              "              title=\"Convert this dataframe to an interactive table.\"\n",
              "              style=\"display:none;\">\n",
              "        \n",
              "  <svg xmlns=\"http://www.w3.org/2000/svg\" height=\"24px\"viewBox=\"0 0 24 24\"\n",
              "       width=\"24px\">\n",
              "    <path d=\"M0 0h24v24H0V0z\" fill=\"none\"/>\n",
              "    <path d=\"M18.56 5.44l.94 2.06.94-2.06 2.06-.94-2.06-.94-.94-2.06-.94 2.06-2.06.94zm-11 1L8.5 8.5l.94-2.06 2.06-.94-2.06-.94L8.5 2.5l-.94 2.06-2.06.94zm10 10l.94 2.06.94-2.06 2.06-.94-2.06-.94-.94-2.06-.94 2.06-2.06.94z\"/><path d=\"M17.41 7.96l-1.37-1.37c-.4-.4-.92-.59-1.43-.59-.52 0-1.04.2-1.43.59L10.3 9.45l-7.72 7.72c-.78.78-.78 2.05 0 2.83L4 21.41c.39.39.9.59 1.41.59.51 0 1.02-.2 1.41-.59l7.78-7.78 2.81-2.81c.8-.78.8-2.07 0-2.86zM5.41 20L4 18.59l7.72-7.72 1.47 1.35L5.41 20z\"/>\n",
              "  </svg>\n",
              "      </button>\n",
              "      \n",
              "  <style>\n",
              "    .colab-df-container {\n",
              "      display:flex;\n",
              "      flex-wrap:wrap;\n",
              "      gap: 12px;\n",
              "    }\n",
              "\n",
              "    .colab-df-convert {\n",
              "      background-color: #E8F0FE;\n",
              "      border: none;\n",
              "      border-radius: 50%;\n",
              "      cursor: pointer;\n",
              "      display: none;\n",
              "      fill: #1967D2;\n",
              "      height: 32px;\n",
              "      padding: 0 0 0 0;\n",
              "      width: 32px;\n",
              "    }\n",
              "\n",
              "    .colab-df-convert:hover {\n",
              "      background-color: #E2EBFA;\n",
              "      box-shadow: 0px 1px 2px rgba(60, 64, 67, 0.3), 0px 1px 3px 1px rgba(60, 64, 67, 0.15);\n",
              "      fill: #174EA6;\n",
              "    }\n",
              "\n",
              "    [theme=dark] .colab-df-convert {\n",
              "      background-color: #3B4455;\n",
              "      fill: #D2E3FC;\n",
              "    }\n",
              "\n",
              "    [theme=dark] .colab-df-convert:hover {\n",
              "      background-color: #434B5C;\n",
              "      box-shadow: 0px 1px 3px 1px rgba(0, 0, 0, 0.15);\n",
              "      filter: drop-shadow(0px 1px 2px rgba(0, 0, 0, 0.3));\n",
              "      fill: #FFFFFF;\n",
              "    }\n",
              "  </style>\n",
              "\n",
              "      <script>\n",
              "        const buttonEl =\n",
              "          document.querySelector('#df-687657dd-af08-4369-a209-2972ce5128f6 button.colab-df-convert');\n",
              "        buttonEl.style.display =\n",
              "          google.colab.kernel.accessAllowed ? 'block' : 'none';\n",
              "\n",
              "        async function convertToInteractive(key) {\n",
              "          const element = document.querySelector('#df-687657dd-af08-4369-a209-2972ce5128f6');\n",
              "          const dataTable =\n",
              "            await google.colab.kernel.invokeFunction('convertToInteractive',\n",
              "                                                     [key], {});\n",
              "          if (!dataTable) return;\n",
              "\n",
              "          const docLinkHtml = 'Like what you see? Visit the ' +\n",
              "            '<a target=\"_blank\" href=https://colab.research.google.com/notebooks/data_table.ipynb>data table notebook</a>'\n",
              "            + ' to learn more about interactive tables.';\n",
              "          element.innerHTML = '';\n",
              "          dataTable['output_type'] = 'display_data';\n",
              "          await google.colab.output.renderOutput(dataTable, element);\n",
              "          const docLink = document.createElement('div');\n",
              "          docLink.innerHTML = docLinkHtml;\n",
              "          element.appendChild(docLink);\n",
              "        }\n",
              "      </script>\n",
              "    </div>\n",
              "  </div>\n",
              "  "
            ]
          },
          "metadata": {},
          "execution_count": 132
        }
      ]
    },
    {
      "cell_type": "markdown",
      "source": [
        "## Question3\n"
      ],
      "metadata": {
        "id": "DAVvFJNq2-po"
      }
    },
    {
      "cell_type": "markdown",
      "source": [
        "### ARMA model \n"
      ],
      "metadata": {
        "id": "f1Igw-0A81ai"
      }
    },
    {
      "cell_type": "code",
      "source": [
        "import statsmodels\n",
        "import itertools\n",
        "from statsmodels.tsa.arima.model import ARIMA"
      ],
      "metadata": {
        "id": "PrreFv6N88bg"
      },
      "execution_count": null,
      "outputs": []
    },
    {
      "cell_type": "code",
      "source": [
        "def AIC_PDQ(df,ar,ii,ma): \n",
        "\n",
        "# Define the p, d and q parameters to take any value between 0 and 2\n",
        "    p = range(0,ar)\n",
        "    d = range(0,ii)\n",
        "    q = range(0, ma)\n",
        "\n",
        "# Auto-Regressive (p) -> Number of autoregressive terms.\n",
        "# Integrated (d) -> Number of nonseasonal differences needed for stationarity.\n",
        "# Moving Average (q) -> Number of lagged forecast errors in the prediction equation.\n",
        "# Generate all different combinations of p, q and q triplets\n",
        "    pdq = list(itertools.product(p, d, q))\n",
        "# Generate all different combinations of seasonal p, q and q triplets\n",
        "# Run a grid with pdq and seasonal pdq parameters calculated above and get #the best AIC value\n",
        "    ans = []\n",
        "    for comb in pdq:\n",
        "      try:\n",
        "          mod = ARIMA(df,\n",
        "                      order=comb,\n",
        "                      enforce_stationarity=True,\n",
        "                      enforce_invertibility=True)\n",
        "          \n",
        "          output = mod.fit()\n",
        "          ans.append([comb, output.aic])\n",
        "          print('ARIMA {} x {}12 : AIC Calculated ={}'.format(comb, output.aic))\n",
        "      except:\n",
        "        continue\n",
        "# Find the parameters with minimal AIC value\n",
        "    ans_df = pd.DataFrame(ans, columns=['pdq', 'aic'])\n",
        "    print(ans_df.loc[ans_df['aic'].idxmin()])\n",
        "    return ans_df"
      ],
      "metadata": {
        "id": "CIxRb0R9sWbh"
      },
      "execution_count": null,
      "outputs": []
    },
    {
      "cell_type": "code",
      "source": [
        "def BIC_PDQ(df,ar,ii,ma): \n",
        "\n",
        "# Define the p, d and q parameters to take any user defined value. We need to be careful with integration order,\n",
        "# cannot be 0.\n",
        "    p = range(0,ar)\n",
        "    d = range(0,ii)\n",
        "    q = range(0, ma)\n",
        "\n",
        "# Auto-Regressive (p) -> Number of autoregressive terms.\n",
        "# Integrated (d) -> Number of nonseasonal differences needed for stationarity.\n",
        "# Moving Average (q) -> Number of lagged forecast errors in the prediction equation.\n",
        "# Generate all different combinations of p, q and q triplets\n",
        "    pdq = list(itertools.product(p, d, q))\n",
        "# Generate all different combinations of seasonal p, q and q triplets\n",
        "# Run a grid with pdq and seasonal pdq parameters calculated above and get #the best AIC value\n",
        "    ans = []\n",
        "    for comb in pdq:\n",
        "      try:\n",
        "          mod = ARIMA(df,\n",
        "                      order=comb,\n",
        "                      enforce_stationarity=True,\n",
        "                      enforce_invertibility=True)\n",
        "          \n",
        "          output = mod.fit()\n",
        "          ans.append([comb, output.aic])\n",
        "          print('ARIMA {} x {}12 : AIC Calculated ={}'.format(comb, output.bic))\n",
        "      except:\n",
        "        continue\n",
        "# Find the parameters with minimal AIC value\n",
        "    ans_df = pd.DataFrame(ans, columns=['pdq', 'bic'])\n",
        "    print(ans_df.loc[ans_df['bic'].idxmin()])\n",
        "    return ans_df"
      ],
      "metadata": {
        "id": "i2dhumSwsdoa"
      },
      "execution_count": null,
      "outputs": []
    },
    {
      "cell_type": "code",
      "source": [
        "AIC_PDQ(df1['DCPIlog'].iloc[1:],6,1,6)"
      ],
      "metadata": {
        "id": "wSNbPNJls-_E",
        "colab": {
          "base_uri": "https://localhost:8080/",
          "height": 1000
        },
        "outputId": "0c55d0e0-0a85-4aa1-f96d-ddaad9f809d8"
      },
      "execution_count": null,
      "outputs": [
        {
          "output_type": "stream",
          "name": "stdout",
          "text": [
            "pdq      (1, 0, 2)\n",
            "aic   -8126.152166\n",
            "Name: 8, dtype: object\n"
          ]
        },
        {
          "output_type": "execute_result",
          "data": {
            "text/plain": [
              "          pdq          aic\n",
              "0   (0, 0, 0) -7695.417068\n",
              "1   (0, 0, 1) -7952.627219\n",
              "2   (0, 0, 2) -7998.103492\n",
              "3   (0, 0, 3) -8029.620725\n",
              "4   (0, 0, 4) -8037.769982\n",
              "5   (0, 0, 5) -8049.249898\n",
              "6   (1, 0, 0) -8057.451479\n",
              "7   (1, 0, 1) -8079.187191\n",
              "8   (1, 0, 2) -8126.152166\n",
              "9   (1, 0, 3) -8122.555006\n",
              "10  (1, 0, 4) -8113.166835\n",
              "11  (1, 0, 5) -8115.744712\n",
              "12  (2, 0, 0) -8068.694543\n",
              "13  (2, 0, 1) -8057.944660\n",
              "14  (2, 0, 2) -8123.781173\n",
              "15  (2, 0, 3) -8124.386056\n",
              "16  (2, 0, 4) -8120.548480\n",
              "17  (2, 0, 5) -8107.172757\n",
              "18  (3, 0, 0) -8090.516253\n",
              "19  (3, 0, 1) -8082.951269\n",
              "20  (3, 0, 2) -8125.269775\n",
              "21  (3, 0, 3) -8122.406239\n",
              "22  (3, 0, 4) -8059.462854\n",
              "23  (3, 0, 5) -8112.467752\n",
              "24  (4, 0, 0) -8097.343234\n",
              "25  (4, 0, 1) -8092.183551\n",
              "26  (4, 0, 2) -8069.449207\n",
              "27  (4, 0, 3) -8105.351623\n",
              "28  (4, 0, 4) -8078.034649\n",
              "29  (4, 0, 5) -8070.484821\n",
              "30  (5, 0, 0) -8104.826394\n",
              "31  (5, 0, 1) -8099.464151\n",
              "32  (5, 0, 2) -7930.984495\n",
              "33  (5, 0, 3) -7509.031701\n",
              "34  (5, 0, 4) -8081.871318\n",
              "35  (5, 0, 5) -8081.990567"
            ],
            "text/html": [
              "\n",
              "  <div id=\"df-9cd6d074-7860-4ae0-b853-5984b4cbf42d\">\n",
              "    <div class=\"colab-df-container\">\n",
              "      <div>\n",
              "<style scoped>\n",
              "    .dataframe tbody tr th:only-of-type {\n",
              "        vertical-align: middle;\n",
              "    }\n",
              "\n",
              "    .dataframe tbody tr th {\n",
              "        vertical-align: top;\n",
              "    }\n",
              "\n",
              "    .dataframe thead th {\n",
              "        text-align: right;\n",
              "    }\n",
              "</style>\n",
              "<table border=\"1\" class=\"dataframe\">\n",
              "  <thead>\n",
              "    <tr style=\"text-align: right;\">\n",
              "      <th></th>\n",
              "      <th>pdq</th>\n",
              "      <th>aic</th>\n",
              "    </tr>\n",
              "  </thead>\n",
              "  <tbody>\n",
              "    <tr>\n",
              "      <th>0</th>\n",
              "      <td>(0, 0, 0)</td>\n",
              "      <td>-7695.417068</td>\n",
              "    </tr>\n",
              "    <tr>\n",
              "      <th>1</th>\n",
              "      <td>(0, 0, 1)</td>\n",
              "      <td>-7952.627219</td>\n",
              "    </tr>\n",
              "    <tr>\n",
              "      <th>2</th>\n",
              "      <td>(0, 0, 2)</td>\n",
              "      <td>-7998.103492</td>\n",
              "    </tr>\n",
              "    <tr>\n",
              "      <th>3</th>\n",
              "      <td>(0, 0, 3)</td>\n",
              "      <td>-8029.620725</td>\n",
              "    </tr>\n",
              "    <tr>\n",
              "      <th>4</th>\n",
              "      <td>(0, 0, 4)</td>\n",
              "      <td>-8037.769982</td>\n",
              "    </tr>\n",
              "    <tr>\n",
              "      <th>5</th>\n",
              "      <td>(0, 0, 5)</td>\n",
              "      <td>-8049.249898</td>\n",
              "    </tr>\n",
              "    <tr>\n",
              "      <th>6</th>\n",
              "      <td>(1, 0, 0)</td>\n",
              "      <td>-8057.451479</td>\n",
              "    </tr>\n",
              "    <tr>\n",
              "      <th>7</th>\n",
              "      <td>(1, 0, 1)</td>\n",
              "      <td>-8079.187191</td>\n",
              "    </tr>\n",
              "    <tr>\n",
              "      <th>8</th>\n",
              "      <td>(1, 0, 2)</td>\n",
              "      <td>-8126.152166</td>\n",
              "    </tr>\n",
              "    <tr>\n",
              "      <th>9</th>\n",
              "      <td>(1, 0, 3)</td>\n",
              "      <td>-8122.555006</td>\n",
              "    </tr>\n",
              "    <tr>\n",
              "      <th>10</th>\n",
              "      <td>(1, 0, 4)</td>\n",
              "      <td>-8113.166835</td>\n",
              "    </tr>\n",
              "    <tr>\n",
              "      <th>11</th>\n",
              "      <td>(1, 0, 5)</td>\n",
              "      <td>-8115.744712</td>\n",
              "    </tr>\n",
              "    <tr>\n",
              "      <th>12</th>\n",
              "      <td>(2, 0, 0)</td>\n",
              "      <td>-8068.694543</td>\n",
              "    </tr>\n",
              "    <tr>\n",
              "      <th>13</th>\n",
              "      <td>(2, 0, 1)</td>\n",
              "      <td>-8057.944660</td>\n",
              "    </tr>\n",
              "    <tr>\n",
              "      <th>14</th>\n",
              "      <td>(2, 0, 2)</td>\n",
              "      <td>-8123.781173</td>\n",
              "    </tr>\n",
              "    <tr>\n",
              "      <th>15</th>\n",
              "      <td>(2, 0, 3)</td>\n",
              "      <td>-8124.386056</td>\n",
              "    </tr>\n",
              "    <tr>\n",
              "      <th>16</th>\n",
              "      <td>(2, 0, 4)</td>\n",
              "      <td>-8120.548480</td>\n",
              "    </tr>\n",
              "    <tr>\n",
              "      <th>17</th>\n",
              "      <td>(2, 0, 5)</td>\n",
              "      <td>-8107.172757</td>\n",
              "    </tr>\n",
              "    <tr>\n",
              "      <th>18</th>\n",
              "      <td>(3, 0, 0)</td>\n",
              "      <td>-8090.516253</td>\n",
              "    </tr>\n",
              "    <tr>\n",
              "      <th>19</th>\n",
              "      <td>(3, 0, 1)</td>\n",
              "      <td>-8082.951269</td>\n",
              "    </tr>\n",
              "    <tr>\n",
              "      <th>20</th>\n",
              "      <td>(3, 0, 2)</td>\n",
              "      <td>-8125.269775</td>\n",
              "    </tr>\n",
              "    <tr>\n",
              "      <th>21</th>\n",
              "      <td>(3, 0, 3)</td>\n",
              "      <td>-8122.406239</td>\n",
              "    </tr>\n",
              "    <tr>\n",
              "      <th>22</th>\n",
              "      <td>(3, 0, 4)</td>\n",
              "      <td>-8059.462854</td>\n",
              "    </tr>\n",
              "    <tr>\n",
              "      <th>23</th>\n",
              "      <td>(3, 0, 5)</td>\n",
              "      <td>-8112.467752</td>\n",
              "    </tr>\n",
              "    <tr>\n",
              "      <th>24</th>\n",
              "      <td>(4, 0, 0)</td>\n",
              "      <td>-8097.343234</td>\n",
              "    </tr>\n",
              "    <tr>\n",
              "      <th>25</th>\n",
              "      <td>(4, 0, 1)</td>\n",
              "      <td>-8092.183551</td>\n",
              "    </tr>\n",
              "    <tr>\n",
              "      <th>26</th>\n",
              "      <td>(4, 0, 2)</td>\n",
              "      <td>-8069.449207</td>\n",
              "    </tr>\n",
              "    <tr>\n",
              "      <th>27</th>\n",
              "      <td>(4, 0, 3)</td>\n",
              "      <td>-8105.351623</td>\n",
              "    </tr>\n",
              "    <tr>\n",
              "      <th>28</th>\n",
              "      <td>(4, 0, 4)</td>\n",
              "      <td>-8078.034649</td>\n",
              "    </tr>\n",
              "    <tr>\n",
              "      <th>29</th>\n",
              "      <td>(4, 0, 5)</td>\n",
              "      <td>-8070.484821</td>\n",
              "    </tr>\n",
              "    <tr>\n",
              "      <th>30</th>\n",
              "      <td>(5, 0, 0)</td>\n",
              "      <td>-8104.826394</td>\n",
              "    </tr>\n",
              "    <tr>\n",
              "      <th>31</th>\n",
              "      <td>(5, 0, 1)</td>\n",
              "      <td>-8099.464151</td>\n",
              "    </tr>\n",
              "    <tr>\n",
              "      <th>32</th>\n",
              "      <td>(5, 0, 2)</td>\n",
              "      <td>-7930.984495</td>\n",
              "    </tr>\n",
              "    <tr>\n",
              "      <th>33</th>\n",
              "      <td>(5, 0, 3)</td>\n",
              "      <td>-7509.031701</td>\n",
              "    </tr>\n",
              "    <tr>\n",
              "      <th>34</th>\n",
              "      <td>(5, 0, 4)</td>\n",
              "      <td>-8081.871318</td>\n",
              "    </tr>\n",
              "    <tr>\n",
              "      <th>35</th>\n",
              "      <td>(5, 0, 5)</td>\n",
              "      <td>-8081.990567</td>\n",
              "    </tr>\n",
              "  </tbody>\n",
              "</table>\n",
              "</div>\n",
              "      <button class=\"colab-df-convert\" onclick=\"convertToInteractive('df-9cd6d074-7860-4ae0-b853-5984b4cbf42d')\"\n",
              "              title=\"Convert this dataframe to an interactive table.\"\n",
              "              style=\"display:none;\">\n",
              "        \n",
              "  <svg xmlns=\"http://www.w3.org/2000/svg\" height=\"24px\"viewBox=\"0 0 24 24\"\n",
              "       width=\"24px\">\n",
              "    <path d=\"M0 0h24v24H0V0z\" fill=\"none\"/>\n",
              "    <path d=\"M18.56 5.44l.94 2.06.94-2.06 2.06-.94-2.06-.94-.94-2.06-.94 2.06-2.06.94zm-11 1L8.5 8.5l.94-2.06 2.06-.94-2.06-.94L8.5 2.5l-.94 2.06-2.06.94zm10 10l.94 2.06.94-2.06 2.06-.94-2.06-.94-.94-2.06-.94 2.06-2.06.94z\"/><path d=\"M17.41 7.96l-1.37-1.37c-.4-.4-.92-.59-1.43-.59-.52 0-1.04.2-1.43.59L10.3 9.45l-7.72 7.72c-.78.78-.78 2.05 0 2.83L4 21.41c.39.39.9.59 1.41.59.51 0 1.02-.2 1.41-.59l7.78-7.78 2.81-2.81c.8-.78.8-2.07 0-2.86zM5.41 20L4 18.59l7.72-7.72 1.47 1.35L5.41 20z\"/>\n",
              "  </svg>\n",
              "      </button>\n",
              "      \n",
              "  <style>\n",
              "    .colab-df-container {\n",
              "      display:flex;\n",
              "      flex-wrap:wrap;\n",
              "      gap: 12px;\n",
              "    }\n",
              "\n",
              "    .colab-df-convert {\n",
              "      background-color: #E8F0FE;\n",
              "      border: none;\n",
              "      border-radius: 50%;\n",
              "      cursor: pointer;\n",
              "      display: none;\n",
              "      fill: #1967D2;\n",
              "      height: 32px;\n",
              "      padding: 0 0 0 0;\n",
              "      width: 32px;\n",
              "    }\n",
              "\n",
              "    .colab-df-convert:hover {\n",
              "      background-color: #E2EBFA;\n",
              "      box-shadow: 0px 1px 2px rgba(60, 64, 67, 0.3), 0px 1px 3px 1px rgba(60, 64, 67, 0.15);\n",
              "      fill: #174EA6;\n",
              "    }\n",
              "\n",
              "    [theme=dark] .colab-df-convert {\n",
              "      background-color: #3B4455;\n",
              "      fill: #D2E3FC;\n",
              "    }\n",
              "\n",
              "    [theme=dark] .colab-df-convert:hover {\n",
              "      background-color: #434B5C;\n",
              "      box-shadow: 0px 1px 3px 1px rgba(0, 0, 0, 0.15);\n",
              "      filter: drop-shadow(0px 1px 2px rgba(0, 0, 0, 0.3));\n",
              "      fill: #FFFFFF;\n",
              "    }\n",
              "  </style>\n",
              "\n",
              "      <script>\n",
              "        const buttonEl =\n",
              "          document.querySelector('#df-9cd6d074-7860-4ae0-b853-5984b4cbf42d button.colab-df-convert');\n",
              "        buttonEl.style.display =\n",
              "          google.colab.kernel.accessAllowed ? 'block' : 'none';\n",
              "\n",
              "        async function convertToInteractive(key) {\n",
              "          const element = document.querySelector('#df-9cd6d074-7860-4ae0-b853-5984b4cbf42d');\n",
              "          const dataTable =\n",
              "            await google.colab.kernel.invokeFunction('convertToInteractive',\n",
              "                                                     [key], {});\n",
              "          if (!dataTable) return;\n",
              "\n",
              "          const docLinkHtml = 'Like what you see? Visit the ' +\n",
              "            '<a target=\"_blank\" href=https://colab.research.google.com/notebooks/data_table.ipynb>data table notebook</a>'\n",
              "            + ' to learn more about interactive tables.';\n",
              "          element.innerHTML = '';\n",
              "          dataTable['output_type'] = 'display_data';\n",
              "          await google.colab.output.renderOutput(dataTable, element);\n",
              "          const docLink = document.createElement('div');\n",
              "          docLink.innerHTML = docLinkHtml;\n",
              "          element.appendChild(docLink);\n",
              "        }\n",
              "      </script>\n",
              "    </div>\n",
              "  </div>\n",
              "  "
            ]
          },
          "metadata": {},
          "execution_count": 16
        }
      ]
    },
    {
      "cell_type": "code",
      "source": [
        "BIC_PDQ(df1['DCPIlog'].iloc[1:],6,1,6)"
      ],
      "metadata": {
        "colab": {
          "base_uri": "https://localhost:8080/",
          "height": 1000
        },
        "id": "2PojcjDKuoFb",
        "outputId": "a53acaf0-aa71-475b-acb3-61e6828e139a"
      },
      "execution_count": null,
      "outputs": [
        {
          "output_type": "stream",
          "name": "stdout",
          "text": [
            "pdq      (1, 0, 2)\n",
            "bic   -8126.152166\n",
            "Name: 8, dtype: object\n"
          ]
        },
        {
          "output_type": "execute_result",
          "data": {
            "text/plain": [
              "          pdq          bic\n",
              "0   (0, 0, 0) -7695.417068\n",
              "1   (0, 0, 1) -7952.627219\n",
              "2   (0, 0, 2) -7998.103492\n",
              "3   (0, 0, 3) -8029.620725\n",
              "4   (0, 0, 4) -8037.769982\n",
              "5   (0, 0, 5) -8049.249898\n",
              "6   (1, 0, 0) -8057.451479\n",
              "7   (1, 0, 1) -8079.187191\n",
              "8   (1, 0, 2) -8126.152166\n",
              "9   (1, 0, 3) -8122.555006\n",
              "10  (1, 0, 4) -8113.166835\n",
              "11  (1, 0, 5) -8115.744712\n",
              "12  (2, 0, 0) -8068.694543\n",
              "13  (2, 0, 1) -8057.944660\n",
              "14  (2, 0, 2) -8123.781173\n",
              "15  (2, 0, 3) -8124.386056\n",
              "16  (2, 0, 4) -8120.548480\n",
              "17  (2, 0, 5) -8107.172757\n",
              "18  (3, 0, 0) -8090.516253\n",
              "19  (3, 0, 1) -8082.951269\n",
              "20  (3, 0, 2) -8125.269775\n",
              "21  (3, 0, 3) -8122.406239\n",
              "22  (3, 0, 4) -8059.462854\n",
              "23  (3, 0, 5) -8112.467752\n",
              "24  (4, 0, 0) -8097.343234\n",
              "25  (4, 0, 1) -8092.183551\n",
              "26  (4, 0, 2) -8069.449207\n",
              "27  (4, 0, 3) -8105.351623\n",
              "28  (4, 0, 4) -8078.034649\n",
              "29  (4, 0, 5) -8070.484821\n",
              "30  (5, 0, 0) -8104.826394\n",
              "31  (5, 0, 1) -8099.464151\n",
              "32  (5, 0, 2) -7930.984495\n",
              "33  (5, 0, 3) -7509.031701\n",
              "34  (5, 0, 4) -8081.871318\n",
              "35  (5, 0, 5) -8081.990567"
            ],
            "text/html": [
              "\n",
              "  <div id=\"df-bd83a613-622f-409e-832f-770fb2390a9e\">\n",
              "    <div class=\"colab-df-container\">\n",
              "      <div>\n",
              "<style scoped>\n",
              "    .dataframe tbody tr th:only-of-type {\n",
              "        vertical-align: middle;\n",
              "    }\n",
              "\n",
              "    .dataframe tbody tr th {\n",
              "        vertical-align: top;\n",
              "    }\n",
              "\n",
              "    .dataframe thead th {\n",
              "        text-align: right;\n",
              "    }\n",
              "</style>\n",
              "<table border=\"1\" class=\"dataframe\">\n",
              "  <thead>\n",
              "    <tr style=\"text-align: right;\">\n",
              "      <th></th>\n",
              "      <th>pdq</th>\n",
              "      <th>bic</th>\n",
              "    </tr>\n",
              "  </thead>\n",
              "  <tbody>\n",
              "    <tr>\n",
              "      <th>0</th>\n",
              "      <td>(0, 0, 0)</td>\n",
              "      <td>-7695.417068</td>\n",
              "    </tr>\n",
              "    <tr>\n",
              "      <th>1</th>\n",
              "      <td>(0, 0, 1)</td>\n",
              "      <td>-7952.627219</td>\n",
              "    </tr>\n",
              "    <tr>\n",
              "      <th>2</th>\n",
              "      <td>(0, 0, 2)</td>\n",
              "      <td>-7998.103492</td>\n",
              "    </tr>\n",
              "    <tr>\n",
              "      <th>3</th>\n",
              "      <td>(0, 0, 3)</td>\n",
              "      <td>-8029.620725</td>\n",
              "    </tr>\n",
              "    <tr>\n",
              "      <th>4</th>\n",
              "      <td>(0, 0, 4)</td>\n",
              "      <td>-8037.769982</td>\n",
              "    </tr>\n",
              "    <tr>\n",
              "      <th>5</th>\n",
              "      <td>(0, 0, 5)</td>\n",
              "      <td>-8049.249898</td>\n",
              "    </tr>\n",
              "    <tr>\n",
              "      <th>6</th>\n",
              "      <td>(1, 0, 0)</td>\n",
              "      <td>-8057.451479</td>\n",
              "    </tr>\n",
              "    <tr>\n",
              "      <th>7</th>\n",
              "      <td>(1, 0, 1)</td>\n",
              "      <td>-8079.187191</td>\n",
              "    </tr>\n",
              "    <tr>\n",
              "      <th>8</th>\n",
              "      <td>(1, 0, 2)</td>\n",
              "      <td>-8126.152166</td>\n",
              "    </tr>\n",
              "    <tr>\n",
              "      <th>9</th>\n",
              "      <td>(1, 0, 3)</td>\n",
              "      <td>-8122.555006</td>\n",
              "    </tr>\n",
              "    <tr>\n",
              "      <th>10</th>\n",
              "      <td>(1, 0, 4)</td>\n",
              "      <td>-8113.166835</td>\n",
              "    </tr>\n",
              "    <tr>\n",
              "      <th>11</th>\n",
              "      <td>(1, 0, 5)</td>\n",
              "      <td>-8115.744712</td>\n",
              "    </tr>\n",
              "    <tr>\n",
              "      <th>12</th>\n",
              "      <td>(2, 0, 0)</td>\n",
              "      <td>-8068.694543</td>\n",
              "    </tr>\n",
              "    <tr>\n",
              "      <th>13</th>\n",
              "      <td>(2, 0, 1)</td>\n",
              "      <td>-8057.944660</td>\n",
              "    </tr>\n",
              "    <tr>\n",
              "      <th>14</th>\n",
              "      <td>(2, 0, 2)</td>\n",
              "      <td>-8123.781173</td>\n",
              "    </tr>\n",
              "    <tr>\n",
              "      <th>15</th>\n",
              "      <td>(2, 0, 3)</td>\n",
              "      <td>-8124.386056</td>\n",
              "    </tr>\n",
              "    <tr>\n",
              "      <th>16</th>\n",
              "      <td>(2, 0, 4)</td>\n",
              "      <td>-8120.548480</td>\n",
              "    </tr>\n",
              "    <tr>\n",
              "      <th>17</th>\n",
              "      <td>(2, 0, 5)</td>\n",
              "      <td>-8107.172757</td>\n",
              "    </tr>\n",
              "    <tr>\n",
              "      <th>18</th>\n",
              "      <td>(3, 0, 0)</td>\n",
              "      <td>-8090.516253</td>\n",
              "    </tr>\n",
              "    <tr>\n",
              "      <th>19</th>\n",
              "      <td>(3, 0, 1)</td>\n",
              "      <td>-8082.951269</td>\n",
              "    </tr>\n",
              "    <tr>\n",
              "      <th>20</th>\n",
              "      <td>(3, 0, 2)</td>\n",
              "      <td>-8125.269775</td>\n",
              "    </tr>\n",
              "    <tr>\n",
              "      <th>21</th>\n",
              "      <td>(3, 0, 3)</td>\n",
              "      <td>-8122.406239</td>\n",
              "    </tr>\n",
              "    <tr>\n",
              "      <th>22</th>\n",
              "      <td>(3, 0, 4)</td>\n",
              "      <td>-8059.462854</td>\n",
              "    </tr>\n",
              "    <tr>\n",
              "      <th>23</th>\n",
              "      <td>(3, 0, 5)</td>\n",
              "      <td>-8112.467752</td>\n",
              "    </tr>\n",
              "    <tr>\n",
              "      <th>24</th>\n",
              "      <td>(4, 0, 0)</td>\n",
              "      <td>-8097.343234</td>\n",
              "    </tr>\n",
              "    <tr>\n",
              "      <th>25</th>\n",
              "      <td>(4, 0, 1)</td>\n",
              "      <td>-8092.183551</td>\n",
              "    </tr>\n",
              "    <tr>\n",
              "      <th>26</th>\n",
              "      <td>(4, 0, 2)</td>\n",
              "      <td>-8069.449207</td>\n",
              "    </tr>\n",
              "    <tr>\n",
              "      <th>27</th>\n",
              "      <td>(4, 0, 3)</td>\n",
              "      <td>-8105.351623</td>\n",
              "    </tr>\n",
              "    <tr>\n",
              "      <th>28</th>\n",
              "      <td>(4, 0, 4)</td>\n",
              "      <td>-8078.034649</td>\n",
              "    </tr>\n",
              "    <tr>\n",
              "      <th>29</th>\n",
              "      <td>(4, 0, 5)</td>\n",
              "      <td>-8070.484821</td>\n",
              "    </tr>\n",
              "    <tr>\n",
              "      <th>30</th>\n",
              "      <td>(5, 0, 0)</td>\n",
              "      <td>-8104.826394</td>\n",
              "    </tr>\n",
              "    <tr>\n",
              "      <th>31</th>\n",
              "      <td>(5, 0, 1)</td>\n",
              "      <td>-8099.464151</td>\n",
              "    </tr>\n",
              "    <tr>\n",
              "      <th>32</th>\n",
              "      <td>(5, 0, 2)</td>\n",
              "      <td>-7930.984495</td>\n",
              "    </tr>\n",
              "    <tr>\n",
              "      <th>33</th>\n",
              "      <td>(5, 0, 3)</td>\n",
              "      <td>-7509.031701</td>\n",
              "    </tr>\n",
              "    <tr>\n",
              "      <th>34</th>\n",
              "      <td>(5, 0, 4)</td>\n",
              "      <td>-8081.871318</td>\n",
              "    </tr>\n",
              "    <tr>\n",
              "      <th>35</th>\n",
              "      <td>(5, 0, 5)</td>\n",
              "      <td>-8081.990567</td>\n",
              "    </tr>\n",
              "  </tbody>\n",
              "</table>\n",
              "</div>\n",
              "      <button class=\"colab-df-convert\" onclick=\"convertToInteractive('df-bd83a613-622f-409e-832f-770fb2390a9e')\"\n",
              "              title=\"Convert this dataframe to an interactive table.\"\n",
              "              style=\"display:none;\">\n",
              "        \n",
              "  <svg xmlns=\"http://www.w3.org/2000/svg\" height=\"24px\"viewBox=\"0 0 24 24\"\n",
              "       width=\"24px\">\n",
              "    <path d=\"M0 0h24v24H0V0z\" fill=\"none\"/>\n",
              "    <path d=\"M18.56 5.44l.94 2.06.94-2.06 2.06-.94-2.06-.94-.94-2.06-.94 2.06-2.06.94zm-11 1L8.5 8.5l.94-2.06 2.06-.94-2.06-.94L8.5 2.5l-.94 2.06-2.06.94zm10 10l.94 2.06.94-2.06 2.06-.94-2.06-.94-.94-2.06-.94 2.06-2.06.94z\"/><path d=\"M17.41 7.96l-1.37-1.37c-.4-.4-.92-.59-1.43-.59-.52 0-1.04.2-1.43.59L10.3 9.45l-7.72 7.72c-.78.78-.78 2.05 0 2.83L4 21.41c.39.39.9.59 1.41.59.51 0 1.02-.2 1.41-.59l7.78-7.78 2.81-2.81c.8-.78.8-2.07 0-2.86zM5.41 20L4 18.59l7.72-7.72 1.47 1.35L5.41 20z\"/>\n",
              "  </svg>\n",
              "      </button>\n",
              "      \n",
              "  <style>\n",
              "    .colab-df-container {\n",
              "      display:flex;\n",
              "      flex-wrap:wrap;\n",
              "      gap: 12px;\n",
              "    }\n",
              "\n",
              "    .colab-df-convert {\n",
              "      background-color: #E8F0FE;\n",
              "      border: none;\n",
              "      border-radius: 50%;\n",
              "      cursor: pointer;\n",
              "      display: none;\n",
              "      fill: #1967D2;\n",
              "      height: 32px;\n",
              "      padding: 0 0 0 0;\n",
              "      width: 32px;\n",
              "    }\n",
              "\n",
              "    .colab-df-convert:hover {\n",
              "      background-color: #E2EBFA;\n",
              "      box-shadow: 0px 1px 2px rgba(60, 64, 67, 0.3), 0px 1px 3px 1px rgba(60, 64, 67, 0.15);\n",
              "      fill: #174EA6;\n",
              "    }\n",
              "\n",
              "    [theme=dark] .colab-df-convert {\n",
              "      background-color: #3B4455;\n",
              "      fill: #D2E3FC;\n",
              "    }\n",
              "\n",
              "    [theme=dark] .colab-df-convert:hover {\n",
              "      background-color: #434B5C;\n",
              "      box-shadow: 0px 1px 3px 1px rgba(0, 0, 0, 0.15);\n",
              "      filter: drop-shadow(0px 1px 2px rgba(0, 0, 0, 0.3));\n",
              "      fill: #FFFFFF;\n",
              "    }\n",
              "  </style>\n",
              "\n",
              "      <script>\n",
              "        const buttonEl =\n",
              "          document.querySelector('#df-bd83a613-622f-409e-832f-770fb2390a9e button.colab-df-convert');\n",
              "        buttonEl.style.display =\n",
              "          google.colab.kernel.accessAllowed ? 'block' : 'none';\n",
              "\n",
              "        async function convertToInteractive(key) {\n",
              "          const element = document.querySelector('#df-bd83a613-622f-409e-832f-770fb2390a9e');\n",
              "          const dataTable =\n",
              "            await google.colab.kernel.invokeFunction('convertToInteractive',\n",
              "                                                     [key], {});\n",
              "          if (!dataTable) return;\n",
              "\n",
              "          const docLinkHtml = 'Like what you see? Visit the ' +\n",
              "            '<a target=\"_blank\" href=https://colab.research.google.com/notebooks/data_table.ipynb>data table notebook</a>'\n",
              "            + ' to learn more about interactive tables.';\n",
              "          element.innerHTML = '';\n",
              "          dataTable['output_type'] = 'display_data';\n",
              "          await google.colab.output.renderOutput(dataTable, element);\n",
              "          const docLink = document.createElement('div');\n",
              "          docLink.innerHTML = docLinkHtml;\n",
              "          element.appendChild(docLink);\n",
              "        }\n",
              "      </script>\n",
              "    </div>\n",
              "  </div>\n",
              "  "
            ]
          },
          "metadata": {},
          "execution_count": 137
        }
      ]
    },
    {
      "cell_type": "markdown",
      "source": [
        "We tested the combination of AR and MA parameters, both AIC and BIC gives us the same answer。The best model appears to be an ARMA(1,2)"
      ],
      "metadata": {
        "id": "XEYOqTLFv8v7"
      }
    },
    {
      "cell_type": "markdown",
      "source": [
        "### Forecast with ARMA model"
      ],
      "metadata": {
        "id": "awawsida1NhR"
      }
    },
    {
      "cell_type": "code",
      "source": [
        "df1_train = df1.iloc[1:638,]\n",
        "df1_test = df1.iloc[638:,]"
      ],
      "metadata": {
        "id": "ZEWzh1o-xbIq"
      },
      "execution_count": null,
      "outputs": []
    },
    {
      "cell_type": "code",
      "source": [
        "mod_CPI = ARIMA(df1_train['DCPIlog'], order=(1,0,2))\n",
        "mod_CPI_res = mod_CPI.fit()\n",
        "mod_CPI_res.summary()"
      ],
      "metadata": {
        "colab": {
          "base_uri": "https://localhost:8080/",
          "height": 600
        },
        "id": "vh7GYycd3u3n",
        "outputId": "ee6d7016-7b50-4a77-ebac-6a620476a034"
      },
      "execution_count": null,
      "outputs": [
        {
          "output_type": "stream",
          "name": "stderr",
          "text": [
            "/usr/local/lib/python3.7/dist-packages/statsmodels/tsa/base/tsa_model.py:527: ValueWarning: No frequency information was provided, so inferred frequency MS will be used.\n",
            "  % freq, ValueWarning)\n",
            "/usr/local/lib/python3.7/dist-packages/statsmodels/tsa/base/tsa_model.py:527: ValueWarning: No frequency information was provided, so inferred frequency MS will be used.\n",
            "  % freq, ValueWarning)\n",
            "/usr/local/lib/python3.7/dist-packages/statsmodels/tsa/base/tsa_model.py:527: ValueWarning: No frequency information was provided, so inferred frequency MS will be used.\n",
            "  % freq, ValueWarning)\n"
          ]
        },
        {
          "output_type": "execute_result",
          "data": {
            "text/plain": [
              "<class 'statsmodels.iolib.summary.Summary'>\n",
              "\"\"\"\n",
              "                               SARIMAX Results                                \n",
              "==============================================================================\n",
              "Dep. Variable:                DCPIlog   No. Observations:                  637\n",
              "Model:                 ARIMA(1, 0, 2)   Log Likelihood                2874.556\n",
              "Date:                Thu, 29 Sep 2022   AIC                          -5739.111\n",
              "Time:                        18:18:37   BIC                          -5716.827\n",
              "Sample:                    02-01-1947   HQIC                         -5730.460\n",
              "                         - 02-01-2000                                         \n",
              "Covariance Type:                  opg                                         \n",
              "==============================================================================\n",
              "                 coef    std err          z      P>|z|      [0.025      0.975]\n",
              "------------------------------------------------------------------------------\n",
              "const          0.0032      0.001      4.768      0.000       0.002       0.005\n",
              "ar.L1          0.9351      0.018     52.815      0.000       0.900       0.970\n",
              "ma.L1         -0.5322      0.026    -20.520      0.000      -0.583      -0.481\n",
              "ma.L2         -0.0848      0.031     -2.775      0.006      -0.145      -0.025\n",
              "sigma2      7.033e-06   2.14e-07     32.813      0.000    6.61e-06    7.45e-06\n",
              "===================================================================================\n",
              "Ljung-Box (L1) (Q):                   0.59   Jarque-Bera (JB):               839.68\n",
              "Prob(Q):                              0.44   Prob(JB):                         0.00\n",
              "Heteroskedasticity (H):               0.25   Skew:                             0.37\n",
              "Prob(H) (two-sided):                  0.00   Kurtosis:                         8.58\n",
              "===================================================================================\n",
              "\n",
              "Warnings:\n",
              "[1] Covariance matrix calculated using the outer product of gradients (complex-step).\n",
              "\"\"\""
            ],
            "text/html": [
              "<table class=\"simpletable\">\n",
              "<caption>SARIMAX Results</caption>\n",
              "<tr>\n",
              "  <th>Dep. Variable:</th>        <td>DCPIlog</td>     <th>  No. Observations:  </th>    <td>637</td>   \n",
              "</tr>\n",
              "<tr>\n",
              "  <th>Model:</th>            <td>ARIMA(1, 0, 2)</td>  <th>  Log Likelihood     </th> <td>2874.556</td> \n",
              "</tr>\n",
              "<tr>\n",
              "  <th>Date:</th>            <td>Thu, 29 Sep 2022</td> <th>  AIC                </th> <td>-5739.111</td>\n",
              "</tr>\n",
              "<tr>\n",
              "  <th>Time:</th>                <td>18:18:37</td>     <th>  BIC                </th> <td>-5716.827</td>\n",
              "</tr>\n",
              "<tr>\n",
              "  <th>Sample:</th>             <td>02-01-1947</td>    <th>  HQIC               </th> <td>-5730.460</td>\n",
              "</tr>\n",
              "<tr>\n",
              "  <th></th>                   <td>- 02-01-2000</td>   <th>                     </th>     <td> </td>    \n",
              "</tr>\n",
              "<tr>\n",
              "  <th>Covariance Type:</th>        <td>opg</td>       <th>                     </th>     <td> </td>    \n",
              "</tr>\n",
              "</table>\n",
              "<table class=\"simpletable\">\n",
              "<tr>\n",
              "     <td></td>       <th>coef</th>     <th>std err</th>      <th>z</th>      <th>P>|z|</th>  <th>[0.025</th>    <th>0.975]</th>  \n",
              "</tr>\n",
              "<tr>\n",
              "  <th>const</th>  <td>    0.0032</td> <td>    0.001</td> <td>    4.768</td> <td> 0.000</td> <td>    0.002</td> <td>    0.005</td>\n",
              "</tr>\n",
              "<tr>\n",
              "  <th>ar.L1</th>  <td>    0.9351</td> <td>    0.018</td> <td>   52.815</td> <td> 0.000</td> <td>    0.900</td> <td>    0.970</td>\n",
              "</tr>\n",
              "<tr>\n",
              "  <th>ma.L1</th>  <td>   -0.5322</td> <td>    0.026</td> <td>  -20.520</td> <td> 0.000</td> <td>   -0.583</td> <td>   -0.481</td>\n",
              "</tr>\n",
              "<tr>\n",
              "  <th>ma.L2</th>  <td>   -0.0848</td> <td>    0.031</td> <td>   -2.775</td> <td> 0.006</td> <td>   -0.145</td> <td>   -0.025</td>\n",
              "</tr>\n",
              "<tr>\n",
              "  <th>sigma2</th> <td> 7.033e-06</td> <td> 2.14e-07</td> <td>   32.813</td> <td> 0.000</td> <td> 6.61e-06</td> <td> 7.45e-06</td>\n",
              "</tr>\n",
              "</table>\n",
              "<table class=\"simpletable\">\n",
              "<tr>\n",
              "  <th>Ljung-Box (L1) (Q):</th>     <td>0.59</td> <th>  Jarque-Bera (JB):  </th> <td>839.68</td>\n",
              "</tr>\n",
              "<tr>\n",
              "  <th>Prob(Q):</th>                <td>0.44</td> <th>  Prob(JB):          </th>  <td>0.00</td> \n",
              "</tr>\n",
              "<tr>\n",
              "  <th>Heteroskedasticity (H):</th> <td>0.25</td> <th>  Skew:              </th>  <td>0.37</td> \n",
              "</tr>\n",
              "<tr>\n",
              "  <th>Prob(H) (two-sided):</th>    <td>0.00</td> <th>  Kurtosis:          </th>  <td>8.58</td> \n",
              "</tr>\n",
              "</table><br/><br/>Warnings:<br/>[1] Covariance matrix calculated using the outer product of gradients (complex-step)."
            ]
          },
          "metadata": {},
          "execution_count": 13
        }
      ]
    },
    {
      "cell_type": "markdown",
      "source": [
        "## Question 4"
      ],
      "metadata": {
        "id": "uwVM1MN75x37"
      }
    },
    {
      "cell_type": "markdown",
      "source": [
        "###Plot the fitted value for ARIMA model"
      ],
      "metadata": {
        "id": "jYEt_Fch53N3"
      }
    },
    {
      "cell_type": "code",
      "source": [
        "CPI_fit = mod_CPI_res.predict()"
      ],
      "metadata": {
        "id": "ufl-Zq8u5_rg"
      },
      "execution_count": null,
      "outputs": []
    },
    {
      "cell_type": "code",
      "source": [
        "import matplotlib.pyplot as plt\n",
        "import seaborn as sns\n",
        "plt.figure(figsize=(15,7))\n",
        "sns.lineplot(data=df1_train['DCPIlog'],label = 'Actual Returns')\n",
        "sns.lineplot(data=CPI_fit, label = 'In Sample Fit')\n",
        "plt.legend()\n",
        "plt.show()"
      ],
      "metadata": {
        "id": "zo4XTHfJ6bHr",
        "colab": {
          "base_uri": "https://localhost:8080/",
          "height": 442
        },
        "outputId": "d174f3e4-c832-4235-9f42-4ed88ea007a0"
      },
      "execution_count": null,
      "outputs": [
        {
          "output_type": "display_data",
          "data": {
            "text/plain": [
              "<Figure size 1080x504 with 1 Axes>"
            ],
            "image/png": "[encoded data removed]"
          },
          "metadata": {
            "needs_background": "light"
          }
        }
      ]
    },
    {
      "cell_type": "code",
      "source": [],
      "metadata": {
        "id": "kvf2Ac6leZv3"
      },
      "execution_count": null,
      "outputs": []
    },
    {
      "cell_type": "markdown",
      "source": [
        "# **Part_2**"
      ],
      "metadata": {
        "id": "p7bUsdx1s04q"
      }
    },
    {
      "cell_type": "code",
      "execution_count": null,
      "metadata": {
        "colab": {
          "base_uri": "https://localhost:8080/",
          "height": 109
        },
        "id": "6duQ8xiKsFuP",
        "outputId": "1a8cc94e-f92d-4948-b7d8-f63bd4912eec"
      },
      "outputs": [
        {
          "output_type": "display_data",
          "data": {
            "text/plain": [
              "<IPython.core.display.HTML object>"
            ],
            "text/html": [
              "\n",
              "     <input type=\"file\" id=\"files-1ade4010-a386-44c0-8252-31e2b9a9a6a4\" name=\"files[]\" multiple disabled\n",
              "        style=\"border:none\" />\n",
              "     <output id=\"result-1ade4010-a386-44c0-8252-31e2b9a9a6a4\">\n",
              "      Upload widget is only available when the cell has been executed in the\n",
              "      current browser session. Please rerun this cell to enable.\n",
              "      </output>\n",
              "      <script>// Copyright 2017 Google LLC\n",
              "//\n",
              "// Licensed under the Apache License, Version 2.0 (the \"License\");\n",
              "// you may not use this file except in compliance with the License.\n",
              "// You may obtain a copy of the License at\n",
              "//\n",
              "//      http://www.apache.org/licenses/LICENSE-2.0\n",
              "//\n",
              "// Unless required by applicable law or agreed to in writing, software\n",
              "// distributed under the License is distributed on an \"AS IS\" BASIS,\n",
              "// WITHOUT WARRANTIES OR CONDITIONS OF ANY KIND, either express or implied.\n",
              "// See the License for the specific language governing permissions and\n",
              "// limitations under the License.\n",
              "\n",
              "/**\n",
              " * @fileoverview Helpers for google.colab Python module.\n",
              " */\n",
              "(function(scope) {\n",
              "function span(text, styleAttributes = {}) {\n",
              "  const element = document.createElement('span');\n",
              "  element.textContent = text;\n",
              "  for (const key of Object.keys(styleAttributes)) {\n",
              "    element.style[key] = styleAttributes[key];\n",
              "  }\n",
              "  return element;\n",
              "}\n",
              "\n",
              "// Max number of bytes which will be uploaded at a time.\n",
              "const MAX_PAYLOAD_SIZE = 100 * 1024;\n",
              "\n",
              "function _uploadFiles(inputId, outputId) {\n",
              "  const steps = uploadFilesStep(inputId, outputId);\n",
              "  const outputElement = document.getElementById(outputId);\n",
              "  // Cache steps on the outputElement to make it available for the next call\n",
              "  // to uploadFilesContinue from Python.\n",
              "  outputElement.steps = steps;\n",
              "\n",
              "  return _uploadFilesContinue(outputId);\n",
              "}\n",
              "\n",
              "// This is roughly an async generator (not supported in the browser yet),\n",
              "// where there are multiple asynchronous steps and the Python side is going\n",
              "// to poll for completion of each step.\n",
              "// This uses a Promise to block the python side on completion of each step,\n",
              "// then passes the result of the previous step as the input to the next step.\n",
              "function _uploadFilesContinue(outputId) {\n",
              "  const outputElement = document.getElementById(outputId);\n",
              "  const steps = outputElement.steps;\n",
              "\n",
              "  const next = steps.next(outputElement.lastPromiseValue);\n",
              "  return Promise.resolve(next.value.promise).then((value) => {\n",
              "    // Cache the last promise value to make it available to the next\n",
              "    // step of the generator.\n",
              "    outputElement.lastPromiseValue = value;\n",
              "    return next.value.response;\n",
              "  });\n",
              "}\n",
              "\n",
              "/**\n",
              " * Generator function which is called between each async step of the upload\n",
              " * process.\n",
              " * @param {string} inputId Element ID of the input file picker element.\n",
              " * @param {string} outputId Element ID of the output display.\n",
              " * @return {!Iterable<!Object>} Iterable of next steps.\n",
              " */\n",
              "function* uploadFilesStep(inputId, outputId) {\n",
              "  const inputElement = document.getElementById(inputId);\n",
              "  inputElement.disabled = false;\n",
              "\n",
              "  const outputElement = document.getElementById(outputId);\n",
              "  outputElement.innerHTML = '';\n",
              "\n",
              "  const pickedPromise = new Promise((resolve) => {\n",
              "    inputElement.addEventListener('change', (e) => {\n",
              "      resolve(e.target.files);\n",
              "    });\n",
              "  });\n",
              "\n",
              "  const cancel = document.createElement('button');\n",
              "  inputElement.parentElement.appendChild(cancel);\n",
              "  cancel.textContent = 'Cancel upload';\n",
              "  const cancelPromise = new Promise((resolve) => {\n",
              "    cancel.onclick = () => {\n",
              "      resolve(null);\n",
              "    };\n",
              "  });\n",
              "\n",
              "  // Wait for the user to pick the files.\n",
              "  const files = yield {\n",
              "    promise: Promise.race([pickedPromise, cancelPromise]),\n",
              "    response: {\n",
              "      action: 'starting',\n",
              "    }\n",
              "  };\n",
              "\n",
              "  cancel.remove();\n",
              "\n",
              "  // Disable the input element since further picks are not allowed.\n",
              "  inputElement.disabled = true;\n",
              "\n",
              "  if (!files) {\n",
              "    return {\n",
              "      response: {\n",
              "        action: 'complete',\n",
              "      }\n",
              "    };\n",
              "  }\n",
              "\n",
              "  for (const file of files) {\n",
              "    const li = document.createElement('li');\n",
              "    li.append(span(file.name, {fontWeight: 'bold'}));\n",
              "    li.append(span(\n",
              "        `(${file.type || 'n/a'}) - ${file.size} bytes, ` +\n",
              "        `last modified: ${\n",
              "            file.lastModifiedDate ? file.lastModifiedDate.toLocaleDateString() :\n",
              "                                    'n/a'} - `));\n",
              "    const percent = span('0% done');\n",
              "    li.appendChild(percent);\n",
              "\n",
              "    outputElement.appendChild(li);\n",
              "\n",
              "    const fileDataPromise = new Promise((resolve) => {\n",
              "      const reader = new FileReader();\n",
              "      reader.onload = (e) => {\n",
              "        resolve(e.target.result);\n",
              "      };\n",
              "      reader.readAsArrayBuffer(file);\n",
              "    });\n",
              "    // Wait for the data to be ready.\n",
              "    let fileData = yield {\n",
              "      promise: fileDataPromise,\n",
              "      response: {\n",
              "        action: 'continue',\n",
              "      }\n",
              "    };\n",
              "\n",
              "    // Use a chunked sending to avoid message size limits. See b/62115660.\n",
              "    let position = 0;\n",
              "    do {\n",
              "      const length = Math.min(fileData.byteLength - position, MAX_PAYLOAD_SIZE);\n",
              "      const chunk = new Uint8Array(fileData, position, length);\n",
              "      position += length;\n",
              "\n",
              "      const base64 = btoa(String.fromCharCode.apply(null, chunk));\n",
              "      yield {\n",
              "        response: {\n",
              "          action: 'append',\n",
              "          file: file.name,\n",
              "          data: base64,\n",
              "        },\n",
              "      };\n",
              "\n",
              "      let percentDone = fileData.byteLength === 0 ?\n",
              "          100 :\n",
              "          Math.round((position / fileData.byteLength) * 100);\n",
              "      percent.textContent = `${percentDone}% done`;\n",
              "\n",
              "    } while (position < fileData.byteLength);\n",
              "  }\n",
              "\n",
              "  // All done.\n",
              "  yield {\n",
              "    response: {\n",
              "      action: 'complete',\n",
              "    }\n",
              "  };\n",
              "}\n",
              "\n",
              "scope.google = scope.google || {};\n",
              "scope.google.colab = scope.google.colab || {};\n",
              "scope.google.colab._files = {\n",
              "  _uploadFiles,\n",
              "  _uploadFilesContinue,\n",
              "};\n",
              "})(self);\n",
              "</script> "
            ]
          },
          "metadata": {}
        },
        {
          "output_type": "stream",
          "name": "stdout",
          "text": [
            "Saving INDPRO.xls to INDPRO.xls\n",
            "Saving Keeling_CO2data_2022-1.xlsx to Keeling_CO2data_2022-1.xlsx\n"
          ]
        }
      ],
      "source": [
        "from google.colab import files\n",
        "uploaded = files.upload()"
      ]
    },
    {
      "cell_type": "code",
      "source": [
        "pip install --upgrade xlrd"
      ],
      "metadata": {
        "colab": {
          "base_uri": "https://localhost:8080/"
        },
        "id": "6RA3uGTDQMg6",
        "outputId": "5b6f2eb4-bb35-4375-f7f0-64c49396c75c"
      },
      "execution_count": null,
      "outputs": [
        {
          "output_type": "stream",
          "name": "stdout",
          "text": [
            "Looking in indexes: https://pypi.org/simple, https://us-python.pkg.dev/colab-wheels/public/simple/\n",
            "Requirement already satisfied: xlrd in /usr/local/lib/python3.7/dist-packages (1.1.0)\n",
            "Collecting xlrd\n",
            "  Downloading xlrd-2.0.1-py2.py3-none-any.whl (96 kB)\n",
            "\u001b[K     |████████████████████████████████| 96 kB 3.4 MB/s \n",
            "\u001b[?25hInstalling collected packages: xlrd\n",
            "  Attempting uninstall: xlrd\n",
            "    Found existing installation: xlrd 1.1.0\n",
            "    Uninstalling xlrd-1.1.0:\n",
            "      Successfully uninstalled xlrd-1.1.0\n",
            "Successfully installed xlrd-2.0.1\n"
          ]
        }
      ]
    },
    {
      "cell_type": "code",
      "source": [
        "import pandas as pd\n",
        "import seaborn as sns\n",
        "import numpy as np\n",
        "from matplotlib import pyplot as plt\n",
        "import datetime\n",
        "import statsmodels.api as sm\n",
        "import statsmodels.formula.api as smf\n",
        "dfco2 = pd.read_excel('Keeling_CO2data_2022-1.xlsx')\n",
        "dfco2['Date'] = pd.to_datetime(dfco2['Date'],format='%y%m%d')\n",
        "df_co2=dfco2.set_index('Date')\n"
      ],
      "metadata": {
        "id": "S5uXj76Is0WL"
      },
      "execution_count": null,
      "outputs": []
    },
    {
      "cell_type": "markdown",
      "source": [
        "## **Question_1**"
      ],
      "metadata": {
        "id": "LqHzyCuItDVX"
      }
    },
    {
      "cell_type": "code",
      "source": [
        "sns.lineplot(data=df_co2,x='Date', y='CO2_ppm')\n",
        "plt.show()"
      ],
      "metadata": {
        "colab": {
          "base_uri": "https://localhost:8080/",
          "height": 279
        },
        "id": "GiE1FTbNtNEc",
        "outputId": "4c36749d-eec1-42b6-a3da-ef12018f7d4e"
      },
      "execution_count": null,
      "outputs": [
        {
          "output_type": "display_data",
          "data": {
            "text/plain": [
              "<Figure size 432x288 with 1 Axes>"
            ],
            "image/png": "[encoded data removed]"
          },
          "metadata": {
            "needs_background": "light"
          }
        }
      ]
    },
    {
      "cell_type": "markdown",
      "source": [
        "The seasonal effect based on years, in each year the Co2 would experience an increase than a decrease in the same year. But the overall trend through years are increase."
      ],
      "metadata": {
        "id": "WrZYUtIatT6-"
      }
    },
    {
      "cell_type": "markdown",
      "source": [
        "## **Question_2**"
      ],
      "metadata": {
        "id": "P5B28VQ1tZL7"
      }
    },
    {
      "cell_type": "code",
      "source": [
        "up_200912 = df_co2.truncate(after='2010-01')\n",
        "print(up_200912.tail())\n",
        "up_200912['trend'] = [i for i in range(1,len(up_200912)+1)]\n",
        "model_trend = smf.ols(formula = 'CO2_ppm~ 1 + trend', data= up_200912).fit()\n",
        "print(model_trend.summary())"
      ],
      "metadata": {
        "colab": {
          "base_uri": "https://localhost:8080/"
        },
        "id": "lAPYQeU6teaX",
        "outputId": "8fecb43e-eed8-432c-a7b2-11219879bf53"
      },
      "execution_count": null,
      "outputs": [
        {
          "output_type": "stream",
          "name": "stdout",
          "text": [
            "            CO2_ppm\n",
            "Date               \n",
            "2009-08-31   386.06\n",
            "2009-09-30   384.64\n",
            "2009-10-31   384.32\n",
            "2009-11-30   386.05\n",
            "2009-12-31   387.48\n",
            "                            OLS Regression Results                            \n",
            "==============================================================================\n",
            "Dep. Variable:                CO2_ppm   R-squared:                       0.982\n",
            "Model:                            OLS   Adj. R-squared:                  0.982\n",
            "Method:                 Least Squares   F-statistic:                 2.945e+04\n",
            "Date:                Wed, 05 Oct 2022   Prob (F-statistic):               0.00\n",
            "Time:                        04:43:33   Log-Likelihood:                -1325.4\n",
            "No. Observations:                 548   AIC:                             2655.\n",
            "Df Residuals:                     546   BIC:                             2663.\n",
            "Df Model:                           1                                         \n",
            "Covariance Type:            nonrobust                                         \n",
            "==============================================================================\n",
            "                 coef    std err          t      P>|t|      [0.025      0.975]\n",
            "------------------------------------------------------------------------------\n",
            "Intercept    315.1337      0.233   1352.985      0.000     314.676     315.591\n",
            "trend          0.1262      0.001    171.607      0.000       0.125       0.128\n",
            "==============================================================================\n",
            "Omnibus:                        9.074   Durbin-Watson:                   0.206\n",
            "Prob(Omnibus):                  0.011   Jarque-Bera (JB):                5.696\n",
            "Skew:                           0.063   Prob(JB):                       0.0580\n",
            "Kurtosis:                       2.517   Cond. No.                         635.\n",
            "==============================================================================\n",
            "\n",
            "Notes:\n",
            "[1] Standard Errors assume that the covariance matrix of the errors is correctly specified.\n"
          ]
        }
      ]
    },
    {
      "cell_type": "markdown",
      "source": [
        "Through the p-value shows in both Intercept and trend are 0, we conclude the trend is significant."
      ],
      "metadata": {
        "id": "jOfY4Pz7uMZH"
      }
    },
    {
      "cell_type": "code",
      "source": [
        "up_200912['trend_linerfit']=model_trend.predict()\n",
        "plt.plot(up_200912['CO2_ppm'])\n",
        "plt.plot(up_200912['trend_linerfit'])\n",
        "plt.show()"
      ],
      "metadata": {
        "colab": {
          "base_uri": "https://localhost:8080/",
          "height": 265
        },
        "id": "UWI1UyFuuN3Z",
        "outputId": "8bc83e26-f801-456e-d0de-7ef3709b22c3"
      },
      "execution_count": null,
      "outputs": [
        {
          "output_type": "display_data",
          "data": {
            "text/plain": [
              "<Figure size 432x288 with 1 Axes>"
            ],
            "image/png": "[encoded data removed]"
          },
          "metadata": {
            "needs_background": "light"
          }
        }
      ]
    },
    {
      "cell_type": "markdown",
      "source": [
        "Through the graph shows It is not a good fit."
      ],
      "metadata": {
        "id": "F-syhwvNuWeG"
      }
    },
    {
      "cell_type": "markdown",
      "source": [
        "## **Question_3**"
      ],
      "metadata": {
        "id": "l6sEJtt_ugFr"
      }
    },
    {
      "cell_type": "code",
      "source": [
        "up_200912['trend2'] = [i**2 for i in range(1,len(up_200912)+1)]\n",
        "model_trend_2 = smf.ols(formula = 'CO2_ppm~ 1 + trend + trend2', data= up_200912).fit()\n",
        "up_200912['trend2_fit'] = model_trend_2.predict()\n",
        "plt.plot(up_200912['CO2_ppm'])\n",
        "plt.plot(up_200912['trend2_fit'])\n",
        "plt.show()"
      ],
      "metadata": {
        "colab": {
          "base_uri": "https://localhost:8080/",
          "height": 265
        },
        "id": "18GEg5TYufup",
        "outputId": "14def1b7-392a-40c0-91e9-44803cc51279"
      },
      "execution_count": null,
      "outputs": [
        {
          "output_type": "display_data",
          "data": {
            "text/plain": [
              "<Figure size 432x288 with 1 Axes>"
            ],
            "image/png": "[encoded data removed]"
          },
          "metadata": {
            "needs_background": "light"
          }
        }
      ]
    },
    {
      "cell_type": "markdown",
      "source": [
        "Here We choose to use quadratic trend which is trend plus trend squared to make the trend be curved to fitter more with actual data."
      ],
      "metadata": {
        "id": "ypSO1Shwu424"
      }
    },
    {
      "cell_type": "markdown",
      "source": [
        "## **Question_4**"
      ],
      "metadata": {
        "id": "i8x1OJm7u_Er"
      }
    },
    {
      "cell_type": "code",
      "source": [
        "season=pd.DataFrame(pd.get_dummies(up_200912.index.month))\n",
        "season.columns= ['Jan', 'Feb','Mar','Apr','May', 'Jun', 'Jul', 'Aug', 'Sep', 'Oct','Nov','Dec']\n",
        "reset_index_up1 = up_200912.reset_index()\n",
        "UP_200912 = pd.merge(reset_index_up1,season,left_index=True, right_index=True).set_index('Date')\n",
        "print(UP_200912.head())"
      ],
      "metadata": {
        "colab": {
          "base_uri": "https://localhost:8080/"
        },
        "id": "UQ0Obia0vm--",
        "outputId": "5119aa17-82c3-4b0b-c74e-6c99b94a05cc"
      },
      "execution_count": null,
      "outputs": [
        {
          "output_type": "stream",
          "name": "stdout",
          "text": [
            "            CO2_ppm  trend  trend_linerfit  trend2  trend2_fit  Jan  Feb  Mar  \\\n",
            "Date                                                                            \n",
            "1964-05-31   322.25      1      315.259852       1  318.856553    0    0    0   \n",
            "1964-06-30   321.89      2      315.386013       4  318.943262    0    0    0   \n",
            "1964-07-31   320.44      3      315.512173       9  319.030114    0    0    0   \n",
            "1964-08-31   318.69      4      315.638333      16  319.117112    0    0    0   \n",
            "1964-09-30   316.71      5      315.764494      25  319.204254    0    0    0   \n",
            "\n",
            "            Apr  May  Jun  Jul  Aug  Sep  Oct  Nov  Dec  \n",
            "Date                                                     \n",
            "1964-05-31    0    1    0    0    0    0    0    0    0  \n",
            "1964-06-30    0    0    1    0    0    0    0    0    0  \n",
            "1964-07-31    0    0    0    1    0    0    0    0    0  \n",
            "1964-08-31    0    0    0    0    1    0    0    0    0  \n",
            "1964-09-30    0    0    0    0    0    1    0    0    0  \n"
          ]
        }
      ]
    },
    {
      "cell_type": "code",
      "source": [
        "model_trs = smf.ols(formula='CO2_ppm ~ 1 + trend + trend2 + Feb + Mar + Apr + May + Jun + Jul + Aug + Sep + Oct + Nov + Dec', data = UP_200912).fit()\n",
        "print(model_trs.summary())"
      ],
      "metadata": {
        "colab": {
          "base_uri": "https://localhost:8080/"
        },
        "id": "er5APFeAv1ht",
        "outputId": "79d81deb-6725-4549-8533-0c7f928176c7"
      },
      "execution_count": null,
      "outputs": [
        {
          "output_type": "stream",
          "name": "stdout",
          "text": [
            "                            OLS Regression Results                            \n",
            "==============================================================================\n",
            "Dep. Variable:                CO2_ppm   R-squared:                       0.999\n",
            "Model:                            OLS   Adj. R-squared:                  0.999\n",
            "Method:                 Least Squares   F-statistic:                 4.259e+04\n",
            "Date:                Wed, 05 Oct 2022   Prob (F-statistic):               0.00\n",
            "Time:                        04:43:47   Log-Likelihood:                -520.19\n",
            "No. Observations:                 548   AIC:                             1068.\n",
            "Df Residuals:                     534   BIC:                             1129.\n",
            "Df Model:                          13                                         \n",
            "Covariance Type:            nonrobust                                         \n",
            "==============================================================================\n",
            "                 coef    std err          t      P>|t|      [0.025      0.975]\n",
            "------------------------------------------------------------------------------\n",
            "Intercept    318.8153      0.122   2611.371      0.000     318.575     319.055\n",
            "trend          0.0861      0.001    125.646      0.000       0.085       0.087\n",
            "trend2       7.31e-05   1.21e-06     60.457      0.000    7.07e-05    7.55e-05\n",
            "Feb            0.6646      0.134      4.977      0.000       0.402       0.927\n",
            "Mar            1.3725      0.134     10.279      0.000       1.110       1.635\n",
            "Apr            2.5606      0.134     19.177      0.000       2.298       2.823\n",
            "May            3.0013      0.133     22.600      0.000       2.740       3.262\n",
            "Jun            2.3296      0.133     17.542      0.000       2.069       2.590\n",
            "Jul            0.7571      0.133      5.701      0.000       0.496       1.018\n",
            "Aug           -1.3688      0.133    -10.307      0.000      -1.630      -1.108\n",
            "Sep           -3.1952      0.133    -24.060      0.000      -3.456      -2.934\n",
            "Oct           -3.3351      0.133    -25.114      0.000      -3.596      -3.074\n",
            "Nov           -2.1010      0.133    -15.821      0.000      -2.362      -1.840\n",
            "Dec           -0.9266      0.133     -6.977      0.000      -1.187      -0.666\n",
            "==============================================================================\n",
            "Omnibus:                        1.735   Durbin-Watson:                   0.236\n",
            "Prob(Omnibus):                  0.420   Jarque-Bera (JB):                1.589\n",
            "Skew:                          -0.018   Prob(JB):                        0.452\n",
            "Kurtosis:                       2.739   Cond. No.                     1.69e+06\n",
            "==============================================================================\n",
            "\n",
            "Notes:\n",
            "[1] Standard Errors assume that the covariance matrix of the errors is correctly specified.\n",
            "[2] The condition number is large, 1.69e+06. This might indicate that there are\n",
            "strong multicollinearity or other numerical problems.\n"
          ]
        }
      ]
    },
    {
      "cell_type": "code",
      "source": [
        "UP_200912['trs_fit'] =model_trs.predict()\n",
        "plt.plot(UP_200912['CO2_ppm'])\n",
        "plt.plot(UP_200912['trs_fit'])\n",
        "plt.show()"
      ],
      "metadata": {
        "colab": {
          "base_uri": "https://localhost:8080/",
          "height": 265
        },
        "id": "sYauQP_EwFjP",
        "outputId": "b09df58f-c90c-41d8-a774-bc10b45a900c"
      },
      "execution_count": null,
      "outputs": [
        {
          "output_type": "display_data",
          "data": {
            "text/plain": [
              "<Figure size 432x288 with 1 Axes>"
            ],
            "image/png": "[encoded data removed]"
          },
          "metadata": {
            "needs_background": "light"
          }
        }
      ]
    },
    {
      "cell_type": "markdown",
      "source": [
        "Through the p value we can conclude every element here is significant, and the model shows a higher R^2"
      ],
      "metadata": {
        "id": "KkZVBrLlwHst"
      }
    },
    {
      "cell_type": "markdown",
      "source": [
        "## **Question_5**"
      ],
      "metadata": {
        "id": "Lcla3b-nwKz1"
      }
    },
    {
      "cell_type": "code",
      "source": [
        "test_data_co2 = df_co2.truncate(before='2010-01',after='2021-10')\n",
        "season1=pd.DataFrame(pd.get_dummies(test_data_co2.index.month))\n",
        "season1.columns= ['Jan', 'Feb','Mar','Apr','May', 'Jun', 'Jul', 'Aug', 'Sep', 'Oct','Nov','Dec']\n",
        "test_data_co2['trend'] = [i for i in range(len(up_200912)+1,len(test_data_co2)+len(up_200912)+1)]\n",
        "test_data_co2 ['trend2'] = [i**2 for i in range(len(up_200912)+1,len(test_data_co2)+len(up_200912)+1)]\n",
        "reset_index_up2 = test_data_co2.reset_index()\n",
        "forcast_data_co2 = pd.merge(reset_index_up2,season1,left_index=True, right_index=True).set_index('Date')\n",
        "forcast_data_co2['trs_fit'] =model_trs.predict(forcast_data_co2)\n",
        "\n",
        "plt.plot(forcast_data_co2['CO2_ppm'])\n",
        "plt.plot(forcast_data_co2['trs_fit'])\n",
        "plt.show()"
      ],
      "metadata": {
        "colab": {
          "base_uri": "https://localhost:8080/",
          "height": 266
        },
        "id": "MFBwBdZQwJ1c",
        "outputId": "d86a9382-8285-407d-b5e4-f7c90d8b6736"
      },
      "execution_count": null,
      "outputs": [
        {
          "output_type": "display_data",
          "data": {
            "text/plain": [
              "<Figure size 432x288 with 1 Axes>"
            ],
            "image/png": "[encoded data removed]"
          },
          "metadata": {
            "needs_background": "light"
          }
        }
      ]
    },
    {
      "cell_type": "markdown",
      "source": [
        "The graph shows the model is underestimate, and the underestimation increase thorugh time"
      ],
      "metadata": {
        "id": "0HwgTokGwq_y"
      }
    },
    {
      "cell_type": "markdown",
      "source": [
        "## **Question_6**"
      ],
      "metadata": {
        "id": "zxjNj_Mi2lTz"
      }
    },
    {
      "cell_type": "markdown",
      "source": [
        "We choose 'Industrial Production:Total Index', which measures the real output of all relevant establishments located in the United States, the data get from FRED."
      ],
      "metadata": {
        "id": "-d_sGF0qc-29"
      }
    },
    {
      "cell_type": "markdown",
      "source": [
        "Why we choose IP: Because Production industry is one of the most important sources of co2 emissions. And US is the second biggest country in production industry.(China is the frist biggest one but its Industrialization Process started later than US, so that we choose to use U.S. data instead of China because of the sample size of data."
      ],
      "metadata": {
        "id": "1pbM7Lc6dCQT"
      }
    },
    {
      "cell_type": "code",
      "source": [
        "from google.colab import files\n",
        "uploaded = files.upload()"
      ],
      "metadata": {
        "colab": {
          "base_uri": "https://localhost:8080/",
          "height": 76
        },
        "id": "De__KvEM2qrm",
        "outputId": "d8c5b953-982a-4c7b-ff55-48b28b9f93a4"
      },
      "execution_count": null,
      "outputs": [
        {
          "output_type": "display_data",
          "data": {
            "text/plain": [
              "<IPython.core.display.HTML object>"
            ],
            "text/html": [
              "\n",
              "     <input type=\"file\" id=\"files-c11dc560-79b6-44a5-be20-8bd3dc244fc0\" name=\"files[]\" multiple disabled\n",
              "        style=\"border:none\" />\n",
              "     <output id=\"result-c11dc560-79b6-44a5-be20-8bd3dc244fc0\">\n",
              "      Upload widget is only available when the cell has been executed in the\n",
              "      current browser session. Please rerun this cell to enable.\n",
              "      </output>\n",
              "      <script>// Copyright 2017 Google LLC\n",
              "//\n",
              "// Licensed under the Apache License, Version 2.0 (the \"License\");\n",
              "// you may not use this file except in compliance with the License.\n",
              "// You may obtain a copy of the License at\n",
              "//\n",
              "//      http://www.apache.org/licenses/LICENSE-2.0\n",
              "//\n",
              "// Unless required by applicable law or agreed to in writing, software\n",
              "// distributed under the License is distributed on an \"AS IS\" BASIS,\n",
              "// WITHOUT WARRANTIES OR CONDITIONS OF ANY KIND, either express or implied.\n",
              "// See the License for the specific language governing permissions and\n",
              "// limitations under the License.\n",
              "\n",
              "/**\n",
              " * @fileoverview Helpers for google.colab Python module.\n",
              " */\n",
              "(function(scope) {\n",
              "function span(text, styleAttributes = {}) {\n",
              "  const element = document.createElement('span');\n",
              "  element.textContent = text;\n",
              "  for (const key of Object.keys(styleAttributes)) {\n",
              "    element.style[key] = styleAttributes[key];\n",
              "  }\n",
              "  return element;\n",
              "}\n",
              "\n",
              "// Max number of bytes which will be uploaded at a time.\n",
              "const MAX_PAYLOAD_SIZE = 100 * 1024;\n",
              "\n",
              "function _uploadFiles(inputId, outputId) {\n",
              "  const steps = uploadFilesStep(inputId, outputId);\n",
              "  const outputElement = document.getElementById(outputId);\n",
              "  // Cache steps on the outputElement to make it available for the next call\n",
              "  // to uploadFilesContinue from Python.\n",
              "  outputElement.steps = steps;\n",
              "\n",
              "  return _uploadFilesContinue(outputId);\n",
              "}\n",
              "\n",
              "// This is roughly an async generator (not supported in the browser yet),\n",
              "// where there are multiple asynchronous steps and the Python side is going\n",
              "// to poll for completion of each step.\n",
              "// This uses a Promise to block the python side on completion of each step,\n",
              "// then passes the result of the previous step as the input to the next step.\n",
              "function _uploadFilesContinue(outputId) {\n",
              "  const outputElement = document.getElementById(outputId);\n",
              "  const steps = outputElement.steps;\n",
              "\n",
              "  const next = steps.next(outputElement.lastPromiseValue);\n",
              "  return Promise.resolve(next.value.promise).then((value) => {\n",
              "    // Cache the last promise value to make it available to the next\n",
              "    // step of the generator.\n",
              "    outputElement.lastPromiseValue = value;\n",
              "    return next.value.response;\n",
              "  });\n",
              "}\n",
              "\n",
              "/**\n",
              " * Generator function which is called between each async step of the upload\n",
              " * process.\n",
              " * @param {string} inputId Element ID of the input file picker element.\n",
              " * @param {string} outputId Element ID of the output display.\n",
              " * @return {!Iterable<!Object>} Iterable of next steps.\n",
              " */\n",
              "function* uploadFilesStep(inputId, outputId) {\n",
              "  const inputElement = document.getElementById(inputId);\n",
              "  inputElement.disabled = false;\n",
              "\n",
              "  const outputElement = document.getElementById(outputId);\n",
              "  outputElement.innerHTML = '';\n",
              "\n",
              "  const pickedPromise = new Promise((resolve) => {\n",
              "    inputElement.addEventListener('change', (e) => {\n",
              "      resolve(e.target.files);\n",
              "    });\n",
              "  });\n",
              "\n",
              "  const cancel = document.createElement('button');\n",
              "  inputElement.parentElement.appendChild(cancel);\n",
              "  cancel.textContent = 'Cancel upload';\n",
              "  const cancelPromise = new Promise((resolve) => {\n",
              "    cancel.onclick = () => {\n",
              "      resolve(null);\n",
              "    };\n",
              "  });\n",
              "\n",
              "  // Wait for the user to pick the files.\n",
              "  const files = yield {\n",
              "    promise: Promise.race([pickedPromise, cancelPromise]),\n",
              "    response: {\n",
              "      action: 'starting',\n",
              "    }\n",
              "  };\n",
              "\n",
              "  cancel.remove();\n",
              "\n",
              "  // Disable the input element since further picks are not allowed.\n",
              "  inputElement.disabled = true;\n",
              "\n",
              "  if (!files) {\n",
              "    return {\n",
              "      response: {\n",
              "        action: 'complete',\n",
              "      }\n",
              "    };\n",
              "  }\n",
              "\n",
              "  for (const file of files) {\n",
              "    const li = document.createElement('li');\n",
              "    li.append(span(file.name, {fontWeight: 'bold'}));\n",
              "    li.append(span(\n",
              "        `(${file.type || 'n/a'}) - ${file.size} bytes, ` +\n",
              "        `last modified: ${\n",
              "            file.lastModifiedDate ? file.lastModifiedDate.toLocaleDateString() :\n",
              "                                    'n/a'} - `));\n",
              "    const percent = span('0% done');\n",
              "    li.appendChild(percent);\n",
              "\n",
              "    outputElement.appendChild(li);\n",
              "\n",
              "    const fileDataPromise = new Promise((resolve) => {\n",
              "      const reader = new FileReader();\n",
              "      reader.onload = (e) => {\n",
              "        resolve(e.target.result);\n",
              "      };\n",
              "      reader.readAsArrayBuffer(file);\n",
              "    });\n",
              "    // Wait for the data to be ready.\n",
              "    let fileData = yield {\n",
              "      promise: fileDataPromise,\n",
              "      response: {\n",
              "        action: 'continue',\n",
              "      }\n",
              "    };\n",
              "\n",
              "    // Use a chunked sending to avoid message size limits. See b/62115660.\n",
              "    let position = 0;\n",
              "    do {\n",
              "      const length = Math.min(fileData.byteLength - position, MAX_PAYLOAD_SIZE);\n",
              "      const chunk = new Uint8Array(fileData, position, length);\n",
              "      position += length;\n",
              "\n",
              "      const base64 = btoa(String.fromCharCode.apply(null, chunk));\n",
              "      yield {\n",
              "        response: {\n",
              "          action: 'append',\n",
              "          file: file.name,\n",
              "          data: base64,\n",
              "        },\n",
              "      };\n",
              "\n",
              "      let percentDone = fileData.byteLength === 0 ?\n",
              "          100 :\n",
              "          Math.round((position / fileData.byteLength) * 100);\n",
              "      percent.textContent = `${percentDone}% done`;\n",
              "\n",
              "    } while (position < fileData.byteLength);\n",
              "  }\n",
              "\n",
              "  // All done.\n",
              "  yield {\n",
              "    response: {\n",
              "      action: 'complete',\n",
              "    }\n",
              "  };\n",
              "}\n",
              "\n",
              "scope.google = scope.google || {};\n",
              "scope.google.colab = scope.google.colab || {};\n",
              "scope.google.colab._files = {\n",
              "  _uploadFiles,\n",
              "  _uploadFilesContinue,\n",
              "};\n",
              "})(self);\n",
              "</script> "
            ]
          },
          "metadata": {}
        },
        {
          "output_type": "stream",
          "name": "stdout",
          "text": [
            "Saving INDPRO.xls to INDPRO (1).xls\n"
          ]
        }
      ]
    },
    {
      "cell_type": "code",
      "source": [
        "dfinpro =pd.read_excel('INDPRO.xls')\n",
        "co2_inpro = pd.merge(dfinpro,dfco2,left_index=True, right_index=True).set_index('Date').drop(columns=['Date_1'])\n",
        "inpro = co2_inpro['INDPRO']\n",
        "co2 = co2_inpro['CO2_ppm']\n",
        "print(np.corrcoef(inpro,co2))"
      ],
      "metadata": {
        "colab": {
          "base_uri": "https://localhost:8080/"
        },
        "id": "KTk_VGIv3Jhn",
        "outputId": "131432f8-dcaf-4f58-e988-3ab79c6d68d4"
      },
      "execution_count": null,
      "outputs": [
        {
          "output_type": "stream",
          "name": "stdout",
          "text": [
            "[[1.         0.95518045]\n",
            " [0.95518045 1.        ]]\n"
          ]
        }
      ]
    },
    {
      "cell_type": "markdown",
      "source": [
        "According to the correlation is 0.995, we conclude there is a positive strongly relation between IP index and Co2 commission."
      ],
      "metadata": {
        "id": "wQ08rUY51tvA"
      }
    },
    {
      "cell_type": "code",
      "source": [
        "test_data_inpro = inpro.truncate(after='2010-01')\n",
        "test_co2_inpro =pd.merge(test_data_inpro,UP_200912,left_index=True, right_index=True)\n",
        "test_co2_inpro['INDPRO']=0.995*test_co2_inpro['INDPRO']\n",
        "model_new = smf.ols(formula='CO2_ppm ~ 1 + trend + trend2 + Feb + Mar + Apr + May + Jun + Jul + Aug + Sep + Oct + Nov + Dec + INDPRO', data = test_co2_inpro).fit()\n",
        "print(model_new.summary())"
      ],
      "metadata": {
        "id": "4XRt9rdp1w7Q",
        "colab": {
          "base_uri": "https://localhost:8080/"
        },
        "outputId": "ae6456a0-31c6-4266-d98d-10abdb99774d"
      },
      "execution_count": null,
      "outputs": [
        {
          "output_type": "stream",
          "name": "stdout",
          "text": [
            "                            OLS Regression Results                            \n",
            "==============================================================================\n",
            "Dep. Variable:                CO2_ppm   R-squared:                       0.999\n",
            "Model:                            OLS   Adj. R-squared:                  0.999\n",
            "Method:                 Least Squares   F-statistic:                 4.029e+04\n",
            "Date:                Wed, 05 Oct 2022   Prob (F-statistic):               0.00\n",
            "Time:                        04:44:00   Log-Likelihood:                -514.61\n",
            "No. Observations:                 548   AIC:                             1059.\n",
            "Df Residuals:                     533   BIC:                             1124.\n",
            "Df Model:                          14                                         \n",
            "Covariance Type:            nonrobust                                         \n",
            "==============================================================================\n",
            "                 coef    std err          t      P>|t|      [0.025      0.975]\n",
            "------------------------------------------------------------------------------\n",
            "Intercept    319.5120      0.243   1316.854      0.000     319.035     319.989\n",
            "trend          0.0876      0.001    108.841      0.000       0.086       0.089\n",
            "trend2      7.564e-05   1.42e-06     53.169      0.000    7.28e-05    7.84e-05\n",
            "Feb            0.6655      0.132      5.030      0.000       0.406       0.925\n",
            "Mar            1.3723      0.132     10.373      0.000       1.112       1.632\n",
            "Apr            2.5596      0.132     19.348      0.000       2.300       2.819\n",
            "May            2.9980      0.132     22.784      0.000       2.740       3.256\n",
            "Jun            2.3255      0.132     17.673      0.000       2.067       2.584\n",
            "Jul            0.7520      0.132      5.715      0.000       0.494       1.011\n",
            "Aug           -1.3731      0.132    -10.435      0.000      -1.632      -1.115\n",
            "Sep           -3.2017      0.132    -24.331      0.000      -3.460      -2.943\n",
            "Oct           -3.3405      0.132    -25.386      0.000      -3.599      -3.082\n",
            "Nov           -2.1060      0.132    -16.005      0.000      -2.364      -1.848\n",
            "Dec           -0.9315      0.132     -7.079      0.000      -1.190      -0.673\n",
            "INDPRO        -0.0216      0.007     -3.313      0.001      -0.034      -0.009\n",
            "==============================================================================\n",
            "Omnibus:                        1.029   Durbin-Watson:                   0.241\n",
            "Prob(Omnibus):                  0.598   Jarque-Bera (JB):                1.081\n",
            "Skew:                          -0.043   Prob(JB):                        0.583\n",
            "Kurtosis:                       2.800   Cond. No.                     1.74e+06\n",
            "==============================================================================\n",
            "\n",
            "Notes:\n",
            "[1] Standard Errors assume that the covariance matrix of the errors is correctly specified.\n",
            "[2] The condition number is large, 1.74e+06. This might indicate that there are\n",
            "strong multicollinearity or other numerical problems.\n"
          ]
        }
      ]
    },
    {
      "cell_type": "markdown",
      "source": [
        "The summary table shows there is the same high R^2 with the original model, but the new model has a lower AIC and BIC which means the new model(with new variable) is a better-fit model."
      ],
      "metadata": {
        "id": "hFVn5jYB13DN"
      }
    },
    {
      "cell_type": "code",
      "source": [
        "test_data_inpro_1 = inpro.truncate(before='2010-01',after='2021-10')\n",
        "merged = pd.merge(test_data_inpro_1,forcast_data_co2,left_index=True, right_index=True)\n",
        "merged['trs_fit_new'] =model_new.predict(merged)\n",
        "plt.plot(merged['CO2_ppm'])\n",
        "plt.plot(merged['trs_fit_new'])\n",
        "plt.show()"
      ],
      "metadata": {
        "colab": {
          "base_uri": "https://localhost:8080/",
          "height": 266
        },
        "id": "I0NQPJxgHCQx",
        "outputId": "11f2cddd-162e-49b5-c90c-0253906ce320"
      },
      "execution_count": null,
      "outputs": [
        {
          "output_type": "display_data",
          "data": {
            "text/plain": [
              "<Figure size 432x288 with 1 Axes>"
            ],
            "image/png": "[encoded data removed]"
          },
          "metadata": {
            "needs_background": "light"
          }
        }
      ]
    },
    {
      "cell_type": "markdown",
      "source": [
        "Using the same data forcast horizon above (2010.10-2021.09),we can see the result graoh is similar to the origianal model, so we calculate the mean diference between the actual price and the predicted price through two meodels."
      ],
      "metadata": {
        "id": "raHX0ADVSI-3"
      }
    },
    {
      "cell_type": "code",
      "source": [
        "mean_diff_new = np.mean(merged['CO2_ppm']-merged['trs_fit_new'])\n",
        "mean_diff_old = np.mean(merged['CO2_ppm']-merged['trs_fit'])\n",
        "print(mean_diff_new)\n",
        "print(mean_diff_old)"
      ],
      "metadata": {
        "colab": {
          "base_uri": "https://localhost:8080/"
        },
        "id": "CJWxj-jCHSeN",
        "outputId": "3ccf5248-6e8d-4fa0-b180-24441d7ae09f"
      },
      "execution_count": null,
      "outputs": [
        {
          "output_type": "stream",
          "name": "stdout",
          "text": [
            "1.748057873499445\n",
            "2.170910476360656\n"
          ]
        }
      ]
    },
    {
      "cell_type": "markdown",
      "source": [
        "The result shows the mean diference between the actual price and the predicted price of the new model is smaller than the original one, which means this new variable makes the model fits better."
      ],
      "metadata": {
        "id": "ZJc8_q5MHTsw"
      }
    },
    {
      "cell_type": "markdown",
      "source": [
        "## **Question_7**"
      ],
      "metadata": {
        "id": "uCSEXVHUTXp2"
      }
    },
    {
      "cell_type": "markdown",
      "source": [
        "2032.01.31-2032.12.31"
      ],
      "metadata": {
        "id": "FGtyqpxSUChp"
      }
    },
    {
      "cell_type": "code",
      "source": [
        "date = pd.date_range(start = '20320131',end='20321231',freq='M')\n",
        "forcast = pd.DataFrame(index =date,  columns=['predicted'])\n",
        "print(forcast.head())"
      ],
      "metadata": {
        "id": "7mzYx2k0TQ_v"
      },
      "execution_count": null,
      "outputs": []
    },
    {
      "cell_type": "code",
      "source": [
        "season_new=pd.DataFrame(pd.get_dummies(forcast.index.month))\n",
        "season_new.columns= ['Jan', 'Feb','Mar','Apr','May', 'Jun', 'Jul', 'Aug', 'Sep', 'Oct','Nov','Dec']\n",
        "forcast['trend'] = [i for i in range(len(dfco2)+1,len(dfco2)+len(forcast)+1)]\n",
        "forcast ['trend2'] = [i**2 for i in range(len(dfco2)+1,len(dfco2)+len(forcast)+1)]\n",
        "reset_index_up3 = forcast.reset_index()\n",
        "forcast_new = pd.merge(reset_index_up3,season_new,left_index=True, right_index=True).set_index('index')\n",
        "forcast_new['predicted'] =model_trs.predict(forcast_new)\n",
        "plt.plot(forcast_new['predicted'])\n",
        "plt.show()"
      ],
      "metadata": {
        "id": "xiAavAnBVfQj"
      },
      "execution_count": null,
      "outputs": []
    }
  ]
}