{
  "nbformat": 4,
  "nbformat_minor": 0,
  "metadata": {
    "colab": {
      "provenance": [],
      "collapsed_sections": [],
      "authorship_tag": "ABX9TyM1j9bv4ZN8lvukbXmRijWH",
      "include_colab_link": true
    },
    "kernelspec": {
      "name": "python3",
      "display_name": "Python 3"
    },
    "language_info": {
      "name": "python"
    }
  },
  "cells": [
    {
      "cell_type": "markdown",
      "metadata": {
        "id": "view-in-github",
        "colab_type": "text"
      },
      "source": [
        "<a href=\"https://colab.research.google.com/github/seanzhu815/business-forecasting/blob/main/405_assignment2_past_version.ipynb\" target=\"_parent\"><img src=\"https://colab.research.google.com/assets/colab-badge.svg\" alt=\"Open In Colab\"/></a>"
      ]
    },
    {
      "cell_type": "markdown",
      "source": [
        "# `Part1"
      ],
      "metadata": {
        "id": "cZxJN83qQKKb"
      }
    },
    {
      "cell_type": "markdown",
      "source": [
        "##1"
      ],
      "metadata": {
        "id": "S-dwfT1KQN9o"
      }
    },
    {
      "cell_type": "code",
      "execution_count": null,
      "metadata": {
        "id": "hIlMU0AbDS_r",
        "colab": {
          "base_uri": "https://localhost:8080/"
        },
        "outputId": "b90e4c15-5fc2-4c92-e232-76fc6c85e9df"
      },
      "outputs": [
        {
          "output_type": "stream",
          "name": "stdout",
          "text": [
            "Mounted at /content/drive/\n"
          ]
        }
      ],
      "source": [
        "from google.colab import drive\n",
        "drive.mount('/content/drive/')\n",
        "import sys\n",
        "import joblib\n",
        "sys.modules['sklearn.externals.joblib'] = joblib\n",
        "import time\n",
        "import pandas as pd\n",
        "import matplotlib.pyplot as plt\n",
        "import numpy as np\n",
        "from sklearn.ensemble import RandomForestRegressor\n",
        "from xgboost import XGBRegressor\n",
        "# import xgboost as xgb\n",
        "from sklearn.preprocessing import MinMaxScaler\n",
        "from sklearn.model_selection import train_test_split\n",
        "from sklearn.linear_model import LinearRegression\n",
        "import statsmodels.api as sm\n",
        "from mlxtend.feature_selection import SequentialFeatureSelector as SFS\n",
        "from sklearn.feature_selection import SequentialFeatureSelector as skSFS\n",
        "from sklearn.feature_selection import RFE\n",
        "from sklearn.base import BaseEstimator\n",
        "from sklearn import linear_model\n",
        "from scipy import stats\n",
        "from sklearn.model_selection import RandomizedSearchCV, TimeSeriesSplit\n",
        "from sklearn.metrics import r2_score,mean_squared_error\n",
        "import warnings\n",
        "import seaborn as sns\n"
      ]
    },
    {
      "cell_type": "code",
      "source": [
        "import pandas as pd\n",
        "import matplotlib.pyplot as plt\n",
        "import statsmodels.tsa.stattools as ts\n",
        "from statsmodels.tsa.stattools import adfuller\n",
        "import statsmodels.api as sm\n",
        "import itertools\n",
        "from statsmodels.tsa.arima.model import ARIMA\n",
        "import numpy as np\n",
        "from sklearn.preprocessing import LabelBinarizer\n",
        "import seaborn as sns\n",
        "import warnings"
      ],
      "metadata": {
        "id": "f71tmy5Q9H8z"
      },
      "execution_count": null,
      "outputs": []
    },
    {
      "cell_type": "code",
      "source": [
        "df = pd.read_excel(\"/content/drive/MyDrive/inflation.xlsx\",0)"
      ],
      "metadata": {
        "id": "YL-iOkCnR43s"
      },
      "execution_count": null,
      "outputs": []
    },
    {
      "cell_type": "code",
      "source": [
        "df_1999=df.iloc[:492,:]\n",
        "df_1999.index=pd.to_datetime(df_1999['Date'],format='%Y%m',errors='coerce')\n",
        "sns.lineplot(data=df_1999,x='Date',y='CPILFESL')"
      ],
      "metadata": {
        "id": "V7nRuoPCSsyn"
      },
      "execution_count": null,
      "outputs": []
    },
    {
      "cell_type": "code",
      "source": [
        "from statsmodels.tsa.statespace.sarimax import SARIMAX\n",
        "from statsmodels.tsa.stattools import adfuller"
      ],
      "metadata": {
        "id": "d2zz7JyxYgh3"
      },
      "execution_count": null,
      "outputs": []
    },
    {
      "cell_type": "code",
      "source": [
        "df_1999"
      ],
      "metadata": {
        "id": "4VyfiAQ7Gh_q"
      },
      "execution_count": null,
      "outputs": []
    },
    {
      "cell_type": "code",
      "source": [
        "mom_train=df_1999.iloc[:-123,1]\n",
        "mom_test=df_1999.iloc[-123:,1]"
      ],
      "metadata": {
        "id": "HY7vYRnhXQ37"
      },
      "execution_count": null,
      "outputs": []
    },
    {
      "cell_type": "code",
      "source": [
        "mom_model=SARIMAX(mom_train, trend='c',order=(1,0,0)).fit()\n",
        "mom_model.summary()"
      ],
      "metadata": {
        "id": "so055DOVYcrJ"
      },
      "execution_count": null,
      "outputs": []
    },
    {
      "cell_type": "code",
      "source": [
        "mom_fit=pd.DataFrame(mom_model.predict()).reset_index()\n",
        "train_mom_fitted=pd.concat([mom_train.reset_index(), mom_fit], axis=1)\n",
        "train_mom_fitted.index= pd.to_datetime(mom_train.reset_index()['Date'], format='%Y-%m-%d', errors='coerce')\n",
        "train_mom_fitted.drop(['Date','index'],axis=1,inplace=True)\n",
        "train_mom_fitted"
      ],
      "metadata": {
        "id": "oKB3h7EoYlrA"
      },
      "execution_count": null,
      "outputs": []
    },
    {
      "cell_type": "code",
      "source": [
        "plt.plot(train_mom_fitted['CPILFESL'],label='Actual')\n",
        "plt.plot(train_mom_fitted['predicted_mean'],label='In-Sample Fit')\n",
        "plt.title('Month on Month Annualized Inflation')\n",
        "plt.legend()"
      ],
      "metadata": {
        "colab": {
          "base_uri": "https://localhost:8080/",
          "height": 299
        },
        "id": "02iohDobc_Ki",
        "outputId": "84b4e13a-a316-45fd-b07c-11a5c106bc2a"
      },
      "execution_count": null,
      "outputs": [
        {
          "output_type": "execute_result",
          "data": {
            "text/plain": [
              "<matplotlib.legend.Legend at 0x7f7b28c8c810>"
            ]
          },
          "metadata": {},
          "execution_count": 82
        },
        {
          "output_type": "display_data",
          "data": {
            "text/plain": [
              "<Figure size 432x288 with 1 Axes>"
            ],
            "image/png": "[encoded data removed]"
          },
          "metadata": {
            "needs_background": "light"
          }
        }
      ]
    },
    {
      "cell_type": "code",
      "source": [
        "import itertools"
      ],
      "metadata": {
        "id": "aNz16Fl87qEF"
      },
      "execution_count": null,
      "outputs": []
    },
    {
      "cell_type": "code",
      "source": [
        "def AIC_PDQ(df,ar,ii,ma): \n",
        "\n",
        "# Define the p, d and q parameters to take any user defined value. We need to be careful with integration order, cannot be 0.    p = range(0,ar)\n",
        "    p = range(0,ar)\n",
        "    d = range(0,ii)\n",
        "    q = range(0, ma)\n",
        "\n",
        "# Auto-Regressive (p) -> Number of autoregressive terms.\n",
        "# Integrated (d) -> Number of nonseasonal differences needed for stationarity.\n",
        "# Moving Average (q) -> Number of lagged forecast errors in the prediction equation.\n",
        "# Generate all different combinations of p, q and q triplets\n",
        "    pdq = list(itertools.product(p, d, q))\n",
        "\n",
        "# Run a grid with pdq and seasonal pdq parameters calculated above and get the best AIC value\n",
        "    ans = []\n",
        "    for comb in pdq:\n",
        "        try:\n",
        "            mod = ARIMA(df,\n",
        "                      order=comb,\n",
        "                      enforce_stationarity=False,\n",
        "                      enforce_invertibility=False)\n",
        "          \n",
        "            output = mod.fit()\n",
        "            ans.append([comb, output.aic])\n",
        "            print('ARIMA {} x {}12 : AIC Calculated ={}'.format(comb, output.aic))\n",
        "        except:\n",
        "            continue\n",
        "\n",
        "    ans_df = pd.DataFrame(ans, columns=['pdq', 'aic'])\n",
        "    return ans_df"
      ],
      "metadata": {
        "id": "JyTZ2I7G6yGx"
      },
      "execution_count": null,
      "outputs": []
    },
    {
      "cell_type": "code",
      "source": [
        "df_1999_train=df_1999['CPILFESL']\n",
        "AIC_cpi = AIC_PDQ(df_1999_train,3,1,2)"
      ],
      "metadata": {
        "id": "yL4AulhWc_GU"
      },
      "execution_count": null,
      "outputs": []
    },
    {
      "cell_type": "code",
      "source": [
        "minIndices = max(AIC_cpi.apply(lambda x:(np.argmin(x)),0))\n",
        "print(f'The order for best AIC = {AIC_cpi.iloc[minIndices,0]} for Inflation ')"
      ],
      "metadata": {
        "colab": {
          "base_uri": "https://localhost:8080/"
        },
        "id": "D4j-j8-B7IZ7",
        "outputId": "b035f7ad-29b2-4c92-9029-ebdeb984af02"
      },
      "execution_count": null,
      "outputs": [
        {
          "output_type": "stream",
          "name": "stdout",
          "text": [
            "The order for best AIC = (1, 0, 1) for Inflation \n"
          ]
        }
      ]
    },
    {
      "cell_type": "code",
      "source": [
        "model_cpi=ARIMA(df_1999_train,order=(1,0,1),trend='c',enforce_stationarity=True,\n",
        "enforce_invertibility=True)\n",
        "fit_cpi=model_cpi.fit()\n",
        "res_cpi = fit_cpi.resid"
      ],
      "metadata": {
        "id": "AymS3ZmM9BRj"
      },
      "execution_count": null,
      "outputs": []
    },
    {
      "cell_type": "code",
      "source": [
        "from statsmodels.stats import diagnostic as diag\n",
        "def box_test(df,l):\n",
        "    print(f'At lag of {l}')\n",
        "    print(f'X-squared = {round(sm.stats.acorr_ljungbox(df, lags=[l], return_df=True, boxpierce=True).iloc[0,0],4)}')\n",
        "    print(f'p-values = {round(sm.stats.acorr_ljungbox(df, lags=[l], return_df=True, boxpierce=True).iloc[0,1],4)}\\n')\n",
        "    return round(sm.stats.acorr_ljungbox(df, lags=[l], return_df=True, boxpierce=True).iloc[0,0],4),round(sm.stats.acorr_ljungbox(df, lags=[l], return_df=True, boxpierce=True).iloc[0,1],4)"
      ],
      "metadata": {
        "id": "4STnrRnW967N"
      },
      "execution_count": null,
      "outputs": []
    },
    {
      "cell_type": "code",
      "source": [
        "box_test(res_cpi,1)\n",
        "box_test(res_cpi,10)"
      ],
      "metadata": {
        "id": "YFtx-ZFL9taW"
      },
      "execution_count": null,
      "outputs": []
    },
    {
      "cell_type": "code",
      "source": [
        "fitted_cpi = pd.DataFrame(df_1999_train)\n",
        "fitted_cpi['predicted'] = fit_cpi.predict()\n",
        "fitted_cpi.columns = ['actual','predicted']\n",
        "fitted_cpi=fitted_cpi.reset_index().melt(id_vars='Date')"
      ],
      "metadata": {
        "id": "Bfi4B8jn_Q9L"
      },
      "execution_count": null,
      "outputs": []
    },
    {
      "cell_type": "code",
      "source": [
        "sns.lineplot(data=fitted_cpi,x='Date',y='value',hue='variable')"
      ],
      "metadata": {
        "colab": {
          "base_uri": "https://localhost:8080/",
          "height": 297
        },
        "id": "VKnB1gkoAHrY",
        "outputId": "d2550943-db98-4da1-ce79-a8ded9983d7c"
      },
      "execution_count": null,
      "outputs": [
        {
          "output_type": "execute_result",
          "data": {
            "text/plain": [
              "<matplotlib.axes._subplots.AxesSubplot at 0x7f7b247b5410>"
            ]
          },
          "metadata": {},
          "execution_count": 128
        },
        {
          "output_type": "display_data",
          "data": {
            "text/plain": [
              "<Figure size 432x288 with 1 Axes>"
            ],
            "image/png": "[encoded data removed]"
          },
          "metadata": {
            "needs_background": "light"
          }
        }
      ]
    },
    {
      "cell_type": "markdown",
      "source": [
        "We fail to reject the null hypothesis of no serial correlation for the model. "
      ],
      "metadata": {
        "id": "2AsZlVuF-VM_"
      }
    },
    {
      "cell_type": "code",
      "source": [
        "fit_cpi.summary()"
      ],
      "metadata": {
        "colab": {
          "base_uri": "https://localhost:8080/",
          "height": 452
        },
        "id": "4o2kf1l5-eV1",
        "outputId": "6a9544b2-0b0c-4db3-f56b-f1f2ddbb6834"
      },
      "execution_count": null,
      "outputs": [
        {
          "output_type": "execute_result",
          "data": {
            "text/plain": [
              "<class 'statsmodels.iolib.summary.Summary'>\n",
              "\"\"\"\n",
              "                               SARIMAX Results                                \n",
              "==============================================================================\n",
              "Dep. Variable:               CPILFESL   No. Observations:                  492\n",
              "Model:                 ARIMA(1, 0, 1)   Log Likelihood               -1096.979\n",
              "Date:                Tue, 18 Oct 2022   AIC                           2201.958\n",
              "Time:                        03:01:32   BIC                           2218.752\n",
              "Sample:                    01-01-1959   HQIC                          2208.553\n",
              "                         - 12-01-1999                                         \n",
              "Covariance Type:                  opg                                         \n",
              "==============================================================================\n",
              "                 coef    std err          z      P>|z|      [0.025      0.975]\n",
              "------------------------------------------------------------------------------\n",
              "const          4.0014      1.111      3.603      0.000       1.825       6.178\n",
              "ar.L1          0.9774      0.009    114.092      0.000       0.961       0.994\n",
              "ma.L1         -0.7490      0.027    -27.948      0.000      -0.801      -0.696\n",
              "sigma2         5.0469      0.205     24.560      0.000       4.644       5.450\n",
              "===================================================================================\n",
              "Ljung-Box (L1) (Q):                   0.19   Jarque-Bera (JB):               442.73\n",
              "Prob(Q):                              0.67   Prob(JB):                         0.00\n",
              "Heteroskedasticity (H):               0.25   Skew:                            -0.52\n",
              "Prob(H) (two-sided):                  0.00   Kurtosis:                         7.53\n",
              "===================================================================================\n",
              "\n",
              "Warnings:\n",
              "[1] Covariance matrix calculated using the outer product of gradients (complex-step).\n",
              "\"\"\""
            ],
            "text/html": [
              "<table class=\"simpletable\">\n",
              "<caption>SARIMAX Results</caption>\n",
              "<tr>\n",
              "  <th>Dep. Variable:</th>       <td>CPILFESL</td>     <th>  No. Observations:  </th>    <td>492</td>   \n",
              "</tr>\n",
              "<tr>\n",
              "  <th>Model:</th>            <td>ARIMA(1, 0, 1)</td>  <th>  Log Likelihood     </th> <td>-1096.979</td>\n",
              "</tr>\n",
              "<tr>\n",
              "  <th>Date:</th>            <td>Tue, 18 Oct 2022</td> <th>  AIC                </th> <td>2201.958</td> \n",
              "</tr>\n",
              "<tr>\n",
              "  <th>Time:</th>                <td>03:01:32</td>     <th>  BIC                </th> <td>2218.752</td> \n",
              "</tr>\n",
              "<tr>\n",
              "  <th>Sample:</th>             <td>01-01-1959</td>    <th>  HQIC               </th> <td>2208.553</td> \n",
              "</tr>\n",
              "<tr>\n",
              "  <th></th>                   <td>- 12-01-1999</td>   <th>                     </th>     <td> </td>    \n",
              "</tr>\n",
              "<tr>\n",
              "  <th>Covariance Type:</th>        <td>opg</td>       <th>                     </th>     <td> </td>    \n",
              "</tr>\n",
              "</table>\n",
              "<table class=\"simpletable\">\n",
              "<tr>\n",
              "     <td></td>       <th>coef</th>     <th>std err</th>      <th>z</th>      <th>P>|z|</th>  <th>[0.025</th>    <th>0.975]</th>  \n",
              "</tr>\n",
              "<tr>\n",
              "  <th>const</th>  <td>    4.0014</td> <td>    1.111</td> <td>    3.603</td> <td> 0.000</td> <td>    1.825</td> <td>    6.178</td>\n",
              "</tr>\n",
              "<tr>\n",
              "  <th>ar.L1</th>  <td>    0.9774</td> <td>    0.009</td> <td>  114.092</td> <td> 0.000</td> <td>    0.961</td> <td>    0.994</td>\n",
              "</tr>\n",
              "<tr>\n",
              "  <th>ma.L1</th>  <td>   -0.7490</td> <td>    0.027</td> <td>  -27.948</td> <td> 0.000</td> <td>   -0.801</td> <td>   -0.696</td>\n",
              "</tr>\n",
              "<tr>\n",
              "  <th>sigma2</th> <td>    5.0469</td> <td>    0.205</td> <td>   24.560</td> <td> 0.000</td> <td>    4.644</td> <td>    5.450</td>\n",
              "</tr>\n",
              "</table>\n",
              "<table class=\"simpletable\">\n",
              "<tr>\n",
              "  <th>Ljung-Box (L1) (Q):</th>     <td>0.19</td> <th>  Jarque-Bera (JB):  </th> <td>442.73</td>\n",
              "</tr>\n",
              "<tr>\n",
              "  <th>Prob(Q):</th>                <td>0.67</td> <th>  Prob(JB):          </th>  <td>0.00</td> \n",
              "</tr>\n",
              "<tr>\n",
              "  <th>Heteroskedasticity (H):</th> <td>0.25</td> <th>  Skew:              </th>  <td>-0.52</td>\n",
              "</tr>\n",
              "<tr>\n",
              "  <th>Prob(H) (two-sided):</th>    <td>0.00</td> <th>  Kurtosis:          </th>  <td>7.53</td> \n",
              "</tr>\n",
              "</table><br/><br/>Warnings:<br/>[1] Covariance matrix calculated using the outer product of gradients (complex-step)."
            ]
          },
          "metadata": {},
          "execution_count": 129
        }
      ]
    },
    {
      "cell_type": "markdown",
      "source": [
        "## 2"
      ],
      "metadata": {
        "id": "6V3YAlajGaxO"
      }
    },
    {
      "cell_type": "code",
      "source": [
        "def forward_stepwise_selection(input_data,to_predict,k,cc,return_features=True):\n",
        "    start = cc\n",
        "    x_new = input_data.loc[:start-1,]\n",
        "    y_new = to_predict[:start]\n",
        "    param_list=[]\n",
        "    predict_is=[]\n",
        "    predict_oos=[]\n",
        "    rmse_train=[]\n",
        "    rmse_test=[]\n",
        "    r_squared=[]\n",
        "    const_list=['const']\n",
        "    lr = LinearRegression()  #Linear regression function\n",
        "    for i in range(start,len(X)):\n",
        "      x_new = X.loc[:start-1,]\n",
        "      y_new = Y[:start]\n",
        "      sfs = SFS(lr, k_features=k, #stepwise selection \n",
        "                    forward=True, \n",
        "                    scoring='neg_mean_squared_error',\n",
        "                    cv=0)\n",
        "      sfs = sfs.fit(x_new, y_new) # fit the stepwise model\n",
        "      x_train=sm.add_constant(x_new[np.array(sfs.subsets_[k]['feature_names']).tolist()])\n",
        "      reg=sm.OLS(y_new,x_train).fit()\n",
        "      prediction_train=reg.predict(sm.add_constant(x_new[np.array(sfs.subsets_[k]['feature_names']).tolist()]))\n",
        "      predict_is.append(prediction_train)\n",
        "      x_test=pd.DataFrame(X.loc[i]).T\n",
        "      prediction_test=reg.predict(sm.add_constant(x_test[const_list+np.array(sfs.subsets_[k]['feature_names']).tolist()]))\n",
        "      predict_oos.append(prediction_test)\n",
        "      param_list.append(np.array(np.array(sfs.subsets_[k]['feature_names']).tolist()))\n",
        "      rmse_train.append(mean_squared_error(y_new, prediction_train))\n",
        "      r_squared.append(r2_score(y_new, prediction_train))\n",
        "      rmse_train.append(mean_squared_error(y_new, prediction_train))\n",
        "      start = i\n",
        "      x_new = x_new.append(pd.DataFrame(X.loc[start]).T)\n",
        "      y_new = y_new.append(pd.Series(Y[start]))\n",
        "    rmse_test.append(mean_squared_error(to_predict[cc:], predict_oos))    \n",
        "    \n",
        "    if return_features:\n",
        "      return rmse_train, rmse_test, r_squared,predict_is,predict_oos, param_list\n",
        "    else:\n",
        "      return rmse_train, rmse_test, r_squared,predict_is,predict_oos\n",
        "\n",
        "def backward_stepwise_selection(input_data,to_predict,k,cc,return_features=True):\n",
        "    start = cc\n",
        "    x_new = input_data.loc[:start-1,]\n",
        "    y_new = to_predict[:start]\n",
        "    param_list=[]\n",
        "    predict_is=[]\n",
        "    predict_oos=[]\n",
        "    rmse_train=[]\n",
        "    rmse_test=[]\n",
        "    r_squared=[]\n",
        "    const_list=['0']\n",
        "    lr = LinearRegression()  #Linear regression function\n",
        "    for i in range(start,len(X)):\n",
        "        sfs = SFS(lr, k_features=k, #stepwise selection \n",
        "              forward=False, \n",
        "              scoring='neg_mean_squared_error',\n",
        "              cv=0)\n",
        "        sfs = sfs.fit(x_new.values, y_new.values)\n",
        "        names_list=const_list+np.array(sfs.subsets_[k]['feature_names']).tolist()\n",
        "        names=list(map(int, names_list))\n",
        "        x_train = x_new.iloc[:,names]\n",
        "        reg=sm.OLS(y_new,x_train).fit()\n",
        "        prediction_train=reg.predict(x_train)\n",
        "        predict_is.append(prediction_train)\n",
        "        x_test=pd.DataFrame(input_data.loc[i]).T\n",
        "        prediction_test=reg.predict(x_test.iloc[:,names])\n",
        "        predict_oos.append(prediction_test)\n",
        "        param_list.append(np.array(np.array(sfs.subsets_[k]['feature_names']).tolist()))\n",
        "        r_squared.append(r2_score(y_new, prediction_train))\n",
        "        rmse_train.append(mean_squared_error(y_new, prediction_train))\n",
        "        start = i\n",
        "        x_new = x_new.append(pd.DataFrame(X.loc[start]).T)\n",
        "        y_new = y_new.append(pd.Series(Y[start]))\n",
        "        y_new=y_new.reset_index(drop=True)\n",
        "\n",
        "    rmse_test.append(mean_squared_error(to_predict[cc:], predict_oos))    \n",
        "    \n",
        "    if return_features:\n",
        "      return rmse_train, rmse_test, r_squared,predict_is,predict_oos, param_list\n",
        "    else:\n",
        "      return rmse_train, rmse_test, r_squared,predict_is,predict_oos"
      ],
      "metadata": {
        "id": "q-BijcLeGkga"
      },
      "execution_count": null,
      "outputs": []
    },
    {
      "cell_type": "code",
      "source": [
        "df1 = pd.read_excel(\"/content/drive/MyDrive/inflation.xlsx\",0)\n",
        "date = pd.to_datetime(df1['Date'], format='%Y%m', errors='coerce')\n",
        "df1.drop('Date', axis=1, inplace=True)"
      ],
      "metadata": {
        "id": "ddd-AkUGRa44"
      },
      "execution_count": null,
      "outputs": []
    },
    {
      "cell_type": "code",
      "source": [
        "X = df1.loc[398:492].reset_index(drop=True)\n",
        "Y = df1.loc[398:492,'CPILFESL'].reset_index(drop=True)\n",
        "X.drop(['CPILFESL'],axis=1,inplace=True)\n",
        "X=sm.add_constant(X)\n",
        "date=date[398:492]"
      ],
      "metadata": {
        "colab": {
          "base_uri": "https://localhost:8080/"
        },
        "id": "ZRMrJq2FGcVG",
        "outputId": "78dab750-684e-4a54-fc8d-c76ad8ee3feb"
      },
      "execution_count": null,
      "outputs": [
        {
          "output_type": "stream",
          "name": "stderr",
          "text": [
            "/usr/local/lib/python3.7/dist-packages/statsmodels/tsa/tsatools.py:142: FutureWarning: In a future version of pandas all arguments of concat except for the argument 'objs' will be keyword-only\n",
            "  x = pd.concat(x[::order], 1)\n"
          ]
        }
      ]
    },
    {
      "cell_type": "code",
      "source": [
        "X\n"
      ],
      "metadata": {
        "colab": {
          "base_uri": "https://localhost:8080/",
          "height": 488
        },
        "id": "Xw2bfPjzTkZ4",
        "outputId": "a58cba53-30db-4c32-cc9e-69add285d30c"
      },
      "execution_count": null,
      "outputs": [
        {
          "output_type": "execute_result",
          "data": {
            "text/plain": [
              "    const       RPI   W875RX1  DPCERA3M086SBEA  CMRMTSPLx   RETAILx    INDPRO  \\\n",
              "0     1.0  0.001653  0.000812         0.001824   0.004017 -0.003001  0.008279   \n",
              "1     1.0  0.003730  0.002751         0.000839   0.006642  0.006017  0.007593   \n",
              "2     1.0  0.005329  0.005493         0.005146  -0.008738  0.005467  0.003221   \n",
              "3     1.0  0.004173  0.004447         0.002696   0.010487  0.002804  0.000539   \n",
              "4     1.0 -0.000796 -0.001346         0.003342   0.013303  0.007080  0.008911   \n",
              "..    ...       ...       ...              ...        ...       ...       ...   \n",
              "90    1.0 -0.000399 -0.000359         0.005007  -0.001815  0.004168 -0.004220   \n",
              "91    1.0  0.006031  0.006649         0.002197   0.008748  0.001915  0.012894   \n",
              "92    1.0  0.006911  0.008011         0.004905   0.005156  0.011948  0.005209   \n",
              "93    1.0  0.008174  0.008851         0.011899   0.004322  0.018317  0.007834   \n",
              "94    1.0  0.008892  0.009627        -0.002434   0.007932 -0.006763 -0.000592   \n",
              "\n",
              "     IPFPNSS   IPFINAL   IPCONGD  ...  DNDGRG3M086SBEA  DSERRG3M086SBEA  \\\n",
              "0   0.008512  0.008994  0.009106  ...         0.001266        -0.000199   \n",
              "1   0.007433  0.007599  0.009344  ...        -0.002156         0.000777   \n",
              "2   0.005498  0.005804  0.006482  ...         0.000976        -0.002553   \n",
              "3  -0.002438 -0.003092 -0.004904  ...         0.003189         0.000237   \n",
              "4   0.009982  0.011293  0.012977  ...        -0.002334         0.002648   \n",
              "..       ...       ...       ...  ...              ...              ...   \n",
              "90 -0.005361 -0.007374 -0.007842  ...         0.003549         0.001476   \n",
              "91  0.013504  0.015008  0.019292  ...        -0.006847        -0.000417   \n",
              "92  0.001109 -0.000693 -0.000714  ...        -0.002364        -0.000343   \n",
              "93  0.008984  0.009121  0.010821  ...         0.007839        -0.000327   \n",
              "94 -0.002811 -0.004488 -0.013108  ...        -0.004309         0.001528   \n",
              "\n",
              "    CES0600000008  CES2000000008  CES3000000008  UMCSENTx  DTCOLNVHFNM  \\\n",
              "0        0.000836       0.011670      -0.003556       7.2    -0.016313   \n",
              "1        0.000830      -0.005836       0.001759       1.2     0.037147   \n",
              "2       -0.002514      -0.000726      -0.000890       2.0    -0.052941   \n",
              "3        0.002500       0.007957      -0.000883       1.2     0.045621   \n",
              "4       -0.004169      -0.015187      -0.000003      -3.8    -0.003523   \n",
              "..            ...            ...            ...       ...          ...   \n",
              "90       0.004721       0.005336       0.001426       2.7    -0.060199   \n",
              "91      -0.004053      -0.000022      -0.003580      -4.0     0.032110   \n",
              "92      -0.000002      -0.004720       0.001429       4.0     0.005214   \n",
              "93       0.002007       0.004112       0.002134      -1.8     0.012954   \n",
              "94       0.000655      -0.001185       0.001404       6.6    -0.002275   \n",
              "\n",
              "    DTCTHFNM    INVEST  VIXCLSx  \n",
              "0   0.001663 -0.003653  16.2227  \n",
              "1  -0.005843  0.001010  16.1885  \n",
              "2   0.000207  0.004327  14.7280  \n",
              "3   0.008812 -0.001184  14.7531  \n",
              "4  -0.008544  0.002648  13.3036  \n",
              "..       ...       ...      ...  \n",
              "90 -0.002851 -0.000489  26.0494  \n",
              "91 -0.004752  0.002066  25.3700  \n",
              "92  0.002042 -0.011789  22.2295  \n",
              "93  0.000935  0.017419  23.2213  \n",
              "94 -0.001276 -0.009868  24.8430  \n",
              "\n",
              "[95 rows x 127 columns]"
            ],
            "text/html": [
              "\n",
              "  <div id=\"df-bb049da3-72b6-4466-b4ec-739dbd8465c1\">\n",
              "    <div class=\"colab-df-container\">\n",
              "      <div>\n",
              "<style scoped>\n",
              "    .dataframe tbody tr th:only-of-type {\n",
              "        vertical-align: middle;\n",
              "    }\n",
              "\n",
              "    .dataframe tbody tr th {\n",
              "        vertical-align: top;\n",
              "    }\n",
              "\n",
              "    .dataframe thead th {\n",
              "        text-align: right;\n",
              "    }\n",
              "</style>\n",
              "<table border=\"1\" class=\"dataframe\">\n",
              "  <thead>\n",
              "    <tr style=\"text-align: right;\">\n",
              "      <th></th>\n",
              "      <th>const</th>\n",
              "      <th>RPI</th>\n",
              "      <th>W875RX1</th>\n",
              "      <th>DPCERA3M086SBEA</th>\n",
              "      <th>CMRMTSPLx</th>\n",
              "      <th>RETAILx</th>\n",
              "      <th>INDPRO</th>\n",
              "      <th>IPFPNSS</th>\n",
              "      <th>IPFINAL</th>\n",
              "      <th>IPCONGD</th>\n",
              "      <th>...</th>\n",
              "      <th>DNDGRG3M086SBEA</th>\n",
              "      <th>DSERRG3M086SBEA</th>\n",
              "      <th>CES0600000008</th>\n",
              "      <th>CES2000000008</th>\n",
              "      <th>CES3000000008</th>\n",
              "      <th>UMCSENTx</th>\n",
              "      <th>DTCOLNVHFNM</th>\n",
              "      <th>DTCTHFNM</th>\n",
              "      <th>INVEST</th>\n",
              "      <th>VIXCLSx</th>\n",
              "    </tr>\n",
              "  </thead>\n",
              "  <tbody>\n",
              "    <tr>\n",
              "      <th>0</th>\n",
              "      <td>1.0</td>\n",
              "      <td>0.001653</td>\n",
              "      <td>0.000812</td>\n",
              "      <td>0.001824</td>\n",
              "      <td>0.004017</td>\n",
              "      <td>-0.003001</td>\n",
              "      <td>0.008279</td>\n",
              "      <td>0.008512</td>\n",
              "      <td>0.008994</td>\n",
              "      <td>0.009106</td>\n",
              "      <td>...</td>\n",
              "      <td>0.001266</td>\n",
              "      <td>-0.000199</td>\n",
              "      <td>0.000836</td>\n",
              "      <td>0.011670</td>\n",
              "      <td>-0.003556</td>\n",
              "      <td>7.2</td>\n",
              "      <td>-0.016313</td>\n",
              "      <td>0.001663</td>\n",
              "      <td>-0.003653</td>\n",
              "      <td>16.2227</td>\n",
              "    </tr>\n",
              "    <tr>\n",
              "      <th>1</th>\n",
              "      <td>1.0</td>\n",
              "      <td>0.003730</td>\n",
              "      <td>0.002751</td>\n",
              "      <td>0.000839</td>\n",
              "      <td>0.006642</td>\n",
              "      <td>0.006017</td>\n",
              "      <td>0.007593</td>\n",
              "      <td>0.007433</td>\n",
              "      <td>0.007599</td>\n",
              "      <td>0.009344</td>\n",
              "      <td>...</td>\n",
              "      <td>-0.002156</td>\n",
              "      <td>0.000777</td>\n",
              "      <td>0.000830</td>\n",
              "      <td>-0.005836</td>\n",
              "      <td>0.001759</td>\n",
              "      <td>1.2</td>\n",
              "      <td>0.037147</td>\n",
              "      <td>-0.005843</td>\n",
              "      <td>0.001010</td>\n",
              "      <td>16.1885</td>\n",
              "    </tr>\n",
              "    <tr>\n",
              "      <th>2</th>\n",
              "      <td>1.0</td>\n",
              "      <td>0.005329</td>\n",
              "      <td>0.005493</td>\n",
              "      <td>0.005146</td>\n",
              "      <td>-0.008738</td>\n",
              "      <td>0.005467</td>\n",
              "      <td>0.003221</td>\n",
              "      <td>0.005498</td>\n",
              "      <td>0.005804</td>\n",
              "      <td>0.006482</td>\n",
              "      <td>...</td>\n",
              "      <td>0.000976</td>\n",
              "      <td>-0.002553</td>\n",
              "      <td>-0.002514</td>\n",
              "      <td>-0.000726</td>\n",
              "      <td>-0.000890</td>\n",
              "      <td>2.0</td>\n",
              "      <td>-0.052941</td>\n",
              "      <td>0.000207</td>\n",
              "      <td>0.004327</td>\n",
              "      <td>14.7280</td>\n",
              "    </tr>\n",
              "    <tr>\n",
              "      <th>3</th>\n",
              "      <td>1.0</td>\n",
              "      <td>0.004173</td>\n",
              "      <td>0.004447</td>\n",
              "      <td>0.002696</td>\n",
              "      <td>0.010487</td>\n",
              "      <td>0.002804</td>\n",
              "      <td>0.000539</td>\n",
              "      <td>-0.002438</td>\n",
              "      <td>-0.003092</td>\n",
              "      <td>-0.004904</td>\n",
              "      <td>...</td>\n",
              "      <td>0.003189</td>\n",
              "      <td>0.000237</td>\n",
              "      <td>0.002500</td>\n",
              "      <td>0.007957</td>\n",
              "      <td>-0.000883</td>\n",
              "      <td>1.2</td>\n",
              "      <td>0.045621</td>\n",
              "      <td>0.008812</td>\n",
              "      <td>-0.001184</td>\n",
              "      <td>14.7531</td>\n",
              "    </tr>\n",
              "    <tr>\n",
              "      <th>4</th>\n",
              "      <td>1.0</td>\n",
              "      <td>-0.000796</td>\n",
              "      <td>-0.001346</td>\n",
              "      <td>0.003342</td>\n",
              "      <td>0.013303</td>\n",
              "      <td>0.007080</td>\n",
              "      <td>0.008911</td>\n",
              "      <td>0.009982</td>\n",
              "      <td>0.011293</td>\n",
              "      <td>0.012977</td>\n",
              "      <td>...</td>\n",
              "      <td>-0.002334</td>\n",
              "      <td>0.002648</td>\n",
              "      <td>-0.004169</td>\n",
              "      <td>-0.015187</td>\n",
              "      <td>-0.000003</td>\n",
              "      <td>-3.8</td>\n",
              "      <td>-0.003523</td>\n",
              "      <td>-0.008544</td>\n",
              "      <td>0.002648</td>\n",
              "      <td>13.3036</td>\n",
              "    </tr>\n",
              "    <tr>\n",
              "      <th>...</th>\n",
              "      <td>...</td>\n",
              "      <td>...</td>\n",
              "      <td>...</td>\n",
              "      <td>...</td>\n",
              "      <td>...</td>\n",
              "      <td>...</td>\n",
              "      <td>...</td>\n",
              "      <td>...</td>\n",
              "      <td>...</td>\n",
              "      <td>...</td>\n",
              "      <td>...</td>\n",
              "      <td>...</td>\n",
              "      <td>...</td>\n",
              "      <td>...</td>\n",
              "      <td>...</td>\n",
              "      <td>...</td>\n",
              "      <td>...</td>\n",
              "      <td>...</td>\n",
              "      <td>...</td>\n",
              "      <td>...</td>\n",
              "      <td>...</td>\n",
              "    </tr>\n",
              "    <tr>\n",
              "      <th>90</th>\n",
              "      <td>1.0</td>\n",
              "      <td>-0.000399</td>\n",
              "      <td>-0.000359</td>\n",
              "      <td>0.005007</td>\n",
              "      <td>-0.001815</td>\n",
              "      <td>0.004168</td>\n",
              "      <td>-0.004220</td>\n",
              "      <td>-0.005361</td>\n",
              "      <td>-0.007374</td>\n",
              "      <td>-0.007842</td>\n",
              "      <td>...</td>\n",
              "      <td>0.003549</td>\n",
              "      <td>0.001476</td>\n",
              "      <td>0.004721</td>\n",
              "      <td>0.005336</td>\n",
              "      <td>0.001426</td>\n",
              "      <td>2.7</td>\n",
              "      <td>-0.060199</td>\n",
              "      <td>-0.002851</td>\n",
              "      <td>-0.000489</td>\n",
              "      <td>26.0494</td>\n",
              "    </tr>\n",
              "    <tr>\n",
              "      <th>91</th>\n",
              "      <td>1.0</td>\n",
              "      <td>0.006031</td>\n",
              "      <td>0.006649</td>\n",
              "      <td>0.002197</td>\n",
              "      <td>0.008748</td>\n",
              "      <td>0.001915</td>\n",
              "      <td>0.012894</td>\n",
              "      <td>0.013504</td>\n",
              "      <td>0.015008</td>\n",
              "      <td>0.019292</td>\n",
              "      <td>...</td>\n",
              "      <td>-0.006847</td>\n",
              "      <td>-0.000417</td>\n",
              "      <td>-0.004053</td>\n",
              "      <td>-0.000022</td>\n",
              "      <td>-0.003580</td>\n",
              "      <td>-4.0</td>\n",
              "      <td>0.032110</td>\n",
              "      <td>-0.004752</td>\n",
              "      <td>0.002066</td>\n",
              "      <td>25.3700</td>\n",
              "    </tr>\n",
              "    <tr>\n",
              "      <th>92</th>\n",
              "      <td>1.0</td>\n",
              "      <td>0.006911</td>\n",
              "      <td>0.008011</td>\n",
              "      <td>0.004905</td>\n",
              "      <td>0.005156</td>\n",
              "      <td>0.011948</td>\n",
              "      <td>0.005209</td>\n",
              "      <td>0.001109</td>\n",
              "      <td>-0.000693</td>\n",
              "      <td>-0.000714</td>\n",
              "      <td>...</td>\n",
              "      <td>-0.002364</td>\n",
              "      <td>-0.000343</td>\n",
              "      <td>-0.000002</td>\n",
              "      <td>-0.004720</td>\n",
              "      <td>0.001429</td>\n",
              "      <td>4.0</td>\n",
              "      <td>0.005214</td>\n",
              "      <td>0.002042</td>\n",
              "      <td>-0.011789</td>\n",
              "      <td>22.2295</td>\n",
              "    </tr>\n",
              "    <tr>\n",
              "      <th>93</th>\n",
              "      <td>1.0</td>\n",
              "      <td>0.008174</td>\n",
              "      <td>0.008851</td>\n",
              "      <td>0.011899</td>\n",
              "      <td>0.004322</td>\n",
              "      <td>0.018317</td>\n",
              "      <td>0.007834</td>\n",
              "      <td>0.008984</td>\n",
              "      <td>0.009121</td>\n",
              "      <td>0.010821</td>\n",
              "      <td>...</td>\n",
              "      <td>0.007839</td>\n",
              "      <td>-0.000327</td>\n",
              "      <td>0.002007</td>\n",
              "      <td>0.004112</td>\n",
              "      <td>0.002134</td>\n",
              "      <td>-1.8</td>\n",
              "      <td>0.012954</td>\n",
              "      <td>0.000935</td>\n",
              "      <td>0.017419</td>\n",
              "      <td>23.2213</td>\n",
              "    </tr>\n",
              "    <tr>\n",
              "      <th>94</th>\n",
              "      <td>1.0</td>\n",
              "      <td>0.008892</td>\n",
              "      <td>0.009627</td>\n",
              "      <td>-0.002434</td>\n",
              "      <td>0.007932</td>\n",
              "      <td>-0.006763</td>\n",
              "      <td>-0.000592</td>\n",
              "      <td>-0.002811</td>\n",
              "      <td>-0.004488</td>\n",
              "      <td>-0.013108</td>\n",
              "      <td>...</td>\n",
              "      <td>-0.004309</td>\n",
              "      <td>0.001528</td>\n",
              "      <td>0.000655</td>\n",
              "      <td>-0.001185</td>\n",
              "      <td>0.001404</td>\n",
              "      <td>6.6</td>\n",
              "      <td>-0.002275</td>\n",
              "      <td>-0.001276</td>\n",
              "      <td>-0.009868</td>\n",
              "      <td>24.8430</td>\n",
              "    </tr>\n",
              "  </tbody>\n",
              "</table>\n",
              "<p>95 rows × 127 columns</p>\n",
              "</div>\n",
              "      <button class=\"colab-df-convert\" onclick=\"convertToInteractive('df-bb049da3-72b6-4466-b4ec-739dbd8465c1')\"\n",
              "              title=\"Convert this dataframe to an interactive table.\"\n",
              "              style=\"display:none;\">\n",
              "        \n",
              "  <svg xmlns=\"http://www.w3.org/2000/svg\" height=\"24px\"viewBox=\"0 0 24 24\"\n",
              "       width=\"24px\">\n",
              "    <path d=\"M0 0h24v24H0V0z\" fill=\"none\"/>\n",
              "    <path d=\"M18.56 5.44l.94 2.06.94-2.06 2.06-.94-2.06-.94-.94-2.06-.94 2.06-2.06.94zm-11 1L8.5 8.5l.94-2.06 2.06-.94-2.06-.94L8.5 2.5l-.94 2.06-2.06.94zm10 10l.94 2.06.94-2.06 2.06-.94-2.06-.94-.94-2.06-.94 2.06-2.06.94z\"/><path d=\"M17.41 7.96l-1.37-1.37c-.4-.4-.92-.59-1.43-.59-.52 0-1.04.2-1.43.59L10.3 9.45l-7.72 7.72c-.78.78-.78 2.05 0 2.83L4 21.41c.39.39.9.59 1.41.59.51 0 1.02-.2 1.41-.59l7.78-7.78 2.81-2.81c.8-.78.8-2.07 0-2.86zM5.41 20L4 18.59l7.72-7.72 1.47 1.35L5.41 20z\"/>\n",
              "  </svg>\n",
              "      </button>\n",
              "      \n",
              "  <style>\n",
              "    .colab-df-container {\n",
              "      display:flex;\n",
              "      flex-wrap:wrap;\n",
              "      gap: 12px;\n",
              "    }\n",
              "\n",
              "    .colab-df-convert {\n",
              "      background-color: #E8F0FE;\n",
              "      border: none;\n",
              "      border-radius: 50%;\n",
              "      cursor: pointer;\n",
              "      display: none;\n",
              "      fill: #1967D2;\n",
              "      height: 32px;\n",
              "      padding: 0 0 0 0;\n",
              "      width: 32px;\n",
              "    }\n",
              "\n",
              "    .colab-df-convert:hover {\n",
              "      background-color: #E2EBFA;\n",
              "      box-shadow: 0px 1px 2px rgba(60, 64, 67, 0.3), 0px 1px 3px 1px rgba(60, 64, 67, 0.15);\n",
              "      fill: #174EA6;\n",
              "    }\n",
              "\n",
              "    [theme=dark] .colab-df-convert {\n",
              "      background-color: #3B4455;\n",
              "      fill: #D2E3FC;\n",
              "    }\n",
              "\n",
              "    [theme=dark] .colab-df-convert:hover {\n",
              "      background-color: #434B5C;\n",
              "      box-shadow: 0px 1px 3px 1px rgba(0, 0, 0, 0.15);\n",
              "      filter: drop-shadow(0px 1px 2px rgba(0, 0, 0, 0.3));\n",
              "      fill: #FFFFFF;\n",
              "    }\n",
              "  </style>\n",
              "\n",
              "      <script>\n",
              "        const buttonEl =\n",
              "          document.querySelector('#df-bb049da3-72b6-4466-b4ec-739dbd8465c1 button.colab-df-convert');\n",
              "        buttonEl.style.display =\n",
              "          google.colab.kernel.accessAllowed ? 'block' : 'none';\n",
              "\n",
              "        async function convertToInteractive(key) {\n",
              "          const element = document.querySelector('#df-bb049da3-72b6-4466-b4ec-739dbd8465c1');\n",
              "          const dataTable =\n",
              "            await google.colab.kernel.invokeFunction('convertToInteractive',\n",
              "                                                     [key], {});\n",
              "          if (!dataTable) return;\n",
              "\n",
              "          const docLinkHtml = 'Like what you see? Visit the ' +\n",
              "            '<a target=\"_blank\" href=https://colab.research.google.com/notebooks/data_table.ipynb>data table notebook</a>'\n",
              "            + ' to learn more about interactive tables.';\n",
              "          element.innerHTML = '';\n",
              "          dataTable['output_type'] = 'display_data';\n",
              "          await google.colab.output.renderOutput(dataTable, element);\n",
              "          const docLink = document.createElement('div');\n",
              "          docLink.innerHTML = docLinkHtml;\n",
              "          element.appendChild(docLink);\n",
              "        }\n",
              "      </script>\n",
              "    </div>\n",
              "  </div>\n",
              "  "
            ]
          },
          "metadata": {},
          "execution_count": 280
        }
      ]
    },
    {
      "cell_type": "code",
      "source": [
        "train_X = X[:345]\n",
        "train_Y = Y[:345]\n",
        "train_date=date[:345]\n",
        "val_X = X[345:394]\n",
        "val_Y = Y[345:394]\n",
        "val_date=date[345:395]\n",
        "test_X = X[395:]\n",
        "test_Y = Y[395:]\n",
        "test_date=date[395:]\n",
        "train_val_X=X[:394]\n",
        "train_val_Y=Y[:394]"
      ],
      "metadata": {
        "id": "AiXMroJEHYiL"
      },
      "execution_count": null,
      "outputs": []
    },
    {
      "cell_type": "code",
      "source": [
        "def MSE(actual, pred):\n",
        "    sse = [(a-p)**2 for a,p in zip(actual,pred)]\n",
        "    return(np.mean(sse))"
      ],
      "metadata": {
        "id": "geRcFACjIrxF"
      },
      "execution_count": null,
      "outputs": []
    },
    {
      "cell_type": "code",
      "source": [
        "f_rmse_train,f_rmse_test, f_r_squared, f_predict_is, f_predict_oos, f_param_list=forward_stepwise_selection(X,Y,3,94)\n",
        "b_rmse_train,b_rmse_test, b_r_squared, b_predict_is, b_predict_oos, b_param_list=backward_stepwise_selection(X,Y,3,94)"
      ],
      "metadata": {
        "colab": {
          "base_uri": "https://localhost:8080/"
        },
        "id": "mLkb99HOTVw9",
        "outputId": "ddc45397-929a-4310-f34e-283526c862bd"
      },
      "execution_count": null,
      "outputs": [
        {
          "output_type": "stream",
          "name": "stderr",
          "text": [
            "/usr/local/lib/python3.7/dist-packages/statsmodels/tsa/tsatools.py:142: FutureWarning: In a future version of pandas all arguments of concat except for the argument 'objs' will be keyword-only\n",
            "  x = pd.concat(x[::order], 1)\n"
          ]
        }
      ]
    },
    {
      "cell_type": "code",
      "source": [
        "f_param_list"
      ],
      "metadata": {
        "colab": {
          "base_uri": "https://localhost:8080/"
        },
        "id": "PMsX1bxZXDFg",
        "outputId": "41c8cf54-13cc-4d9c-f31d-73ea1dbc8abc"
      },
      "execution_count": null,
      "outputs": [
        {
          "output_type": "execute_result",
          "data": {
            "text/plain": [
              "[array(['PERMITW', 'CPIAPPSL', 'CUSR0000SAS'], dtype='<U11')]"
            ]
          },
          "metadata": {},
          "execution_count": 301
        }
      ]
    },
    {
      "cell_type": "code",
      "source": [
        "b_param_list"
      ],
      "metadata": {
        "colab": {
          "base_uri": "https://localhost:8080/"
        },
        "id": "8t3ykccObzTk",
        "outputId": "9b0bcbae-fc68-4001-d776-354345b0d8e7"
      },
      "execution_count": null,
      "outputs": [
        {
          "output_type": "execute_result",
          "data": {
            "text/plain": [
              "[array(['35', '53', '111'], dtype='<U3')]"
            ]
          },
          "metadata": {},
          "execution_count": 354
        }
      ]
    },
    {
      "cell_type": "code",
      "source": [
        "a=int(b_param_list[0][0])\n",
        "b=int(b_param_list[0][1])\n",
        "c=int(b_param_list[0][2])"
      ],
      "metadata": {
        "id": "sK3dzNL_bK4L"
      },
      "execution_count": null,
      "outputs": []
    },
    {
      "cell_type": "code",
      "source": [
        "print(X.columns[[a,b,c]])"
      ],
      "metadata": {
        "colab": {
          "base_uri": "https://localhost:8080/"
        },
        "id": "e6-qEU7WXllm",
        "outputId": "a0b86b86-6213-4d5e-89c8-0d22ac3b94fb"
      },
      "execution_count": null,
      "outputs": [
        {
          "output_type": "stream",
          "name": "stdout",
          "text": [
            "Index(['USCONS', 'PERMIT', 'CUSR0000SAS'], dtype='object')\n"
          ]
        }
      ]
    },
    {
      "cell_type": "markdown",
      "source": [
        "#Part3"
      ],
      "metadata": {
        "id": "flcpt8I2U2OO"
      }
    },
    {
      "cell_type": "markdown",
      "source": [
        "## 1"
      ],
      "metadata": {
        "id": "vRrjVXxAeHR-"
      }
    },
    {
      "cell_type": "code",
      "source": [
        "df2=pd.read_excel(\"/content/drive/MyDrive/retail_sales.xlsx\",index_col=0)"
      ],
      "metadata": {
        "id": "Er3L18xNU4N8"
      },
      "execution_count": null,
      "outputs": []
    },
    {
      "cell_type": "code",
      "source": [
        "df2"
      ],
      "metadata": {
        "colab": {
          "base_uri": "https://localhost:8080/",
          "height": 455
        },
        "id": "nURSU9X9dcG5",
        "outputId": "87dc6809-985d-4668-ae81-4d2c2c3de080"
      },
      "execution_count": null,
      "outputs": [
        {
          "output_type": "execute_result",
          "data": {
            "text/plain": [
              "                 Sales\n",
              "Date                  \n",
              "1992-01-31  131.204025\n",
              "1992-02-29  131.175693\n",
              "1992-03-31  142.694460\n",
              "1992-04-30  147.143808\n",
              "1992-05-31  152.437230\n",
              "...                ...\n",
              "2022-04-30  595.550142\n",
              "2022-05-31  611.322169\n",
              "2022-06-30  610.107900\n",
              "2022-07-31  598.455284\n",
              "2022-08-31  607.878340\n",
              "\n",
              "[368 rows x 1 columns]"
            ],
            "text/html": [
              "\n",
              "  <div id=\"df-20d9268c-52a8-4d4b-83dc-e3108c03f225\">\n",
              "    <div class=\"colab-df-container\">\n",
              "      <div>\n",
              "<style scoped>\n",
              "    .dataframe tbody tr th:only-of-type {\n",
              "        vertical-align: middle;\n",
              "    }\n",
              "\n",
              "    .dataframe tbody tr th {\n",
              "        vertical-align: top;\n",
              "    }\n",
              "\n",
              "    .dataframe thead th {\n",
              "        text-align: right;\n",
              "    }\n",
              "</style>\n",
              "<table border=\"1\" class=\"dataframe\">\n",
              "  <thead>\n",
              "    <tr style=\"text-align: right;\">\n",
              "      <th></th>\n",
              "      <th>Sales</th>\n",
              "    </tr>\n",
              "    <tr>\n",
              "      <th>Date</th>\n",
              "      <th></th>\n",
              "    </tr>\n",
              "  </thead>\n",
              "  <tbody>\n",
              "    <tr>\n",
              "      <th>1992-01-31</th>\n",
              "      <td>131.204025</td>\n",
              "    </tr>\n",
              "    <tr>\n",
              "      <th>1992-02-29</th>\n",
              "      <td>131.175693</td>\n",
              "    </tr>\n",
              "    <tr>\n",
              "      <th>1992-03-31</th>\n",
              "      <td>142.694460</td>\n",
              "    </tr>\n",
              "    <tr>\n",
              "      <th>1992-04-30</th>\n",
              "      <td>147.143808</td>\n",
              "    </tr>\n",
              "    <tr>\n",
              "      <th>1992-05-31</th>\n",
              "      <td>152.437230</td>\n",
              "    </tr>\n",
              "    <tr>\n",
              "      <th>...</th>\n",
              "      <td>...</td>\n",
              "    </tr>\n",
              "    <tr>\n",
              "      <th>2022-04-30</th>\n",
              "      <td>595.550142</td>\n",
              "    </tr>\n",
              "    <tr>\n",
              "      <th>2022-05-31</th>\n",
              "      <td>611.322169</td>\n",
              "    </tr>\n",
              "    <tr>\n",
              "      <th>2022-06-30</th>\n",
              "      <td>610.107900</td>\n",
              "    </tr>\n",
              "    <tr>\n",
              "      <th>2022-07-31</th>\n",
              "      <td>598.455284</td>\n",
              "    </tr>\n",
              "    <tr>\n",
              "      <th>2022-08-31</th>\n",
              "      <td>607.878340</td>\n",
              "    </tr>\n",
              "  </tbody>\n",
              "</table>\n",
              "<p>368 rows × 1 columns</p>\n",
              "</div>\n",
              "      <button class=\"colab-df-convert\" onclick=\"convertToInteractive('df-20d9268c-52a8-4d4b-83dc-e3108c03f225')\"\n",
              "              title=\"Convert this dataframe to an interactive table.\"\n",
              "              style=\"display:none;\">\n",
              "        \n",
              "  <svg xmlns=\"http://www.w3.org/2000/svg\" height=\"24px\"viewBox=\"0 0 24 24\"\n",
              "       width=\"24px\">\n",
              "    <path d=\"M0 0h24v24H0V0z\" fill=\"none\"/>\n",
              "    <path d=\"M18.56 5.44l.94 2.06.94-2.06 2.06-.94-2.06-.94-.94-2.06-.94 2.06-2.06.94zm-11 1L8.5 8.5l.94-2.06 2.06-.94-2.06-.94L8.5 2.5l-.94 2.06-2.06.94zm10 10l.94 2.06.94-2.06 2.06-.94-2.06-.94-.94-2.06-.94 2.06-2.06.94z\"/><path d=\"M17.41 7.96l-1.37-1.37c-.4-.4-.92-.59-1.43-.59-.52 0-1.04.2-1.43.59L10.3 9.45l-7.72 7.72c-.78.78-.78 2.05 0 2.83L4 21.41c.39.39.9.59 1.41.59.51 0 1.02-.2 1.41-.59l7.78-7.78 2.81-2.81c.8-.78.8-2.07 0-2.86zM5.41 20L4 18.59l7.72-7.72 1.47 1.35L5.41 20z\"/>\n",
              "  </svg>\n",
              "      </button>\n",
              "      \n",
              "  <style>\n",
              "    .colab-df-container {\n",
              "      display:flex;\n",
              "      flex-wrap:wrap;\n",
              "      gap: 12px;\n",
              "    }\n",
              "\n",
              "    .colab-df-convert {\n",
              "      background-color: #E8F0FE;\n",
              "      border: none;\n",
              "      border-radius: 50%;\n",
              "      cursor: pointer;\n",
              "      display: none;\n",
              "      fill: #1967D2;\n",
              "      height: 32px;\n",
              "      padding: 0 0 0 0;\n",
              "      width: 32px;\n",
              "    }\n",
              "\n",
              "    .colab-df-convert:hover {\n",
              "      background-color: #E2EBFA;\n",
              "      box-shadow: 0px 1px 2px rgba(60, 64, 67, 0.3), 0px 1px 3px 1px rgba(60, 64, 67, 0.15);\n",
              "      fill: #174EA6;\n",
              "    }\n",
              "\n",
              "    [theme=dark] .colab-df-convert {\n",
              "      background-color: #3B4455;\n",
              "      fill: #D2E3FC;\n",
              "    }\n",
              "\n",
              "    [theme=dark] .colab-df-convert:hover {\n",
              "      background-color: #434B5C;\n",
              "      box-shadow: 0px 1px 3px 1px rgba(0, 0, 0, 0.15);\n",
              "      filter: drop-shadow(0px 1px 2px rgba(0, 0, 0, 0.3));\n",
              "      fill: #FFFFFF;\n",
              "    }\n",
              "  </style>\n",
              "\n",
              "      <script>\n",
              "        const buttonEl =\n",
              "          document.querySelector('#df-20d9268c-52a8-4d4b-83dc-e3108c03f225 button.colab-df-convert');\n",
              "        buttonEl.style.display =\n",
              "          google.colab.kernel.accessAllowed ? 'block' : 'none';\n",
              "\n",
              "        async function convertToInteractive(key) {\n",
              "          const element = document.querySelector('#df-20d9268c-52a8-4d4b-83dc-e3108c03f225');\n",
              "          const dataTable =\n",
              "            await google.colab.kernel.invokeFunction('convertToInteractive',\n",
              "                                                     [key], {});\n",
              "          if (!dataTable) return;\n",
              "\n",
              "          const docLinkHtml = 'Like what you see? Visit the ' +\n",
              "            '<a target=\"_blank\" href=https://colab.research.google.com/notebooks/data_table.ipynb>data table notebook</a>'\n",
              "            + ' to learn more about interactive tables.';\n",
              "          element.innerHTML = '';\n",
              "          dataTable['output_type'] = 'display_data';\n",
              "          await google.colab.output.renderOutput(dataTable, element);\n",
              "          const docLink = document.createElement('div');\n",
              "          docLink.innerHTML = docLinkHtml;\n",
              "          element.appendChild(docLink);\n",
              "        }\n",
              "      </script>\n",
              "    </div>\n",
              "  </div>\n",
              "  "
            ]
          },
          "metadata": {},
          "execution_count": 445
        }
      ]
    },
    {
      "cell_type": "code",
      "source": [
        "sns.lineplot(data=df2,x='Date',y='Sales')"
      ],
      "metadata": {
        "colab": {
          "base_uri": "https://localhost:8080/",
          "height": 297
        },
        "id": "EBLmnljPdfu8",
        "outputId": "21f207ca-8e06-46ba-9bac-fbee1827b7ee"
      },
      "execution_count": null,
      "outputs": [
        {
          "output_type": "execute_result",
          "data": {
            "text/plain": [
              "<matplotlib.axes._subplots.AxesSubplot at 0x7f7b20f95fd0>"
            ]
          },
          "metadata": {},
          "execution_count": 446
        },
        {
          "output_type": "display_data",
          "data": {
            "text/plain": [
              "<Figure size 432x288 with 1 Axes>"
            ],
            "image/png": "[encoded data removed]"
          },
          "metadata": {
            "needs_background": "light"
          }
        }
      ]
    },
    {
      "cell_type": "code",
      "source": [],
      "metadata": {
        "id": "Zsth-OAJsy3O"
      },
      "execution_count": null,
      "outputs": []
    },
    {
      "cell_type": "markdown",
      "source": [
        "## 3"
      ],
      "metadata": {
        "id": "_waEkZUXszgB"
      }
    },
    {
      "cell_type": "code",
      "source": [
        "df2['sales_mom'] = np.log(df2['Sales']).diff()*12\n",
        "df2['sales_yoy'] = np.log(df2['Sales']).diff(12)"
      ],
      "metadata": {
        "id": "qKoeTWvnszgB"
      },
      "execution_count": null,
      "outputs": []
    },
    {
      "cell_type": "code",
      "source": [
        "plt.plot(df2['sales_yoy'])\n",
        "plt.title('Core Inflation Year on Year Annualized')"
      ],
      "metadata": {
        "colab": {
          "base_uri": "https://localhost:8080/"
        },
        "outputId": "bd42ed51-a6b0-480b-c209-f2b59eb1256f",
        "id": "uH9QIIBHszgB"
      },
      "execution_count": null,
      "outputs": [
        {
          "output_type": "execute_result",
          "data": {
            "text/plain": [
              "Text(0.5, 1.0, 'Core Inflation Year on Year Annualized')"
            ]
          },
          "metadata": {},
          "execution_count": 477
        },
        {
          "output_type": "display_data",
          "data": {
            "text/plain": [
              "<Figure size 432x288 with 1 Axes>"
            ],
            "image/png": "[encoded data removed]"
          },
          "metadata": {
            "needs_background": "light"
          }
        }
      ]
    },
    {
      "cell_type": "code",
      "source": [
        "df2.dropna(inplace=True)"
      ],
      "metadata": {
        "id": "6pKbjPKcszgB"
      },
      "execution_count": null,
      "outputs": []
    },
    {
      "cell_type": "code",
      "source": [
        "mom_train=df2.iloc[:-56,1]\n",
        "mom_test=df2.iloc[-56:,1]\n",
        "yoy_train=df2.iloc[:-56,2]\n",
        "yoy_test=df2.iloc[-56:,2]"
      ],
      "metadata": {
        "id": "CZ596gn8szgB"
      },
      "execution_count": null,
      "outputs": []
    },
    {
      "cell_type": "code",
      "source": [
        "mom_train"
      ],
      "metadata": {
        "colab": {
          "base_uri": "https://localhost:8080/"
        },
        "outputId": "b1e6b993-d5b5-4329-a503-964fd65ea805",
        "id": "Sco877DoszgB"
      },
      "execution_count": null,
      "outputs": [
        {
          "output_type": "execute_result",
          "data": {
            "text/plain": [
              "Date\n",
              "1994-01-31   -4.201287\n",
              "1994-02-28    0.026905\n",
              "1994-03-31    1.966311\n",
              "1994-04-30   -0.061043\n",
              "1994-05-31    0.304608\n",
              "                ...   \n",
              "2017-08-31    0.392787\n",
              "2017-09-30   -0.523643\n",
              "2017-10-31    0.141389\n",
              "2017-11-30    0.730638\n",
              "2017-12-31    1.400929\n",
              "Name: sales_mom, Length: 288, dtype: float64"
            ]
          },
          "metadata": {},
          "execution_count": 506
        }
      ]
    },
    {
      "cell_type": "code",
      "source": [
        "mom_model=SARIMAX(mom_train, trend='c',order=(1,0,0)).fit()\n",
        "yoy_model=SARIMAX(yoy_train, trend='c',order=(1,0,0)).fit()"
      ],
      "metadata": {
        "colab": {
          "base_uri": "https://localhost:8080/"
        },
        "outputId": "6f9b89b0-fd9d-4b46-c8d3-c04be3a47fe7",
        "id": "ruXVY1f9szgB"
      },
      "execution_count": null,
      "outputs": [
        {
          "output_type": "stream",
          "name": "stderr",
          "text": [
            "/usr/local/lib/python3.7/dist-packages/statsmodels/tsa/base/tsa_model.py:527: ValueWarning: No frequency information was provided, so inferred frequency M will be used.\n",
            "  % freq, ValueWarning)\n",
            "/usr/local/lib/python3.7/dist-packages/statsmodels/tsa/base/tsa_model.py:527: ValueWarning: No frequency information was provided, so inferred frequency M will be used.\n",
            "  % freq, ValueWarning)\n",
            "/usr/local/lib/python3.7/dist-packages/statsmodels/tsa/base/tsa_model.py:527: ValueWarning: No frequency information was provided, so inferred frequency M will be used.\n",
            "  % freq, ValueWarning)\n",
            "/usr/local/lib/python3.7/dist-packages/statsmodels/tsa/base/tsa_model.py:527: ValueWarning: No frequency information was provided, so inferred frequency M will be used.\n",
            "  % freq, ValueWarning)\n"
          ]
        }
      ]
    },
    {
      "cell_type": "code",
      "source": [
        "mom_model.summary()\n",
        "yoy_model.summary()"
      ],
      "metadata": {
        "colab": {
          "base_uri": "https://localhost:8080/"
        },
        "outputId": "e5572d43-31f9-438d-c828-41efef6608fc",
        "id": "M-bzY3V7szgC"
      },
      "execution_count": null,
      "outputs": [
        {
          "output_type": "execute_result",
          "data": {
            "text/plain": [
              "<class 'statsmodels.iolib.summary.Summary'>\n",
              "\"\"\"\n",
              "                               SARIMAX Results                                \n",
              "==============================================================================\n",
              "Dep. Variable:              sales_yoy   No. Observations:                  288\n",
              "Model:               SARIMAX(1, 0, 0)   Log Likelihood                 643.432\n",
              "Date:                Tue, 18 Oct 2022   AIC                          -1280.863\n",
              "Time:                        06:01:27   BIC                          -1269.874\n",
              "Sample:                    01-31-1994   HQIC                         -1276.459\n",
              "                         - 12-31-2017                                         \n",
              "Covariance Type:                  opg                                         \n",
              "==============================================================================\n",
              "                 coef    std err          z      P>|z|      [0.025      0.975]\n",
              "------------------------------------------------------------------------------\n",
              "intercept      0.0085      0.002      5.020      0.000       0.005       0.012\n",
              "ar.L1          0.7865      0.029     26.982      0.000       0.729       0.844\n",
              "sigma2         0.0007   4.88e-05     13.717      0.000       0.001       0.001\n",
              "===================================================================================\n",
              "Ljung-Box (L1) (Q):                  23.04   Jarque-Bera (JB):                 8.15\n",
              "Prob(Q):                              0.00   Prob(JB):                         0.02\n",
              "Heteroskedasticity (H):               0.62   Skew:                            -0.09\n",
              "Prob(H) (two-sided):                  0.02   Kurtosis:                         3.81\n",
              "===================================================================================\n",
              "\n",
              "Warnings:\n",
              "[1] Covariance matrix calculated using the outer product of gradients (complex-step).\n",
              "\"\"\""
            ],
            "text/html": [
              "<table class=\"simpletable\">\n",
              "<caption>SARIMAX Results</caption>\n",
              "<tr>\n",
              "  <th>Dep. Variable:</th>       <td>sales_yoy</td>    <th>  No. Observations:  </th>    <td>288</td>   \n",
              "</tr>\n",
              "<tr>\n",
              "  <th>Model:</th>           <td>SARIMAX(1, 0, 0)</td> <th>  Log Likelihood     </th>  <td>643.432</td> \n",
              "</tr>\n",
              "<tr>\n",
              "  <th>Date:</th>            <td>Tue, 18 Oct 2022</td> <th>  AIC                </th> <td>-1280.863</td>\n",
              "</tr>\n",
              "<tr>\n",
              "  <th>Time:</th>                <td>06:01:27</td>     <th>  BIC                </th> <td>-1269.874</td>\n",
              "</tr>\n",
              "<tr>\n",
              "  <th>Sample:</th>             <td>01-31-1994</td>    <th>  HQIC               </th> <td>-1276.459</td>\n",
              "</tr>\n",
              "<tr>\n",
              "  <th></th>                   <td>- 12-31-2017</td>   <th>                     </th>     <td> </td>    \n",
              "</tr>\n",
              "<tr>\n",
              "  <th>Covariance Type:</th>        <td>opg</td>       <th>                     </th>     <td> </td>    \n",
              "</tr>\n",
              "</table>\n",
              "<table class=\"simpletable\">\n",
              "<tr>\n",
              "      <td></td>         <th>coef</th>     <th>std err</th>      <th>z</th>      <th>P>|z|</th>  <th>[0.025</th>    <th>0.975]</th>  \n",
              "</tr>\n",
              "<tr>\n",
              "  <th>intercept</th> <td>    0.0085</td> <td>    0.002</td> <td>    5.020</td> <td> 0.000</td> <td>    0.005</td> <td>    0.012</td>\n",
              "</tr>\n",
              "<tr>\n",
              "  <th>ar.L1</th>     <td>    0.7865</td> <td>    0.029</td> <td>   26.982</td> <td> 0.000</td> <td>    0.729</td> <td>    0.844</td>\n",
              "</tr>\n",
              "<tr>\n",
              "  <th>sigma2</th>    <td>    0.0007</td> <td> 4.88e-05</td> <td>   13.717</td> <td> 0.000</td> <td>    0.001</td> <td>    0.001</td>\n",
              "</tr>\n",
              "</table>\n",
              "<table class=\"simpletable\">\n",
              "<tr>\n",
              "  <th>Ljung-Box (L1) (Q):</th>     <td>23.04</td> <th>  Jarque-Bera (JB):  </th> <td>8.15</td> \n",
              "</tr>\n",
              "<tr>\n",
              "  <th>Prob(Q):</th>                <td>0.00</td>  <th>  Prob(JB):          </th> <td>0.02</td> \n",
              "</tr>\n",
              "<tr>\n",
              "  <th>Heteroskedasticity (H):</th> <td>0.62</td>  <th>  Skew:              </th> <td>-0.09</td>\n",
              "</tr>\n",
              "<tr>\n",
              "  <th>Prob(H) (two-sided):</th>    <td>0.02</td>  <th>  Kurtosis:          </th> <td>3.81</td> \n",
              "</tr>\n",
              "</table><br/><br/>Warnings:<br/>[1] Covariance matrix calculated using the outer product of gradients (complex-step)."
            ]
          },
          "metadata": {},
          "execution_count": 509
        }
      ]
    },
    {
      "cell_type": "code",
      "source": [
        "mom_fit=pd.DataFrame(mom_model.predict()).reset_index()\n",
        "yoy_fit=pd.DataFrame(yoy_model.predict()).reset_index()\n",
        "\n",
        "train_mom_fitted=pd.concat([mom_train.reset_index(), mom_fit], axis=1)\n",
        "train_mom_fitted.index= pd.to_datetime(mom_train.reset_index()['Date'], format='%Y-%m-%d', errors='coerce')\n",
        "\n",
        "train_yoy_fitted=pd.concat([yoy_train.reset_index(), yoy_fit], axis=1)\n",
        "train_yoy_fitted.index= pd.to_datetime(yoy_train.reset_index()['Date'], format='%Y-%m-%d', errors='coerce')\n",
        "\n",
        "train_mom_fitted.drop(['Date','index'],axis=1,inplace=True)\n",
        "train_yoy_fitted.drop(['Date','index'],axis=1,inplace=True)"
      ],
      "metadata": {
        "id": "iyDEgCaXszgC"
      },
      "execution_count": null,
      "outputs": []
    },
    {
      "cell_type": "code",
      "source": [
        "plt.plot(train_mom_fitted['sales_mom'],label='Actual')\n",
        "plt.plot(train_mom_fitted['predicted_mean'],label='In-Sample Fit')\n",
        "plt.title('Month on Month Annualized Inflation')\n",
        "plt.legend()"
      ],
      "metadata": {
        "colab": {
          "base_uri": "https://localhost:8080/"
        },
        "outputId": "08159849-9df2-44ce-86f3-2bc15d4964d6",
        "id": "CeCev2-_szgC"
      },
      "execution_count": null,
      "outputs": [
        {
          "output_type": "execute_result",
          "data": {
            "text/plain": [
              "<matplotlib.legend.Legend at 0x7f7b20b4fb10>"
            ]
          },
          "metadata": {},
          "execution_count": 511
        },
        {
          "output_type": "display_data",
          "data": {
            "text/plain": [
              "<Figure size 432x288 with 1 Axes>"
            ],
            "image/png": "[encoded data removed]"
          },
          "metadata": {
            "needs_background": "light"
          }
        }
      ]
    },
    {
      "cell_type": "code",
      "source": [
        "plt.plot(train_yoy_fitted['sales_yoy'],label='Actual')\n",
        "plt.plot(train_yoy_fitted['predicted_mean'],label='In-Sample Fit')\n",
        "plt.title('Year on Year Inflation')\n",
        "plt.legend()"
      ],
      "metadata": {
        "colab": {
          "base_uri": "https://localhost:8080/"
        },
        "outputId": "1d02419b-56dd-4b94-cc5a-cea27c72d513",
        "id": "HVrTaOELszgC"
      },
      "execution_count": null,
      "outputs": [
        {
          "output_type": "execute_result",
          "data": {
            "text/plain": [
              "<matplotlib.legend.Legend at 0x7f7b20bda750>"
            ]
          },
          "metadata": {},
          "execution_count": 512
        },
        {
          "output_type": "display_data",
          "data": {
            "text/plain": [
              "<Figure size 432x288 with 1 Axes>"
            ],
            "image/png": "[encoded data removed]"
          },
          "metadata": {
            "needs_background": "light"
          }
        }
      ]
    },
    {
      "cell_type": "code",
      "source": [
        "mom_forecasts=mom_model.forecast(56)\n",
        "mom_forecasts.index=pd.to_datetime(mom_test.reset_index()['Date'])\n",
        "\n",
        "yoy_forecasts=yoy_model.forecast(56)\n",
        "yoy_forecasts.index=pd.to_datetime(yoy_test.reset_index()['Date'])\n",
        "\n",
        "mom_test =pd.concat([mom_test, mom_forecasts], axis=1)\n",
        "yoy_test =pd.concat([yoy_test, yoy_forecasts], axis=1)"
      ],
      "metadata": {
        "id": "zczmxHb4szgC"
      },
      "execution_count": null,
      "outputs": []
    },
    {
      "cell_type": "code",
      "source": [
        "plt.plot(mom_test['sales_mom'],label='Actual')\n",
        "plt.plot(mom_test['predicted_mean'],label='Forecast')\n",
        "plt.title('Month on Month Annualized Inflation')\n",
        "plt.legend()"
      ],
      "metadata": {
        "colab": {
          "base_uri": "https://localhost:8080/"
        },
        "outputId": "d6f5d526-d784-443f-81ac-cced0f5ba2e9",
        "id": "Lp4scq9lszgC"
      },
      "execution_count": null,
      "outputs": [
        {
          "output_type": "execute_result",
          "data": {
            "text/plain": [
              "<matplotlib.legend.Legend at 0x7f7b20ad2dd0>"
            ]
          },
          "metadata": {},
          "execution_count": 515
        },
        {
          "output_type": "display_data",
          "data": {
            "text/plain": [
              "<Figure size 432x288 with 1 Axes>"
            ],
            "image/png": "[encoded data removed]"
          },
          "metadata": {
            "needs_background": "light"
          }
        }
      ]
    },
    {
      "cell_type": "code",
      "source": [
        "plt.plot(yoy_test['sales_yoy'],label='Actual')\n",
        "plt.plot(yoy_test['predicted_mean'],label='Forecast')\n",
        "plt.title('Year on Year Inflation')\n",
        "plt.legend()"
      ],
      "metadata": {
        "colab": {
          "base_uri": "https://localhost:8080/"
        },
        "outputId": "adc51b5e-956b-424d-e519-ef5ea2470d53",
        "id": "pTnzpikEszgC"
      },
      "execution_count": null,
      "outputs": [
        {
          "output_type": "execute_result",
          "data": {
            "text/plain": [
              "<matplotlib.legend.Legend at 0x7f7b20af16d0>"
            ]
          },
          "metadata": {},
          "execution_count": 516
        },
        {
          "output_type": "display_data",
          "data": {
            "text/plain": [
              "<Figure size 432x288 with 1 Axes>"
            ],
            "image/png": "[encoded data removed]"
          },
          "metadata": {
            "needs_background": "light"
          }
        }
      ]
    },
    {
      "cell_type": "code",
      "source": [],
      "metadata": {
        "id": "jH0sZgToszgC"
      },
      "execution_count": null,
      "outputs": []
    },
    {
      "cell_type": "markdown",
      "source": [
        "## another model"
      ],
      "metadata": {
        "id": "sHlyPE3weJqX"
      }
    },
    {
      "cell_type": "code",
      "source": [
        "df2_2017=df2.iloc[:312,]\n",
        "df2_2017"
      ],
      "metadata": {
        "colab": {
          "base_uri": "https://localhost:8080/",
          "height": 455
        },
        "id": "bipx4LYUdld8",
        "outputId": "fa427ae6-9791-4823-8f4c-25f870176315"
      },
      "execution_count": null,
      "outputs": [
        {
          "output_type": "execute_result",
          "data": {
            "text/plain": [
              "                 Sales\n",
              "Date                  \n",
              "1992-01-31  131.204025\n",
              "1992-02-29  131.175693\n",
              "1992-03-31  142.694460\n",
              "1992-04-30  147.143808\n",
              "1992-05-31  152.437230\n",
              "...                ...\n",
              "2017-08-31  430.775462\n",
              "2017-09-30  412.381985\n",
              "2017-10-31  417.269568\n",
              "2017-11-30  443.465043\n",
              "2017-12-31  498.380092\n",
              "\n",
              "[312 rows x 1 columns]"
            ],
            "text/html": [
              "\n",
              "  <div id=\"df-931c35b3-159d-42a6-9d6a-29aeffb44c33\">\n",
              "    <div class=\"colab-df-container\">\n",
              "      <div>\n",
              "<style scoped>\n",
              "    .dataframe tbody tr th:only-of-type {\n",
              "        vertical-align: middle;\n",
              "    }\n",
              "\n",
              "    .dataframe tbody tr th {\n",
              "        vertical-align: top;\n",
              "    }\n",
              "\n",
              "    .dataframe thead th {\n",
              "        text-align: right;\n",
              "    }\n",
              "</style>\n",
              "<table border=\"1\" class=\"dataframe\">\n",
              "  <thead>\n",
              "    <tr style=\"text-align: right;\">\n",
              "      <th></th>\n",
              "      <th>Sales</th>\n",
              "    </tr>\n",
              "    <tr>\n",
              "      <th>Date</th>\n",
              "      <th></th>\n",
              "    </tr>\n",
              "  </thead>\n",
              "  <tbody>\n",
              "    <tr>\n",
              "      <th>1992-01-31</th>\n",
              "      <td>131.204025</td>\n",
              "    </tr>\n",
              "    <tr>\n",
              "      <th>1992-02-29</th>\n",
              "      <td>131.175693</td>\n",
              "    </tr>\n",
              "    <tr>\n",
              "      <th>1992-03-31</th>\n",
              "      <td>142.694460</td>\n",
              "    </tr>\n",
              "    <tr>\n",
              "      <th>1992-04-30</th>\n",
              "      <td>147.143808</td>\n",
              "    </tr>\n",
              "    <tr>\n",
              "      <th>1992-05-31</th>\n",
              "      <td>152.437230</td>\n",
              "    </tr>\n",
              "    <tr>\n",
              "      <th>...</th>\n",
              "      <td>...</td>\n",
              "    </tr>\n",
              "    <tr>\n",
              "      <th>2017-08-31</th>\n",
              "      <td>430.775462</td>\n",
              "    </tr>\n",
              "    <tr>\n",
              "      <th>2017-09-30</th>\n",
              "      <td>412.381985</td>\n",
              "    </tr>\n",
              "    <tr>\n",
              "      <th>2017-10-31</th>\n",
              "      <td>417.269568</td>\n",
              "    </tr>\n",
              "    <tr>\n",
              "      <th>2017-11-30</th>\n",
              "      <td>443.465043</td>\n",
              "    </tr>\n",
              "    <tr>\n",
              "      <th>2017-12-31</th>\n",
              "      <td>498.380092</td>\n",
              "    </tr>\n",
              "  </tbody>\n",
              "</table>\n",
              "<p>312 rows × 1 columns</p>\n",
              "</div>\n",
              "      <button class=\"colab-df-convert\" onclick=\"convertToInteractive('df-931c35b3-159d-42a6-9d6a-29aeffb44c33')\"\n",
              "              title=\"Convert this dataframe to an interactive table.\"\n",
              "              style=\"display:none;\">\n",
              "        \n",
              "  <svg xmlns=\"http://www.w3.org/2000/svg\" height=\"24px\"viewBox=\"0 0 24 24\"\n",
              "       width=\"24px\">\n",
              "    <path d=\"M0 0h24v24H0V0z\" fill=\"none\"/>\n",
              "    <path d=\"M18.56 5.44l.94 2.06.94-2.06 2.06-.94-2.06-.94-.94-2.06-.94 2.06-2.06.94zm-11 1L8.5 8.5l.94-2.06 2.06-.94-2.06-.94L8.5 2.5l-.94 2.06-2.06.94zm10 10l.94 2.06.94-2.06 2.06-.94-2.06-.94-.94-2.06-.94 2.06-2.06.94z\"/><path d=\"M17.41 7.96l-1.37-1.37c-.4-.4-.92-.59-1.43-.59-.52 0-1.04.2-1.43.59L10.3 9.45l-7.72 7.72c-.78.78-.78 2.05 0 2.83L4 21.41c.39.39.9.59 1.41.59.51 0 1.02-.2 1.41-.59l7.78-7.78 2.81-2.81c.8-.78.8-2.07 0-2.86zM5.41 20L4 18.59l7.72-7.72 1.47 1.35L5.41 20z\"/>\n",
              "  </svg>\n",
              "      </button>\n",
              "      \n",
              "  <style>\n",
              "    .colab-df-container {\n",
              "      display:flex;\n",
              "      flex-wrap:wrap;\n",
              "      gap: 12px;\n",
              "    }\n",
              "\n",
              "    .colab-df-convert {\n",
              "      background-color: #E8F0FE;\n",
              "      border: none;\n",
              "      border-radius: 50%;\n",
              "      cursor: pointer;\n",
              "      display: none;\n",
              "      fill: #1967D2;\n",
              "      height: 32px;\n",
              "      padding: 0 0 0 0;\n",
              "      width: 32px;\n",
              "    }\n",
              "\n",
              "    .colab-df-convert:hover {\n",
              "      background-color: #E2EBFA;\n",
              "      box-shadow: 0px 1px 2px rgba(60, 64, 67, 0.3), 0px 1px 3px 1px rgba(60, 64, 67, 0.15);\n",
              "      fill: #174EA6;\n",
              "    }\n",
              "\n",
              "    [theme=dark] .colab-df-convert {\n",
              "      background-color: #3B4455;\n",
              "      fill: #D2E3FC;\n",
              "    }\n",
              "\n",
              "    [theme=dark] .colab-df-convert:hover {\n",
              "      background-color: #434B5C;\n",
              "      box-shadow: 0px 1px 3px 1px rgba(0, 0, 0, 0.15);\n",
              "      filter: drop-shadow(0px 1px 2px rgba(0, 0, 0, 0.3));\n",
              "      fill: #FFFFFF;\n",
              "    }\n",
              "  </style>\n",
              "\n",
              "      <script>\n",
              "        const buttonEl =\n",
              "          document.querySelector('#df-931c35b3-159d-42a6-9d6a-29aeffb44c33 button.colab-df-convert');\n",
              "        buttonEl.style.display =\n",
              "          google.colab.kernel.accessAllowed ? 'block' : 'none';\n",
              "\n",
              "        async function convertToInteractive(key) {\n",
              "          const element = document.querySelector('#df-931c35b3-159d-42a6-9d6a-29aeffb44c33');\n",
              "          const dataTable =\n",
              "            await google.colab.kernel.invokeFunction('convertToInteractive',\n",
              "                                                     [key], {});\n",
              "          if (!dataTable) return;\n",
              "\n",
              "          const docLinkHtml = 'Like what you see? Visit the ' +\n",
              "            '<a target=\"_blank\" href=https://colab.research.google.com/notebooks/data_table.ipynb>data table notebook</a>'\n",
              "            + ' to learn more about interactive tables.';\n",
              "          element.innerHTML = '';\n",
              "          dataTable['output_type'] = 'display_data';\n",
              "          await google.colab.output.renderOutput(dataTable, element);\n",
              "          const docLink = document.createElement('div');\n",
              "          docLink.innerHTML = docLinkHtml;\n",
              "          element.appendChild(docLink);\n",
              "        }\n",
              "      </script>\n",
              "    </div>\n",
              "  </div>\n",
              "  "
            ]
          },
          "metadata": {},
          "execution_count": 447
        }
      ]
    },
    {
      "cell_type": "code",
      "source": [
        "df2_2017"
      ],
      "metadata": {
        "colab": {
          "base_uri": "https://localhost:8080/",
          "height": 455
        },
        "id": "MX7TU9uOfZxE",
        "outputId": "f23c1ba6-ccf8-4384-cd69-1880c9ef5c57"
      },
      "execution_count": null,
      "outputs": [
        {
          "output_type": "execute_result",
          "data": {
            "text/plain": [
              "                 Sales    DSales\n",
              "Date                            \n",
              "1992-01-31  131.204025       NaN\n",
              "1992-02-29  131.175693 -0.000216\n",
              "1992-03-31  142.694460  0.084168\n",
              "1992-04-30  147.143808  0.030705\n",
              "1992-05-31  152.437230  0.035343\n",
              "...                ...       ...\n",
              "2017-08-31  430.775462  0.032732\n",
              "2017-09-30  412.381985 -0.043637\n",
              "2017-10-31  417.269568  0.011782\n",
              "2017-11-30  443.465043  0.060887\n",
              "2017-12-31  498.380092  0.116744\n",
              "\n",
              "[312 rows x 2 columns]"
            ],
            "text/html": [
              "\n",
              "  <div id=\"df-166ac133-055f-4bca-96f2-8eaab1a0f03b\">\n",
              "    <div class=\"colab-df-container\">\n",
              "      <div>\n",
              "<style scoped>\n",
              "    .dataframe tbody tr th:only-of-type {\n",
              "        vertical-align: middle;\n",
              "    }\n",
              "\n",
              "    .dataframe tbody tr th {\n",
              "        vertical-align: top;\n",
              "    }\n",
              "\n",
              "    .dataframe thead th {\n",
              "        text-align: right;\n",
              "    }\n",
              "</style>\n",
              "<table border=\"1\" class=\"dataframe\">\n",
              "  <thead>\n",
              "    <tr style=\"text-align: right;\">\n",
              "      <th></th>\n",
              "      <th>Sales</th>\n",
              "      <th>DSales</th>\n",
              "    </tr>\n",
              "    <tr>\n",
              "      <th>Date</th>\n",
              "      <th></th>\n",
              "      <th></th>\n",
              "    </tr>\n",
              "  </thead>\n",
              "  <tbody>\n",
              "    <tr>\n",
              "      <th>1992-01-31</th>\n",
              "      <td>131.204025</td>\n",
              "      <td>NaN</td>\n",
              "    </tr>\n",
              "    <tr>\n",
              "      <th>1992-02-29</th>\n",
              "      <td>131.175693</td>\n",
              "      <td>-0.000216</td>\n",
              "    </tr>\n",
              "    <tr>\n",
              "      <th>1992-03-31</th>\n",
              "      <td>142.694460</td>\n",
              "      <td>0.084168</td>\n",
              "    </tr>\n",
              "    <tr>\n",
              "      <th>1992-04-30</th>\n",
              "      <td>147.143808</td>\n",
              "      <td>0.030705</td>\n",
              "    </tr>\n",
              "    <tr>\n",
              "      <th>1992-05-31</th>\n",
              "      <td>152.437230</td>\n",
              "      <td>0.035343</td>\n",
              "    </tr>\n",
              "    <tr>\n",
              "      <th>...</th>\n",
              "      <td>...</td>\n",
              "      <td>...</td>\n",
              "    </tr>\n",
              "    <tr>\n",
              "      <th>2017-08-31</th>\n",
              "      <td>430.775462</td>\n",
              "      <td>0.032732</td>\n",
              "    </tr>\n",
              "    <tr>\n",
              "      <th>2017-09-30</th>\n",
              "      <td>412.381985</td>\n",
              "      <td>-0.043637</td>\n",
              "    </tr>\n",
              "    <tr>\n",
              "      <th>2017-10-31</th>\n",
              "      <td>417.269568</td>\n",
              "      <td>0.011782</td>\n",
              "    </tr>\n",
              "    <tr>\n",
              "      <th>2017-11-30</th>\n",
              "      <td>443.465043</td>\n",
              "      <td>0.060887</td>\n",
              "    </tr>\n",
              "    <tr>\n",
              "      <th>2017-12-31</th>\n",
              "      <td>498.380092</td>\n",
              "      <td>0.116744</td>\n",
              "    </tr>\n",
              "  </tbody>\n",
              "</table>\n",
              "<p>312 rows × 2 columns</p>\n",
              "</div>\n",
              "      <button class=\"colab-df-convert\" onclick=\"convertToInteractive('df-166ac133-055f-4bca-96f2-8eaab1a0f03b')\"\n",
              "              title=\"Convert this dataframe to an interactive table.\"\n",
              "              style=\"display:none;\">\n",
              "        \n",
              "  <svg xmlns=\"http://www.w3.org/2000/svg\" height=\"24px\"viewBox=\"0 0 24 24\"\n",
              "       width=\"24px\">\n",
              "    <path d=\"M0 0h24v24H0V0z\" fill=\"none\"/>\n",
              "    <path d=\"M18.56 5.44l.94 2.06.94-2.06 2.06-.94-2.06-.94-.94-2.06-.94 2.06-2.06.94zm-11 1L8.5 8.5l.94-2.06 2.06-.94-2.06-.94L8.5 2.5l-.94 2.06-2.06.94zm10 10l.94 2.06.94-2.06 2.06-.94-2.06-.94-.94-2.06-.94 2.06-2.06.94z\"/><path d=\"M17.41 7.96l-1.37-1.37c-.4-.4-.92-.59-1.43-.59-.52 0-1.04.2-1.43.59L10.3 9.45l-7.72 7.72c-.78.78-.78 2.05 0 2.83L4 21.41c.39.39.9.59 1.41.59.51 0 1.02-.2 1.41-.59l7.78-7.78 2.81-2.81c.8-.78.8-2.07 0-2.86zM5.41 20L4 18.59l7.72-7.72 1.47 1.35L5.41 20z\"/>\n",
              "  </svg>\n",
              "      </button>\n",
              "      \n",
              "  <style>\n",
              "    .colab-df-container {\n",
              "      display:flex;\n",
              "      flex-wrap:wrap;\n",
              "      gap: 12px;\n",
              "    }\n",
              "\n",
              "    .colab-df-convert {\n",
              "      background-color: #E8F0FE;\n",
              "      border: none;\n",
              "      border-radius: 50%;\n",
              "      cursor: pointer;\n",
              "      display: none;\n",
              "      fill: #1967D2;\n",
              "      height: 32px;\n",
              "      padding: 0 0 0 0;\n",
              "      width: 32px;\n",
              "    }\n",
              "\n",
              "    .colab-df-convert:hover {\n",
              "      background-color: #E2EBFA;\n",
              "      box-shadow: 0px 1px 2px rgba(60, 64, 67, 0.3), 0px 1px 3px 1px rgba(60, 64, 67, 0.15);\n",
              "      fill: #174EA6;\n",
              "    }\n",
              "\n",
              "    [theme=dark] .colab-df-convert {\n",
              "      background-color: #3B4455;\n",
              "      fill: #D2E3FC;\n",
              "    }\n",
              "\n",
              "    [theme=dark] .colab-df-convert:hover {\n",
              "      background-color: #434B5C;\n",
              "      box-shadow: 0px 1px 3px 1px rgba(0, 0, 0, 0.15);\n",
              "      filter: drop-shadow(0px 1px 2px rgba(0, 0, 0, 0.3));\n",
              "      fill: #FFFFFF;\n",
              "    }\n",
              "  </style>\n",
              "\n",
              "      <script>\n",
              "        const buttonEl =\n",
              "          document.querySelector('#df-166ac133-055f-4bca-96f2-8eaab1a0f03b button.colab-df-convert');\n",
              "        buttonEl.style.display =\n",
              "          google.colab.kernel.accessAllowed ? 'block' : 'none';\n",
              "\n",
              "        async function convertToInteractive(key) {\n",
              "          const element = document.querySelector('#df-166ac133-055f-4bca-96f2-8eaab1a0f03b');\n",
              "          const dataTable =\n",
              "            await google.colab.kernel.invokeFunction('convertToInteractive',\n",
              "                                                     [key], {});\n",
              "          if (!dataTable) return;\n",
              "\n",
              "          const docLinkHtml = 'Like what you see? Visit the ' +\n",
              "            '<a target=\"_blank\" href=https://colab.research.google.com/notebooks/data_table.ipynb>data table notebook</a>'\n",
              "            + ' to learn more about interactive tables.';\n",
              "          element.innerHTML = '';\n",
              "          dataTable['output_type'] = 'display_data';\n",
              "          await google.colab.output.renderOutput(dataTable, element);\n",
              "          const docLink = document.createElement('div');\n",
              "          docLink.innerHTML = docLinkHtml;\n",
              "          element.appendChild(docLink);\n",
              "        }\n",
              "      </script>\n",
              "    </div>\n",
              "  </div>\n",
              "  "
            ]
          },
          "metadata": {},
          "execution_count": 449
        }
      ]
    },
    {
      "cell_type": "code",
      "source": [
        "def adf_test(timeseries, reg):\n",
        "    print(\"Results of Dickey-Fuller Test:\")\n",
        "    dftest = adfuller(timeseries, regression=reg, autolag=\"AIC\")\n",
        "    dfoutput = pd.Series(\n",
        "        dftest[0:4],\n",
        "        index=[\n",
        "            \"Test Statistic\",\n",
        "            \"p-value\",\n",
        "            \"#Lags Used\",\n",
        "            \"Number of Observations Used\",\n",
        "        ],\n",
        "    )\n",
        "    for key, value in dftest[4].items():\n",
        "        dfoutput[\"Critical Value (%s)\" % key] = value\n",
        "    print(dfoutput)"
      ],
      "metadata": {
        "id": "zjlwIyIDfGF_"
      },
      "execution_count": null,
      "outputs": []
    },
    {
      "cell_type": "code",
      "source": [
        "adf_test(df2_2017['Sales'], 'c'),adf_test(df2_2017['DSales'].iloc[1:], 'c') "
      ],
      "metadata": {
        "colab": {
          "base_uri": "https://localhost:8080/"
        },
        "id": "xf91A5fofNYK",
        "outputId": "e51d46e6-216f-46be-f4f2-e8a2c3a3c246"
      },
      "execution_count": null,
      "outputs": [
        {
          "output_type": "stream",
          "name": "stdout",
          "text": [
            "Results of Dickey-Fuller Test:\n",
            "Test Statistic                  -0.396696\n",
            "p-value                          0.910649\n",
            "#Lags Used                      15.000000\n",
            "Number of Observations Used    296.000000\n",
            "Critical Value (1%)             -3.452637\n",
            "Critical Value (5%)             -2.871354\n",
            "Critical Value (10%)            -2.571999\n",
            "dtype: float64\n",
            "Results of Dickey-Fuller Test:\n",
            "Test Statistic                  -3.342153\n",
            "p-value                          0.013096\n",
            "#Lags Used                      14.000000\n",
            "Number of Observations Used    296.000000\n",
            "Critical Value (1%)             -3.452637\n",
            "Critical Value (5%)             -2.871354\n",
            "Critical Value (10%)            -2.571999\n",
            "dtype: float64\n"
          ]
        },
        {
          "output_type": "execute_result",
          "data": {
            "text/plain": [
              "(None, None)"
            ]
          },
          "metadata": {},
          "execution_count": 451
        }
      ]
    },
    {
      "cell_type": "code",
      "source": [
        "sns.lineplot(data=df2_2017,x='Date',y='DSales')"
      ],
      "metadata": {
        "colab": {
          "base_uri": "https://localhost:8080/",
          "height": 297
        },
        "id": "c-B6q6WpfSlc",
        "outputId": "97b7e017-e7ff-4bc7-a94a-c70119f62520"
      },
      "execution_count": null,
      "outputs": [
        {
          "output_type": "execute_result",
          "data": {
            "text/plain": [
              "<matplotlib.axes._subplots.AxesSubplot at 0x7f7b21ad0b10>"
            ]
          },
          "metadata": {},
          "execution_count": 452
        },
        {
          "output_type": "display_data",
          "data": {
            "text/plain": [
              "<Figure size 432x288 with 1 Axes>"
            ],
            "image/png": "[encoded data removed]"
          },
          "metadata": {
            "needs_background": "light"
          }
        }
      ]
    },
    {
      "cell_type": "code",
      "source": [
        "sm.graphics.tsa.plot_acf(df2_2017['DSales'].iloc[1:,], lags=10);"
      ],
      "metadata": {
        "colab": {
          "base_uri": "https://localhost:8080/",
          "height": 281
        },
        "id": "dpfDUihEfyNE",
        "outputId": "e12f03c3-94b7-4fd7-8c5a-a66f722935d5"
      },
      "execution_count": null,
      "outputs": [
        {
          "output_type": "display_data",
          "data": {
            "text/plain": [
              "<Figure size 432x288 with 1 Axes>"
            ],
            "image/png": "[encoded data removed]"
          },
          "metadata": {
            "needs_background": "light"
          }
        }
      ]
    },
    {
      "cell_type": "code",
      "source": [
        "box_test(df2_2017['DSales'],1)\n",
        "box_test(df2_2017['DSales'],10)"
      ],
      "metadata": {
        "colab": {
          "base_uri": "https://localhost:8080/"
        },
        "id": "w_owHT_SgNtE",
        "outputId": "cd6fca1a-be28-40fb-fbeb-65beb45a1d9c"
      },
      "execution_count": null,
      "outputs": [
        {
          "output_type": "stream",
          "name": "stdout",
          "text": [
            "At lag of 1\n",
            "X-squared = 44.7447\n",
            "p-values = 0.0\n",
            "\n",
            "At lag of 10\n",
            "X-squared = 96.1513\n",
            "p-values = 0.0\n",
            "\n"
          ]
        },
        {
          "output_type": "execute_result",
          "data": {
            "text/plain": [
              "(96.1513, 0.0)"
            ]
          },
          "metadata": {},
          "execution_count": 454
        }
      ]
    },
    {
      "cell_type": "code",
      "source": [
        "def AIC_PDQ(df,ar,ii,ma): \n",
        "\n",
        "# Define the p, d and q parameters to take any user defined value. We need to be careful with integration order, cannot be 0.    p = range(0,ar)\n",
        "    p = range(0,ar)\n",
        "    d = range(0,ii)\n",
        "    q = range(0, ma)\n",
        "\n",
        "# Auto-Regressive (p) -> Number of autoregressive terms.\n",
        "# Integrated (d) -> Number of nonseasonal differences needed for stationarity.\n",
        "# Moving Average (q) -> Number of lagged forecast errors in the prediction equation.\n",
        "# Generate all different combinations of p, q and q triplets\n",
        "    pdq = list(itertools.product(p, d, q))\n",
        "\n",
        "# Run a grid with pdq and seasonal pdq parameters calculated above and get the best AIC value\n",
        "    ans = []\n",
        "    for comb in pdq:\n",
        "        try:\n",
        "            mod = ARIMA(df,\n",
        "                      order=comb,\n",
        "                      enforce_stationarity=False,\n",
        "                      enforce_invertibility=False)\n",
        "          \n",
        "            output = mod.fit()\n",
        "            ans.append([comb, output.aic])\n",
        "            print('ARIMA {} x {}12 : AIC Calculated ={}'.format(comb, output.aic))\n",
        "        except:\n",
        "            continue\n",
        "\n",
        "    ans_df = pd.DataFrame(ans, columns=['pdq', 'aic'])\n",
        "    return ans_df"
      ],
      "metadata": {
        "id": "shdVO7Fjhwl-"
      },
      "execution_count": null,
      "outputs": []
    },
    {
      "cell_type": "code",
      "source": [
        "AIC_sales = AIC_PDQ(mom_train,6,1,3)"
      ],
      "metadata": {
        "id": "cfAm9XBrh6d7"
      },
      "execution_count": null,
      "outputs": []
    },
    {
      "cell_type": "code",
      "source": [
        "minIndices = max(AIC_sales.apply(lambda x:(np.argmin(x)),0))\n",
        "print(f'The order for best AIC = {AIC_sales.iloc[minIndices,0]} for Inflation ')"
      ],
      "metadata": {
        "colab": {
          "base_uri": "https://localhost:8080/"
        },
        "id": "1-LeLEZFh9wh",
        "outputId": "22c15cbc-5f74-47df-cda8-114fdb5540fc"
      },
      "execution_count": null,
      "outputs": [
        {
          "output_type": "stream",
          "name": "stdout",
          "text": [
            "The order for best AIC = (4, 0, 2) for Inflation \n"
          ]
        }
      ]
    },
    {
      "cell_type": "code",
      "source": [
        "model_sales=ARIMA(mom_train,order=(4,0,2),trend='c',enforce_stationarity=True,\n",
        "enforce_invertibility=True)"
      ],
      "metadata": {
        "colab": {
          "base_uri": "https://localhost:8080/"
        },
        "id": "tRp31cnJrTWN",
        "outputId": "ca423386-9051-4261-a2cf-e17a9fbefab9"
      },
      "execution_count": null,
      "outputs": [
        {
          "output_type": "stream",
          "name": "stderr",
          "text": [
            "/usr/local/lib/python3.7/dist-packages/statsmodels/tsa/base/tsa_model.py:527: ValueWarning: No frequency information was provided, so inferred frequency M will be used.\n",
            "  % freq, ValueWarning)\n",
            "/usr/local/lib/python3.7/dist-packages/statsmodels/tsa/base/tsa_model.py:527: ValueWarning: No frequency information was provided, so inferred frequency M will be used.\n",
            "  % freq, ValueWarning)\n",
            "/usr/local/lib/python3.7/dist-packages/statsmodels/tsa/base/tsa_model.py:527: ValueWarning: No frequency information was provided, so inferred frequency M will be used.\n",
            "  % freq, ValueWarning)\n"
          ]
        }
      ]
    },
    {
      "cell_type": "code",
      "source": [
        "fit_sales=model_sales.fit()\n",
        "res_sales = fit_sales.resid"
      ],
      "metadata": {
        "colab": {
          "base_uri": "https://localhost:8080/"
        },
        "id": "OySDFCK6ik0m",
        "outputId": "30af91f0-8485-4032-ff5e-c747d631f1b3"
      },
      "execution_count": null,
      "outputs": [
        {
          "output_type": "stream",
          "name": "stderr",
          "text": [
            "/usr/local/lib/python3.7/dist-packages/statsmodels/tsa/statespace/sarimax.py:978: UserWarning: Non-invertible starting MA parameters found. Using zeros as starting parameters.\n",
            "  warn('Non-invertible starting MA parameters found.'\n",
            "/usr/local/lib/python3.7/dist-packages/statsmodels/base/model.py:568: ConvergenceWarning: Maximum Likelihood optimization failed to converge. Check mle_retvals\n",
            "  ConvergenceWarning)\n"
          ]
        }
      ]
    },
    {
      "cell_type": "code",
      "source": [
        "box_test(res_sales,1)\n",
        "box_test(res_sales,10)"
      ],
      "metadata": {
        "colab": {
          "base_uri": "https://localhost:8080/"
        },
        "id": "mVyeeHBaiqpk",
        "outputId": "e9ebd5ca-2f95-494b-d9cc-f13057cf636b"
      },
      "execution_count": null,
      "outputs": [
        {
          "output_type": "stream",
          "name": "stdout",
          "text": [
            "At lag of 1\n",
            "X-squared = 0.0667\n",
            "p-values = 0.7961\n",
            "\n",
            "At lag of 10\n",
            "X-squared = 42.9989\n",
            "p-values = 0.0\n",
            "\n"
          ]
        },
        {
          "output_type": "execute_result",
          "data": {
            "text/plain": [
              "(42.9989, 0.0)"
            ]
          },
          "metadata": {},
          "execution_count": 533
        }
      ]
    },
    {
      "cell_type": "markdown",
      "source": [
        "We fail to reject the null hypothesis of no serial correlation for the model except for serial correlation at the 10th lag of the inflation model."
      ],
      "metadata": {
        "id": "QT6Rb-_Zi57C"
      }
    },
    {
      "cell_type": "code",
      "source": [
        "fitted_sales = pd.DataFrame(mom_train)\n",
        "fitted_sales['predicted'] = fit_sales.predict()\n",
        "fitted_sales.columns = ['actual','predicted']\n",
        "fitted_sales"
      ],
      "metadata": {
        "colab": {
          "base_uri": "https://localhost:8080/",
          "height": 455
        },
        "id": "4wwFLo_FitVn",
        "outputId": "277c9f13-83f9-41a7-cd72-32019caa349d"
      },
      "execution_count": null,
      "outputs": [
        {
          "output_type": "execute_result",
          "data": {
            "text/plain": [
              "              actual  predicted\n",
              "Date                           \n",
              "1994-01-31 -4.201287   0.039402\n",
              "1994-02-28  0.026905   1.657769\n",
              "1994-03-31  1.966311   1.885368\n",
              "1994-04-30 -0.061043   0.393503\n",
              "1994-05-31  0.304608  -0.534879\n",
              "...              ...        ...\n",
              "2017-08-31  0.392787   0.183961\n",
              "2017-09-30 -0.523643  -0.391492\n",
              "2017-10-31  0.141389   0.420709\n",
              "2017-11-30  0.730638   0.086857\n",
              "2017-12-31  1.400929  -0.182098\n",
              "\n",
              "[288 rows x 2 columns]"
            ],
            "text/html": [
              "\n",
              "  <div id=\"df-1d061078-d4aa-4f4a-9166-6caaada2ba4d\">\n",
              "    <div class=\"colab-df-container\">\n",
              "      <div>\n",
              "<style scoped>\n",
              "    .dataframe tbody tr th:only-of-type {\n",
              "        vertical-align: middle;\n",
              "    }\n",
              "\n",
              "    .dataframe tbody tr th {\n",
              "        vertical-align: top;\n",
              "    }\n",
              "\n",
              "    .dataframe thead th {\n",
              "        text-align: right;\n",
              "    }\n",
              "</style>\n",
              "<table border=\"1\" class=\"dataframe\">\n",
              "  <thead>\n",
              "    <tr style=\"text-align: right;\">\n",
              "      <th></th>\n",
              "      <th>actual</th>\n",
              "      <th>predicted</th>\n",
              "    </tr>\n",
              "    <tr>\n",
              "      <th>Date</th>\n",
              "      <th></th>\n",
              "      <th></th>\n",
              "    </tr>\n",
              "  </thead>\n",
              "  <tbody>\n",
              "    <tr>\n",
              "      <th>1994-01-31</th>\n",
              "      <td>-4.201287</td>\n",
              "      <td>0.039402</td>\n",
              "    </tr>\n",
              "    <tr>\n",
              "      <th>1994-02-28</th>\n",
              "      <td>0.026905</td>\n",
              "      <td>1.657769</td>\n",
              "    </tr>\n",
              "    <tr>\n",
              "      <th>1994-03-31</th>\n",
              "      <td>1.966311</td>\n",
              "      <td>1.885368</td>\n",
              "    </tr>\n",
              "    <tr>\n",
              "      <th>1994-04-30</th>\n",
              "      <td>-0.061043</td>\n",
              "      <td>0.393503</td>\n",
              "    </tr>\n",
              "    <tr>\n",
              "      <th>1994-05-31</th>\n",
              "      <td>0.304608</td>\n",
              "      <td>-0.534879</td>\n",
              "    </tr>\n",
              "    <tr>\n",
              "      <th>...</th>\n",
              "      <td>...</td>\n",
              "      <td>...</td>\n",
              "    </tr>\n",
              "    <tr>\n",
              "      <th>2017-08-31</th>\n",
              "      <td>0.392787</td>\n",
              "      <td>0.183961</td>\n",
              "    </tr>\n",
              "    <tr>\n",
              "      <th>2017-09-30</th>\n",
              "      <td>-0.523643</td>\n",
              "      <td>-0.391492</td>\n",
              "    </tr>\n",
              "    <tr>\n",
              "      <th>2017-10-31</th>\n",
              "      <td>0.141389</td>\n",
              "      <td>0.420709</td>\n",
              "    </tr>\n",
              "    <tr>\n",
              "      <th>2017-11-30</th>\n",
              "      <td>0.730638</td>\n",
              "      <td>0.086857</td>\n",
              "    </tr>\n",
              "    <tr>\n",
              "      <th>2017-12-31</th>\n",
              "      <td>1.400929</td>\n",
              "      <td>-0.182098</td>\n",
              "    </tr>\n",
              "  </tbody>\n",
              "</table>\n",
              "<p>288 rows × 2 columns</p>\n",
              "</div>\n",
              "      <button class=\"colab-df-convert\" onclick=\"convertToInteractive('df-1d061078-d4aa-4f4a-9166-6caaada2ba4d')\"\n",
              "              title=\"Convert this dataframe to an interactive table.\"\n",
              "              style=\"display:none;\">\n",
              "        \n",
              "  <svg xmlns=\"http://www.w3.org/2000/svg\" height=\"24px\"viewBox=\"0 0 24 24\"\n",
              "       width=\"24px\">\n",
              "    <path d=\"M0 0h24v24H0V0z\" fill=\"none\"/>\n",
              "    <path d=\"M18.56 5.44l.94 2.06.94-2.06 2.06-.94-2.06-.94-.94-2.06-.94 2.06-2.06.94zm-11 1L8.5 8.5l.94-2.06 2.06-.94-2.06-.94L8.5 2.5l-.94 2.06-2.06.94zm10 10l.94 2.06.94-2.06 2.06-.94-2.06-.94-.94-2.06-.94 2.06-2.06.94z\"/><path d=\"M17.41 7.96l-1.37-1.37c-.4-.4-.92-.59-1.43-.59-.52 0-1.04.2-1.43.59L10.3 9.45l-7.72 7.72c-.78.78-.78 2.05 0 2.83L4 21.41c.39.39.9.59 1.41.59.51 0 1.02-.2 1.41-.59l7.78-7.78 2.81-2.81c.8-.78.8-2.07 0-2.86zM5.41 20L4 18.59l7.72-7.72 1.47 1.35L5.41 20z\"/>\n",
              "  </svg>\n",
              "      </button>\n",
              "      \n",
              "  <style>\n",
              "    .colab-df-container {\n",
              "      display:flex;\n",
              "      flex-wrap:wrap;\n",
              "      gap: 12px;\n",
              "    }\n",
              "\n",
              "    .colab-df-convert {\n",
              "      background-color: #E8F0FE;\n",
              "      border: none;\n",
              "      border-radius: 50%;\n",
              "      cursor: pointer;\n",
              "      display: none;\n",
              "      fill: #1967D2;\n",
              "      height: 32px;\n",
              "      padding: 0 0 0 0;\n",
              "      width: 32px;\n",
              "    }\n",
              "\n",
              "    .colab-df-convert:hover {\n",
              "      background-color: #E2EBFA;\n",
              "      box-shadow: 0px 1px 2px rgba(60, 64, 67, 0.3), 0px 1px 3px 1px rgba(60, 64, 67, 0.15);\n",
              "      fill: #174EA6;\n",
              "    }\n",
              "\n",
              "    [theme=dark] .colab-df-convert {\n",
              "      background-color: #3B4455;\n",
              "      fill: #D2E3FC;\n",
              "    }\n",
              "\n",
              "    [theme=dark] .colab-df-convert:hover {\n",
              "      background-color: #434B5C;\n",
              "      box-shadow: 0px 1px 3px 1px rgba(0, 0, 0, 0.15);\n",
              "      filter: drop-shadow(0px 1px 2px rgba(0, 0, 0, 0.3));\n",
              "      fill: #FFFFFF;\n",
              "    }\n",
              "  </style>\n",
              "\n",
              "      <script>\n",
              "        const buttonEl =\n",
              "          document.querySelector('#df-1d061078-d4aa-4f4a-9166-6caaada2ba4d button.colab-df-convert');\n",
              "        buttonEl.style.display =\n",
              "          google.colab.kernel.accessAllowed ? 'block' : 'none';\n",
              "\n",
              "        async function convertToInteractive(key) {\n",
              "          const element = document.querySelector('#df-1d061078-d4aa-4f4a-9166-6caaada2ba4d');\n",
              "          const dataTable =\n",
              "            await google.colab.kernel.invokeFunction('convertToInteractive',\n",
              "                                                     [key], {});\n",
              "          if (!dataTable) return;\n",
              "\n",
              "          const docLinkHtml = 'Like what you see? Visit the ' +\n",
              "            '<a target=\"_blank\" href=https://colab.research.google.com/notebooks/data_table.ipynb>data table notebook</a>'\n",
              "            + ' to learn more about interactive tables.';\n",
              "          element.innerHTML = '';\n",
              "          dataTable['output_type'] = 'display_data';\n",
              "          await google.colab.output.renderOutput(dataTable, element);\n",
              "          const docLink = document.createElement('div');\n",
              "          docLink.innerHTML = docLinkHtml;\n",
              "          element.appendChild(docLink);\n",
              "        }\n",
              "      </script>\n",
              "    </div>\n",
              "  </div>\n",
              "  "
            ]
          },
          "metadata": {},
          "execution_count": 561
        }
      ]
    },
    {
      "cell_type": "code",
      "source": [
        "fitted_sales=fitted_sales.reset_index().melt(id_vars='Date')"
      ],
      "metadata": {
        "id": "fMYbn8uTkWhO"
      },
      "execution_count": null,
      "outputs": []
    },
    {
      "cell_type": "code",
      "source": [
        "sns.lineplot(data=fitted_sales,x='Date',y='value',hue='variable')"
      ],
      "metadata": {
        "colab": {
          "base_uri": "https://localhost:8080/",
          "height": 297
        },
        "id": "ziUN6kIvlim3",
        "outputId": "aa4e2457-d976-4e7e-d5c2-f51ecb3466e3"
      },
      "execution_count": null,
      "outputs": [
        {
          "output_type": "execute_result",
          "data": {
            "text/plain": [
              "<matplotlib.axes._subplots.AxesSubplot at 0x7f7b208aeb10>"
            ]
          },
          "metadata": {},
          "execution_count": 563
        },
        {
          "output_type": "display_data",
          "data": {
            "text/plain": [
              "<Figure size 432x288 with 1 Axes>"
            ],
            "image/png": "[encoded data removed]"
          },
          "metadata": {
            "needs_background": "light"
          }
        }
      ]
    },
    {
      "cell_type": "code",
      "source": [
        "mom_forecasts=fit_sales.forecast(56)\n",
        "\n",
        "mom_test =pd.concat([mom_test, mom_forecasts], axis=1)\n",
        "mom_test"
      ],
      "metadata": {
        "colab": {
          "base_uri": "https://localhost:8080/",
          "height": 1000
        },
        "id": "43RhXv5xtW9G",
        "outputId": "764728c0-3e9f-491b-9d11-b1b288dc9bb4"
      },
      "execution_count": null,
      "outputs": [
        {
          "output_type": "execute_result",
          "data": {
            "text/plain": [
              "            sales_mom  predicted_mean  predicted_mean  predicted_mean\n",
              "2018-01-31  -3.012245       -1.924713       -1.924713       -1.924713\n",
              "2018-02-28  -0.232519       -0.000247       -0.000247       -0.000247\n",
              "2018-03-31   1.860194        0.296545        0.296545        0.296545\n",
              "2018-04-30  -0.599097        0.530633        0.530633        0.530633\n",
              "2018-05-31   1.113142       -0.436528       -0.436528       -0.436528\n",
              "2018-06-30  -0.525336        0.228810        0.228810        0.228810\n",
              "2018-07-31  -0.075702       -0.189796       -0.189796       -0.189796\n",
              "2018-08-31   0.385937        0.373433        0.373433        0.373433\n",
              "2018-09-30  -1.068094       -0.266777       -0.266777       -0.266777\n",
              "2018-10-31   0.735202        0.308732        0.308732        0.308732\n",
              "2018-11-30   0.482011       -0.244963       -0.244963       -0.244963\n",
              "2018-12-31   0.928501        0.336033        0.336033        0.336033\n",
              "2019-01-31  -2.717094       -0.249959       -0.249959       -0.249959\n",
              "2019-02-28  -0.375957        0.324895        0.324895        0.324895\n",
              "2019-03-31   1.842072       -0.249295       -0.249295       -0.249295\n",
              "2019-04-30  -0.161100        0.329154        0.329154        0.329154\n",
              "2019-05-31   0.855503       -0.248953       -0.248953       -0.248953\n",
              "2019-06-30  -0.747864        0.327479        0.327479        0.327479\n",
              "2019-07-31   0.374931       -0.249199       -0.249199       -0.249199\n",
              "2019-08-31   0.248188        0.328005        0.328005        0.328005\n",
              "2019-09-30  -1.160413       -0.248956       -0.248956       -0.248956\n",
              "2019-10-31   0.763935        0.327747        0.327747        0.327747\n",
              "2019-11-30   0.337303       -0.248994       -0.248994       -0.248994\n",
              "2019-12-31   1.362612        0.327756        0.327756        0.327756\n",
              "2020-01-31  -2.822501       -0.248893       -0.248893       -0.248893\n",
              "2020-02-29  -0.006051        0.327679        0.327679        0.327679\n",
              "2020-03-31   0.498072       -0.248856       -0.248856       -0.248856\n",
              "2020-04-30  -1.691557        0.327627        0.327627        0.327627\n",
              "2020-05-31   2.416061       -0.248791       -0.248791       -0.248791\n",
              "2020-06-30   0.429294        0.327569        0.327569        0.327569\n",
              "2020-07-31   0.425437       -0.248737       -0.248737       -0.248737\n",
              "2020-08-31  -0.170454        0.327512        0.327512        0.327512\n",
              "2020-09-30  -0.332332       -0.248679       -0.248679       -0.248679\n",
              "2020-10-31   0.564158        0.327456        0.327456        0.327456\n",
              "2020-11-30  -0.098022       -0.248622       -0.248622       -0.248622\n",
              "2020-12-31   1.765084        0.327398        0.327398        0.327398\n",
              "2021-01-31  -2.582648       -0.248565       -0.248565       -0.248565\n",
              "2021-02-28  -0.512265        0.327342        0.327342        0.327342\n",
              "2021-03-31   3.093359       -0.248508       -0.248508       -0.248508\n",
              "2021-04-30  -0.196089        0.327285        0.327285        0.327285\n",
              "2021-05-31   0.176608       -0.248451       -0.248451       -0.248451\n",
              "2021-06-30  -0.166376        0.327228        0.327228        0.327228\n",
              "2021-07-31  -0.130358       -0.248395       -0.248395       -0.248395\n",
              "2021-08-31  -0.079893        0.327171        0.327171        0.327171\n",
              "2021-09-30  -0.431382       -0.248338       -0.248338       -0.248338\n",
              "2021-10-31   0.589343        0.327114        0.327114        0.327114\n",
              "2021-11-30   0.441474       -0.248281       -0.248281       -0.248281\n",
              "2021-12-31   1.400775        0.327057        0.327057        0.327057\n",
              "2022-01-31  -2.841842       -0.248224       -0.248224       -0.248224\n",
              "2022-02-28  -0.166646        0.327000        0.327000        0.327000\n",
              "2022-03-31   2.074827       -0.248167       -0.248167       -0.248167\n",
              "2022-04-30  -0.122716        0.326944        0.326944        0.326944\n",
              "2022-05-31   0.313662       -0.248110       -0.248110       -0.248110\n",
              "2022-06-30  -0.023859        0.326887        0.326887        0.326887\n",
              "2022-07-31  -0.231408       -0.248054       -0.248054       -0.248054\n",
              "2022-08-31   0.187475        0.326830        0.326830        0.326830"
            ],
            "text/html": [
              "\n",
              "  <div id=\"df-ecb9b102-ed46-4fce-8a3f-7cce529ff33f\">\n",
              "    <div class=\"colab-df-container\">\n",
              "      <div>\n",
              "<style scoped>\n",
              "    .dataframe tbody tr th:only-of-type {\n",
              "        vertical-align: middle;\n",
              "    }\n",
              "\n",
              "    .dataframe tbody tr th {\n",
              "        vertical-align: top;\n",
              "    }\n",
              "\n",
              "    .dataframe thead th {\n",
              "        text-align: right;\n",
              "    }\n",
              "</style>\n",
              "<table border=\"1\" class=\"dataframe\">\n",
              "  <thead>\n",
              "    <tr style=\"text-align: right;\">\n",
              "      <th></th>\n",
              "      <th>sales_mom</th>\n",
              "      <th>predicted_mean</th>\n",
              "      <th>predicted_mean</th>\n",
              "      <th>predicted_mean</th>\n",
              "    </tr>\n",
              "  </thead>\n",
              "  <tbody>\n",
              "    <tr>\n",
              "      <th>2018-01-31</th>\n",
              "      <td>-3.012245</td>\n",
              "      <td>-1.924713</td>\n",
              "      <td>-1.924713</td>\n",
              "      <td>-1.924713</td>\n",
              "    </tr>\n",
              "    <tr>\n",
              "      <th>2018-02-28</th>\n",
              "      <td>-0.232519</td>\n",
              "      <td>-0.000247</td>\n",
              "      <td>-0.000247</td>\n",
              "      <td>-0.000247</td>\n",
              "    </tr>\n",
              "    <tr>\n",
              "      <th>2018-03-31</th>\n",
              "      <td>1.860194</td>\n",
              "      <td>0.296545</td>\n",
              "      <td>0.296545</td>\n",
              "      <td>0.296545</td>\n",
              "    </tr>\n",
              "    <tr>\n",
              "      <th>2018-04-30</th>\n",
              "      <td>-0.599097</td>\n",
              "      <td>0.530633</td>\n",
              "      <td>0.530633</td>\n",
              "      <td>0.530633</td>\n",
              "    </tr>\n",
              "    <tr>\n",
              "      <th>2018-05-31</th>\n",
              "      <td>1.113142</td>\n",
              "      <td>-0.436528</td>\n",
              "      <td>-0.436528</td>\n",
              "      <td>-0.436528</td>\n",
              "    </tr>\n",
              "    <tr>\n",
              "      <th>2018-06-30</th>\n",
              "      <td>-0.525336</td>\n",
              "      <td>0.228810</td>\n",
              "      <td>0.228810</td>\n",
              "      <td>0.228810</td>\n",
              "    </tr>\n",
              "    <tr>\n",
              "      <th>2018-07-31</th>\n",
              "      <td>-0.075702</td>\n",
              "      <td>-0.189796</td>\n",
              "      <td>-0.189796</td>\n",
              "      <td>-0.189796</td>\n",
              "    </tr>\n",
              "    <tr>\n",
              "      <th>2018-08-31</th>\n",
              "      <td>0.385937</td>\n",
              "      <td>0.373433</td>\n",
              "      <td>0.373433</td>\n",
              "      <td>0.373433</td>\n",
              "    </tr>\n",
              "    <tr>\n",
              "      <th>2018-09-30</th>\n",
              "      <td>-1.068094</td>\n",
              "      <td>-0.266777</td>\n",
              "      <td>-0.266777</td>\n",
              "      <td>-0.266777</td>\n",
              "    </tr>\n",
              "    <tr>\n",
              "      <th>2018-10-31</th>\n",
              "      <td>0.735202</td>\n",
              "      <td>0.308732</td>\n",
              "      <td>0.308732</td>\n",
              "      <td>0.308732</td>\n",
              "    </tr>\n",
              "    <tr>\n",
              "      <th>2018-11-30</th>\n",
              "      <td>0.482011</td>\n",
              "      <td>-0.244963</td>\n",
              "      <td>-0.244963</td>\n",
              "      <td>-0.244963</td>\n",
              "    </tr>\n",
              "    <tr>\n",
              "      <th>2018-12-31</th>\n",
              "      <td>0.928501</td>\n",
              "      <td>0.336033</td>\n",
              "      <td>0.336033</td>\n",
              "      <td>0.336033</td>\n",
              "    </tr>\n",
              "    <tr>\n",
              "      <th>2019-01-31</th>\n",
              "      <td>-2.717094</td>\n",
              "      <td>-0.249959</td>\n",
              "      <td>-0.249959</td>\n",
              "      <td>-0.249959</td>\n",
              "    </tr>\n",
              "    <tr>\n",
              "      <th>2019-02-28</th>\n",
              "      <td>-0.375957</td>\n",
              "      <td>0.324895</td>\n",
              "      <td>0.324895</td>\n",
              "      <td>0.324895</td>\n",
              "    </tr>\n",
              "    <tr>\n",
              "      <th>2019-03-31</th>\n",
              "      <td>1.842072</td>\n",
              "      <td>-0.249295</td>\n",
              "      <td>-0.249295</td>\n",
              "      <td>-0.249295</td>\n",
              "    </tr>\n",
              "    <tr>\n",
              "      <th>2019-04-30</th>\n",
              "      <td>-0.161100</td>\n",
              "      <td>0.329154</td>\n",
              "      <td>0.329154</td>\n",
              "      <td>0.329154</td>\n",
              "    </tr>\n",
              "    <tr>\n",
              "      <th>2019-05-31</th>\n",
              "      <td>0.855503</td>\n",
              "      <td>-0.248953</td>\n",
              "      <td>-0.248953</td>\n",
              "      <td>-0.248953</td>\n",
              "    </tr>\n",
              "    <tr>\n",
              "      <th>2019-06-30</th>\n",
              "      <td>-0.747864</td>\n",
              "      <td>0.327479</td>\n",
              "      <td>0.327479</td>\n",
              "      <td>0.327479</td>\n",
              "    </tr>\n",
              "    <tr>\n",
              "      <th>2019-07-31</th>\n",
              "      <td>0.374931</td>\n",
              "      <td>-0.249199</td>\n",
              "      <td>-0.249199</td>\n",
              "      <td>-0.249199</td>\n",
              "    </tr>\n",
              "    <tr>\n",
              "      <th>2019-08-31</th>\n",
              "      <td>0.248188</td>\n",
              "      <td>0.328005</td>\n",
              "      <td>0.328005</td>\n",
              "      <td>0.328005</td>\n",
              "    </tr>\n",
              "    <tr>\n",
              "      <th>2019-09-30</th>\n",
              "      <td>-1.160413</td>\n",
              "      <td>-0.248956</td>\n",
              "      <td>-0.248956</td>\n",
              "      <td>-0.248956</td>\n",
              "    </tr>\n",
              "    <tr>\n",
              "      <th>2019-10-31</th>\n",
              "      <td>0.763935</td>\n",
              "      <td>0.327747</td>\n",
              "      <td>0.327747</td>\n",
              "      <td>0.327747</td>\n",
              "    </tr>\n",
              "    <tr>\n",
              "      <th>2019-11-30</th>\n",
              "      <td>0.337303</td>\n",
              "      <td>-0.248994</td>\n",
              "      <td>-0.248994</td>\n",
              "      <td>-0.248994</td>\n",
              "    </tr>\n",
              "    <tr>\n",
              "      <th>2019-12-31</th>\n",
              "      <td>1.362612</td>\n",
              "      <td>0.327756</td>\n",
              "      <td>0.327756</td>\n",
              "      <td>0.327756</td>\n",
              "    </tr>\n",
              "    <tr>\n",
              "      <th>2020-01-31</th>\n",
              "      <td>-2.822501</td>\n",
              "      <td>-0.248893</td>\n",
              "      <td>-0.248893</td>\n",
              "      <td>-0.248893</td>\n",
              "    </tr>\n",
              "    <tr>\n",
              "      <th>2020-02-29</th>\n",
              "      <td>-0.006051</td>\n",
              "      <td>0.327679</td>\n",
              "      <td>0.327679</td>\n",
              "      <td>0.327679</td>\n",
              "    </tr>\n",
              "    <tr>\n",
              "      <th>2020-03-31</th>\n",
              "      <td>0.498072</td>\n",
              "      <td>-0.248856</td>\n",
              "      <td>-0.248856</td>\n",
              "      <td>-0.248856</td>\n",
              "    </tr>\n",
              "    <tr>\n",
              "      <th>2020-04-30</th>\n",
              "      <td>-1.691557</td>\n",
              "      <td>0.327627</td>\n",
              "      <td>0.327627</td>\n",
              "      <td>0.327627</td>\n",
              "    </tr>\n",
              "    <tr>\n",
              "      <th>2020-05-31</th>\n",
              "      <td>2.416061</td>\n",
              "      <td>-0.248791</td>\n",
              "      <td>-0.248791</td>\n",
              "      <td>-0.248791</td>\n",
              "    </tr>\n",
              "    <tr>\n",
              "      <th>2020-06-30</th>\n",
              "      <td>0.429294</td>\n",
              "      <td>0.327569</td>\n",
              "      <td>0.327569</td>\n",
              "      <td>0.327569</td>\n",
              "    </tr>\n",
              "    <tr>\n",
              "      <th>2020-07-31</th>\n",
              "      <td>0.425437</td>\n",
              "      <td>-0.248737</td>\n",
              "      <td>-0.248737</td>\n",
              "      <td>-0.248737</td>\n",
              "    </tr>\n",
              "    <tr>\n",
              "      <th>2020-08-31</th>\n",
              "      <td>-0.170454</td>\n",
              "      <td>0.327512</td>\n",
              "      <td>0.327512</td>\n",
              "      <td>0.327512</td>\n",
              "    </tr>\n",
              "    <tr>\n",
              "      <th>2020-09-30</th>\n",
              "      <td>-0.332332</td>\n",
              "      <td>-0.248679</td>\n",
              "      <td>-0.248679</td>\n",
              "      <td>-0.248679</td>\n",
              "    </tr>\n",
              "    <tr>\n",
              "      <th>2020-10-31</th>\n",
              "      <td>0.564158</td>\n",
              "      <td>0.327456</td>\n",
              "      <td>0.327456</td>\n",
              "      <td>0.327456</td>\n",
              "    </tr>\n",
              "    <tr>\n",
              "      <th>2020-11-30</th>\n",
              "      <td>-0.098022</td>\n",
              "      <td>-0.248622</td>\n",
              "      <td>-0.248622</td>\n",
              "      <td>-0.248622</td>\n",
              "    </tr>\n",
              "    <tr>\n",
              "      <th>2020-12-31</th>\n",
              "      <td>1.765084</td>\n",
              "      <td>0.327398</td>\n",
              "      <td>0.327398</td>\n",
              "      <td>0.327398</td>\n",
              "    </tr>\n",
              "    <tr>\n",
              "      <th>2021-01-31</th>\n",
              "      <td>-2.582648</td>\n",
              "      <td>-0.248565</td>\n",
              "      <td>-0.248565</td>\n",
              "      <td>-0.248565</td>\n",
              "    </tr>\n",
              "    <tr>\n",
              "      <th>2021-02-28</th>\n",
              "      <td>-0.512265</td>\n",
              "      <td>0.327342</td>\n",
              "      <td>0.327342</td>\n",
              "      <td>0.327342</td>\n",
              "    </tr>\n",
              "    <tr>\n",
              "      <th>2021-03-31</th>\n",
              "      <td>3.093359</td>\n",
              "      <td>-0.248508</td>\n",
              "      <td>-0.248508</td>\n",
              "      <td>-0.248508</td>\n",
              "    </tr>\n",
              "    <tr>\n",
              "      <th>2021-04-30</th>\n",
              "      <td>-0.196089</td>\n",
              "      <td>0.327285</td>\n",
              "      <td>0.327285</td>\n",
              "      <td>0.327285</td>\n",
              "    </tr>\n",
              "    <tr>\n",
              "      <th>2021-05-31</th>\n",
              "      <td>0.176608</td>\n",
              "      <td>-0.248451</td>\n",
              "      <td>-0.248451</td>\n",
              "      <td>-0.248451</td>\n",
              "    </tr>\n",
              "    <tr>\n",
              "      <th>2021-06-30</th>\n",
              "      <td>-0.166376</td>\n",
              "      <td>0.327228</td>\n",
              "      <td>0.327228</td>\n",
              "      <td>0.327228</td>\n",
              "    </tr>\n",
              "    <tr>\n",
              "      <th>2021-07-31</th>\n",
              "      <td>-0.130358</td>\n",
              "      <td>-0.248395</td>\n",
              "      <td>-0.248395</td>\n",
              "      <td>-0.248395</td>\n",
              "    </tr>\n",
              "    <tr>\n",
              "      <th>2021-08-31</th>\n",
              "      <td>-0.079893</td>\n",
              "      <td>0.327171</td>\n",
              "      <td>0.327171</td>\n",
              "      <td>0.327171</td>\n",
              "    </tr>\n",
              "    <tr>\n",
              "      <th>2021-09-30</th>\n",
              "      <td>-0.431382</td>\n",
              "      <td>-0.248338</td>\n",
              "      <td>-0.248338</td>\n",
              "      <td>-0.248338</td>\n",
              "    </tr>\n",
              "    <tr>\n",
              "      <th>2021-10-31</th>\n",
              "      <td>0.589343</td>\n",
              "      <td>0.327114</td>\n",
              "      <td>0.327114</td>\n",
              "      <td>0.327114</td>\n",
              "    </tr>\n",
              "    <tr>\n",
              "      <th>2021-11-30</th>\n",
              "      <td>0.441474</td>\n",
              "      <td>-0.248281</td>\n",
              "      <td>-0.248281</td>\n",
              "      <td>-0.248281</td>\n",
              "    </tr>\n",
              "    <tr>\n",
              "      <th>2021-12-31</th>\n",
              "      <td>1.400775</td>\n",
              "      <td>0.327057</td>\n",
              "      <td>0.327057</td>\n",
              "      <td>0.327057</td>\n",
              "    </tr>\n",
              "    <tr>\n",
              "      <th>2022-01-31</th>\n",
              "      <td>-2.841842</td>\n",
              "      <td>-0.248224</td>\n",
              "      <td>-0.248224</td>\n",
              "      <td>-0.248224</td>\n",
              "    </tr>\n",
              "    <tr>\n",
              "      <th>2022-02-28</th>\n",
              "      <td>-0.166646</td>\n",
              "      <td>0.327000</td>\n",
              "      <td>0.327000</td>\n",
              "      <td>0.327000</td>\n",
              "    </tr>\n",
              "    <tr>\n",
              "      <th>2022-03-31</th>\n",
              "      <td>2.074827</td>\n",
              "      <td>-0.248167</td>\n",
              "      <td>-0.248167</td>\n",
              "      <td>-0.248167</td>\n",
              "    </tr>\n",
              "    <tr>\n",
              "      <th>2022-04-30</th>\n",
              "      <td>-0.122716</td>\n",
              "      <td>0.326944</td>\n",
              "      <td>0.326944</td>\n",
              "      <td>0.326944</td>\n",
              "    </tr>\n",
              "    <tr>\n",
              "      <th>2022-05-31</th>\n",
              "      <td>0.313662</td>\n",
              "      <td>-0.248110</td>\n",
              "      <td>-0.248110</td>\n",
              "      <td>-0.248110</td>\n",
              "    </tr>\n",
              "    <tr>\n",
              "      <th>2022-06-30</th>\n",
              "      <td>-0.023859</td>\n",
              "      <td>0.326887</td>\n",
              "      <td>0.326887</td>\n",
              "      <td>0.326887</td>\n",
              "    </tr>\n",
              "    <tr>\n",
              "      <th>2022-07-31</th>\n",
              "      <td>-0.231408</td>\n",
              "      <td>-0.248054</td>\n",
              "      <td>-0.248054</td>\n",
              "      <td>-0.248054</td>\n",
              "    </tr>\n",
              "    <tr>\n",
              "      <th>2022-08-31</th>\n",
              "      <td>0.187475</td>\n",
              "      <td>0.326830</td>\n",
              "      <td>0.326830</td>\n",
              "      <td>0.326830</td>\n",
              "    </tr>\n",
              "  </tbody>\n",
              "</table>\n",
              "</div>\n",
              "      <button class=\"colab-df-convert\" onclick=\"convertToInteractive('df-ecb9b102-ed46-4fce-8a3f-7cce529ff33f')\"\n",
              "              title=\"Convert this dataframe to an interactive table.\"\n",
              "              style=\"display:none;\">\n",
              "        \n",
              "  <svg xmlns=\"http://www.w3.org/2000/svg\" height=\"24px\"viewBox=\"0 0 24 24\"\n",
              "       width=\"24px\">\n",
              "    <path d=\"M0 0h24v24H0V0z\" fill=\"none\"/>\n",
              "    <path d=\"M18.56 5.44l.94 2.06.94-2.06 2.06-.94-2.06-.94-.94-2.06-.94 2.06-2.06.94zm-11 1L8.5 8.5l.94-2.06 2.06-.94-2.06-.94L8.5 2.5l-.94 2.06-2.06.94zm10 10l.94 2.06.94-2.06 2.06-.94-2.06-.94-.94-2.06-.94 2.06-2.06.94z\"/><path d=\"M17.41 7.96l-1.37-1.37c-.4-.4-.92-.59-1.43-.59-.52 0-1.04.2-1.43.59L10.3 9.45l-7.72 7.72c-.78.78-.78 2.05 0 2.83L4 21.41c.39.39.9.59 1.41.59.51 0 1.02-.2 1.41-.59l7.78-7.78 2.81-2.81c.8-.78.8-2.07 0-2.86zM5.41 20L4 18.59l7.72-7.72 1.47 1.35L5.41 20z\"/>\n",
              "  </svg>\n",
              "      </button>\n",
              "      \n",
              "  <style>\n",
              "    .colab-df-container {\n",
              "      display:flex;\n",
              "      flex-wrap:wrap;\n",
              "      gap: 12px;\n",
              "    }\n",
              "\n",
              "    .colab-df-convert {\n",
              "      background-color: #E8F0FE;\n",
              "      border: none;\n",
              "      border-radius: 50%;\n",
              "      cursor: pointer;\n",
              "      display: none;\n",
              "      fill: #1967D2;\n",
              "      height: 32px;\n",
              "      padding: 0 0 0 0;\n",
              "      width: 32px;\n",
              "    }\n",
              "\n",
              "    .colab-df-convert:hover {\n",
              "      background-color: #E2EBFA;\n",
              "      box-shadow: 0px 1px 2px rgba(60, 64, 67, 0.3), 0px 1px 3px 1px rgba(60, 64, 67, 0.15);\n",
              "      fill: #174EA6;\n",
              "    }\n",
              "\n",
              "    [theme=dark] .colab-df-convert {\n",
              "      background-color: #3B4455;\n",
              "      fill: #D2E3FC;\n",
              "    }\n",
              "\n",
              "    [theme=dark] .colab-df-convert:hover {\n",
              "      background-color: #434B5C;\n",
              "      box-shadow: 0px 1px 3px 1px rgba(0, 0, 0, 0.15);\n",
              "      filter: drop-shadow(0px 1px 2px rgba(0, 0, 0, 0.3));\n",
              "      fill: #FFFFFF;\n",
              "    }\n",
              "  </style>\n",
              "\n",
              "      <script>\n",
              "        const buttonEl =\n",
              "          document.querySelector('#df-ecb9b102-ed46-4fce-8a3f-7cce529ff33f button.colab-df-convert');\n",
              "        buttonEl.style.display =\n",
              "          google.colab.kernel.accessAllowed ? 'block' : 'none';\n",
              "\n",
              "        async function convertToInteractive(key) {\n",
              "          const element = document.querySelector('#df-ecb9b102-ed46-4fce-8a3f-7cce529ff33f');\n",
              "          const dataTable =\n",
              "            await google.colab.kernel.invokeFunction('convertToInteractive',\n",
              "                                                     [key], {});\n",
              "          if (!dataTable) return;\n",
              "\n",
              "          const docLinkHtml = 'Like what you see? Visit the ' +\n",
              "            '<a target=\"_blank\" href=https://colab.research.google.com/notebooks/data_table.ipynb>data table notebook</a>'\n",
              "            + ' to learn more about interactive tables.';\n",
              "          element.innerHTML = '';\n",
              "          dataTable['output_type'] = 'display_data';\n",
              "          await google.colab.output.renderOutput(dataTable, element);\n",
              "          const docLink = document.createElement('div');\n",
              "          docLink.innerHTML = docLinkHtml;\n",
              "          element.appendChild(docLink);\n",
              "        }\n",
              "      </script>\n",
              "    </div>\n",
              "  </div>\n",
              "  "
            ]
          },
          "metadata": {},
          "execution_count": 566
        }
      ]
    },
    {
      "cell_type": "code",
      "source": [
        "\n",
        "mom_test=mom_test.iloc[:,:2]\n",
        "mom_test"
      ],
      "metadata": {
        "colab": {
          "base_uri": "https://localhost:8080/",
          "height": 1000
        },
        "id": "Aaa4pWjsuHWA",
        "outputId": "179658f5-9177-421d-c4ec-113a10f13ca9"
      },
      "execution_count": null,
      "outputs": [
        {
          "output_type": "execute_result",
          "data": {
            "text/plain": [
              "            sales_mom  predicted_mean\n",
              "2018-01-31  -3.012245       -1.924713\n",
              "2018-02-28  -0.232519       -0.000247\n",
              "2018-03-31   1.860194        0.296545\n",
              "2018-04-30  -0.599097        0.530633\n",
              "2018-05-31   1.113142       -0.436528\n",
              "2018-06-30  -0.525336        0.228810\n",
              "2018-07-31  -0.075702       -0.189796\n",
              "2018-08-31   0.385937        0.373433\n",
              "2018-09-30  -1.068094       -0.266777\n",
              "2018-10-31   0.735202        0.308732\n",
              "2018-11-30   0.482011       -0.244963\n",
              "2018-12-31   0.928501        0.336033\n",
              "2019-01-31  -2.717094       -0.249959\n",
              "2019-02-28  -0.375957        0.324895\n",
              "2019-03-31   1.842072       -0.249295\n",
              "2019-04-30  -0.161100        0.329154\n",
              "2019-05-31   0.855503       -0.248953\n",
              "2019-06-30  -0.747864        0.327479\n",
              "2019-07-31   0.374931       -0.249199\n",
              "2019-08-31   0.248188        0.328005\n",
              "2019-09-30  -1.160413       -0.248956\n",
              "2019-10-31   0.763935        0.327747\n",
              "2019-11-30   0.337303       -0.248994\n",
              "2019-12-31   1.362612        0.327756\n",
              "2020-01-31  -2.822501       -0.248893\n",
              "2020-02-29  -0.006051        0.327679\n",
              "2020-03-31   0.498072       -0.248856\n",
              "2020-04-30  -1.691557        0.327627\n",
              "2020-05-31   2.416061       -0.248791\n",
              "2020-06-30   0.429294        0.327569\n",
              "2020-07-31   0.425437       -0.248737\n",
              "2020-08-31  -0.170454        0.327512\n",
              "2020-09-30  -0.332332       -0.248679\n",
              "2020-10-31   0.564158        0.327456\n",
              "2020-11-30  -0.098022       -0.248622\n",
              "2020-12-31   1.765084        0.327398\n",
              "2021-01-31  -2.582648       -0.248565\n",
              "2021-02-28  -0.512265        0.327342\n",
              "2021-03-31   3.093359       -0.248508\n",
              "2021-04-30  -0.196089        0.327285\n",
              "2021-05-31   0.176608       -0.248451\n",
              "2021-06-30  -0.166376        0.327228\n",
              "2021-07-31  -0.130358       -0.248395\n",
              "2021-08-31  -0.079893        0.327171\n",
              "2021-09-30  -0.431382       -0.248338\n",
              "2021-10-31   0.589343        0.327114\n",
              "2021-11-30   0.441474       -0.248281\n",
              "2021-12-31   1.400775        0.327057\n",
              "2022-01-31  -2.841842       -0.248224\n",
              "2022-02-28  -0.166646        0.327000\n",
              "2022-03-31   2.074827       -0.248167\n",
              "2022-04-30  -0.122716        0.326944\n",
              "2022-05-31   0.313662       -0.248110\n",
              "2022-06-30  -0.023859        0.326887\n",
              "2022-07-31  -0.231408       -0.248054\n",
              "2022-08-31   0.187475        0.326830"
            ],
            "text/html": [
              "\n",
              "  <div id=\"df-81aeda14-b51a-46dd-9659-ce6544473c9f\">\n",
              "    <div class=\"colab-df-container\">\n",
              "      <div>\n",
              "<style scoped>\n",
              "    .dataframe tbody tr th:only-of-type {\n",
              "        vertical-align: middle;\n",
              "    }\n",
              "\n",
              "    .dataframe tbody tr th {\n",
              "        vertical-align: top;\n",
              "    }\n",
              "\n",
              "    .dataframe thead th {\n",
              "        text-align: right;\n",
              "    }\n",
              "</style>\n",
              "<table border=\"1\" class=\"dataframe\">\n",
              "  <thead>\n",
              "    <tr style=\"text-align: right;\">\n",
              "      <th></th>\n",
              "      <th>sales_mom</th>\n",
              "      <th>predicted_mean</th>\n",
              "    </tr>\n",
              "  </thead>\n",
              "  <tbody>\n",
              "    <tr>\n",
              "      <th>2018-01-31</th>\n",
              "      <td>-3.012245</td>\n",
              "      <td>-1.924713</td>\n",
              "    </tr>\n",
              "    <tr>\n",
              "      <th>2018-02-28</th>\n",
              "      <td>-0.232519</td>\n",
              "      <td>-0.000247</td>\n",
              "    </tr>\n",
              "    <tr>\n",
              "      <th>2018-03-31</th>\n",
              "      <td>1.860194</td>\n",
              "      <td>0.296545</td>\n",
              "    </tr>\n",
              "    <tr>\n",
              "      <th>2018-04-30</th>\n",
              "      <td>-0.599097</td>\n",
              "      <td>0.530633</td>\n",
              "    </tr>\n",
              "    <tr>\n",
              "      <th>2018-05-31</th>\n",
              "      <td>1.113142</td>\n",
              "      <td>-0.436528</td>\n",
              "    </tr>\n",
              "    <tr>\n",
              "      <th>2018-06-30</th>\n",
              "      <td>-0.525336</td>\n",
              "      <td>0.228810</td>\n",
              "    </tr>\n",
              "    <tr>\n",
              "      <th>2018-07-31</th>\n",
              "      <td>-0.075702</td>\n",
              "      <td>-0.189796</td>\n",
              "    </tr>\n",
              "    <tr>\n",
              "      <th>2018-08-31</th>\n",
              "      <td>0.385937</td>\n",
              "      <td>0.373433</td>\n",
              "    </tr>\n",
              "    <tr>\n",
              "      <th>2018-09-30</th>\n",
              "      <td>-1.068094</td>\n",
              "      <td>-0.266777</td>\n",
              "    </tr>\n",
              "    <tr>\n",
              "      <th>2018-10-31</th>\n",
              "      <td>0.735202</td>\n",
              "      <td>0.308732</td>\n",
              "    </tr>\n",
              "    <tr>\n",
              "      <th>2018-11-30</th>\n",
              "      <td>0.482011</td>\n",
              "      <td>-0.244963</td>\n",
              "    </tr>\n",
              "    <tr>\n",
              "      <th>2018-12-31</th>\n",
              "      <td>0.928501</td>\n",
              "      <td>0.336033</td>\n",
              "    </tr>\n",
              "    <tr>\n",
              "      <th>2019-01-31</th>\n",
              "      <td>-2.717094</td>\n",
              "      <td>-0.249959</td>\n",
              "    </tr>\n",
              "    <tr>\n",
              "      <th>2019-02-28</th>\n",
              "      <td>-0.375957</td>\n",
              "      <td>0.324895</td>\n",
              "    </tr>\n",
              "    <tr>\n",
              "      <th>2019-03-31</th>\n",
              "      <td>1.842072</td>\n",
              "      <td>-0.249295</td>\n",
              "    </tr>\n",
              "    <tr>\n",
              "      <th>2019-04-30</th>\n",
              "      <td>-0.161100</td>\n",
              "      <td>0.329154</td>\n",
              "    </tr>\n",
              "    <tr>\n",
              "      <th>2019-05-31</th>\n",
              "      <td>0.855503</td>\n",
              "      <td>-0.248953</td>\n",
              "    </tr>\n",
              "    <tr>\n",
              "      <th>2019-06-30</th>\n",
              "      <td>-0.747864</td>\n",
              "      <td>0.327479</td>\n",
              "    </tr>\n",
              "    <tr>\n",
              "      <th>2019-07-31</th>\n",
              "      <td>0.374931</td>\n",
              "      <td>-0.249199</td>\n",
              "    </tr>\n",
              "    <tr>\n",
              "      <th>2019-08-31</th>\n",
              "      <td>0.248188</td>\n",
              "      <td>0.328005</td>\n",
              "    </tr>\n",
              "    <tr>\n",
              "      <th>2019-09-30</th>\n",
              "      <td>-1.160413</td>\n",
              "      <td>-0.248956</td>\n",
              "    </tr>\n",
              "    <tr>\n",
              "      <th>2019-10-31</th>\n",
              "      <td>0.763935</td>\n",
              "      <td>0.327747</td>\n",
              "    </tr>\n",
              "    <tr>\n",
              "      <th>2019-11-30</th>\n",
              "      <td>0.337303</td>\n",
              "      <td>-0.248994</td>\n",
              "    </tr>\n",
              "    <tr>\n",
              "      <th>2019-12-31</th>\n",
              "      <td>1.362612</td>\n",
              "      <td>0.327756</td>\n",
              "    </tr>\n",
              "    <tr>\n",
              "      <th>2020-01-31</th>\n",
              "      <td>-2.822501</td>\n",
              "      <td>-0.248893</td>\n",
              "    </tr>\n",
              "    <tr>\n",
              "      <th>2020-02-29</th>\n",
              "      <td>-0.006051</td>\n",
              "      <td>0.327679</td>\n",
              "    </tr>\n",
              "    <tr>\n",
              "      <th>2020-03-31</th>\n",
              "      <td>0.498072</td>\n",
              "      <td>-0.248856</td>\n",
              "    </tr>\n",
              "    <tr>\n",
              "      <th>2020-04-30</th>\n",
              "      <td>-1.691557</td>\n",
              "      <td>0.327627</td>\n",
              "    </tr>\n",
              "    <tr>\n",
              "      <th>2020-05-31</th>\n",
              "      <td>2.416061</td>\n",
              "      <td>-0.248791</td>\n",
              "    </tr>\n",
              "    <tr>\n",
              "      <th>2020-06-30</th>\n",
              "      <td>0.429294</td>\n",
              "      <td>0.327569</td>\n",
              "    </tr>\n",
              "    <tr>\n",
              "      <th>2020-07-31</th>\n",
              "      <td>0.425437</td>\n",
              "      <td>-0.248737</td>\n",
              "    </tr>\n",
              "    <tr>\n",
              "      <th>2020-08-31</th>\n",
              "      <td>-0.170454</td>\n",
              "      <td>0.327512</td>\n",
              "    </tr>\n",
              "    <tr>\n",
              "      <th>2020-09-30</th>\n",
              "      <td>-0.332332</td>\n",
              "      <td>-0.248679</td>\n",
              "    </tr>\n",
              "    <tr>\n",
              "      <th>2020-10-31</th>\n",
              "      <td>0.564158</td>\n",
              "      <td>0.327456</td>\n",
              "    </tr>\n",
              "    <tr>\n",
              "      <th>2020-11-30</th>\n",
              "      <td>-0.098022</td>\n",
              "      <td>-0.248622</td>\n",
              "    </tr>\n",
              "    <tr>\n",
              "      <th>2020-12-31</th>\n",
              "      <td>1.765084</td>\n",
              "      <td>0.327398</td>\n",
              "    </tr>\n",
              "    <tr>\n",
              "      <th>2021-01-31</th>\n",
              "      <td>-2.582648</td>\n",
              "      <td>-0.248565</td>\n",
              "    </tr>\n",
              "    <tr>\n",
              "      <th>2021-02-28</th>\n",
              "      <td>-0.512265</td>\n",
              "      <td>0.327342</td>\n",
              "    </tr>\n",
              "    <tr>\n",
              "      <th>2021-03-31</th>\n",
              "      <td>3.093359</td>\n",
              "      <td>-0.248508</td>\n",
              "    </tr>\n",
              "    <tr>\n",
              "      <th>2021-04-30</th>\n",
              "      <td>-0.196089</td>\n",
              "      <td>0.327285</td>\n",
              "    </tr>\n",
              "    <tr>\n",
              "      <th>2021-05-31</th>\n",
              "      <td>0.176608</td>\n",
              "      <td>-0.248451</td>\n",
              "    </tr>\n",
              "    <tr>\n",
              "      <th>2021-06-30</th>\n",
              "      <td>-0.166376</td>\n",
              "      <td>0.327228</td>\n",
              "    </tr>\n",
              "    <tr>\n",
              "      <th>2021-07-31</th>\n",
              "      <td>-0.130358</td>\n",
              "      <td>-0.248395</td>\n",
              "    </tr>\n",
              "    <tr>\n",
              "      <th>2021-08-31</th>\n",
              "      <td>-0.079893</td>\n",
              "      <td>0.327171</td>\n",
              "    </tr>\n",
              "    <tr>\n",
              "      <th>2021-09-30</th>\n",
              "      <td>-0.431382</td>\n",
              "      <td>-0.248338</td>\n",
              "    </tr>\n",
              "    <tr>\n",
              "      <th>2021-10-31</th>\n",
              "      <td>0.589343</td>\n",
              "      <td>0.327114</td>\n",
              "    </tr>\n",
              "    <tr>\n",
              "      <th>2021-11-30</th>\n",
              "      <td>0.441474</td>\n",
              "      <td>-0.248281</td>\n",
              "    </tr>\n",
              "    <tr>\n",
              "      <th>2021-12-31</th>\n",
              "      <td>1.400775</td>\n",
              "      <td>0.327057</td>\n",
              "    </tr>\n",
              "    <tr>\n",
              "      <th>2022-01-31</th>\n",
              "      <td>-2.841842</td>\n",
              "      <td>-0.248224</td>\n",
              "    </tr>\n",
              "    <tr>\n",
              "      <th>2022-02-28</th>\n",
              "      <td>-0.166646</td>\n",
              "      <td>0.327000</td>\n",
              "    </tr>\n",
              "    <tr>\n",
              "      <th>2022-03-31</th>\n",
              "      <td>2.074827</td>\n",
              "      <td>-0.248167</td>\n",
              "    </tr>\n",
              "    <tr>\n",
              "      <th>2022-04-30</th>\n",
              "      <td>-0.122716</td>\n",
              "      <td>0.326944</td>\n",
              "    </tr>\n",
              "    <tr>\n",
              "      <th>2022-05-31</th>\n",
              "      <td>0.313662</td>\n",
              "      <td>-0.248110</td>\n",
              "    </tr>\n",
              "    <tr>\n",
              "      <th>2022-06-30</th>\n",
              "      <td>-0.023859</td>\n",
              "      <td>0.326887</td>\n",
              "    </tr>\n",
              "    <tr>\n",
              "      <th>2022-07-31</th>\n",
              "      <td>-0.231408</td>\n",
              "      <td>-0.248054</td>\n",
              "    </tr>\n",
              "    <tr>\n",
              "      <th>2022-08-31</th>\n",
              "      <td>0.187475</td>\n",
              "      <td>0.326830</td>\n",
              "    </tr>\n",
              "  </tbody>\n",
              "</table>\n",
              "</div>\n",
              "      <button class=\"colab-df-convert\" onclick=\"convertToInteractive('df-81aeda14-b51a-46dd-9659-ce6544473c9f')\"\n",
              "              title=\"Convert this dataframe to an interactive table.\"\n",
              "              style=\"display:none;\">\n",
              "        \n",
              "  <svg xmlns=\"http://www.w3.org/2000/svg\" height=\"24px\"viewBox=\"0 0 24 24\"\n",
              "       width=\"24px\">\n",
              "    <path d=\"M0 0h24v24H0V0z\" fill=\"none\"/>\n",
              "    <path d=\"M18.56 5.44l.94 2.06.94-2.06 2.06-.94-2.06-.94-.94-2.06-.94 2.06-2.06.94zm-11 1L8.5 8.5l.94-2.06 2.06-.94-2.06-.94L8.5 2.5l-.94 2.06-2.06.94zm10 10l.94 2.06.94-2.06 2.06-.94-2.06-.94-.94-2.06-.94 2.06-2.06.94z\"/><path d=\"M17.41 7.96l-1.37-1.37c-.4-.4-.92-.59-1.43-.59-.52 0-1.04.2-1.43.59L10.3 9.45l-7.72 7.72c-.78.78-.78 2.05 0 2.83L4 21.41c.39.39.9.59 1.41.59.51 0 1.02-.2 1.41-.59l7.78-7.78 2.81-2.81c.8-.78.8-2.07 0-2.86zM5.41 20L4 18.59l7.72-7.72 1.47 1.35L5.41 20z\"/>\n",
              "  </svg>\n",
              "      </button>\n",
              "      \n",
              "  <style>\n",
              "    .colab-df-container {\n",
              "      display:flex;\n",
              "      flex-wrap:wrap;\n",
              "      gap: 12px;\n",
              "    }\n",
              "\n",
              "    .colab-df-convert {\n",
              "      background-color: #E8F0FE;\n",
              "      border: none;\n",
              "      border-radius: 50%;\n",
              "      cursor: pointer;\n",
              "      display: none;\n",
              "      fill: #1967D2;\n",
              "      height: 32px;\n",
              "      padding: 0 0 0 0;\n",
              "      width: 32px;\n",
              "    }\n",
              "\n",
              "    .colab-df-convert:hover {\n",
              "      background-color: #E2EBFA;\n",
              "      box-shadow: 0px 1px 2px rgba(60, 64, 67, 0.3), 0px 1px 3px 1px rgba(60, 64, 67, 0.15);\n",
              "      fill: #174EA6;\n",
              "    }\n",
              "\n",
              "    [theme=dark] .colab-df-convert {\n",
              "      background-color: #3B4455;\n",
              "      fill: #D2E3FC;\n",
              "    }\n",
              "\n",
              "    [theme=dark] .colab-df-convert:hover {\n",
              "      background-color: #434B5C;\n",
              "      box-shadow: 0px 1px 3px 1px rgba(0, 0, 0, 0.15);\n",
              "      filter: drop-shadow(0px 1px 2px rgba(0, 0, 0, 0.3));\n",
              "      fill: #FFFFFF;\n",
              "    }\n",
              "  </style>\n",
              "\n",
              "      <script>\n",
              "        const buttonEl =\n",
              "          document.querySelector('#df-81aeda14-b51a-46dd-9659-ce6544473c9f button.colab-df-convert');\n",
              "        buttonEl.style.display =\n",
              "          google.colab.kernel.accessAllowed ? 'block' : 'none';\n",
              "\n",
              "        async function convertToInteractive(key) {\n",
              "          const element = document.querySelector('#df-81aeda14-b51a-46dd-9659-ce6544473c9f');\n",
              "          const dataTable =\n",
              "            await google.colab.kernel.invokeFunction('convertToInteractive',\n",
              "                                                     [key], {});\n",
              "          if (!dataTable) return;\n",
              "\n",
              "          const docLinkHtml = 'Like what you see? Visit the ' +\n",
              "            '<a target=\"_blank\" href=https://colab.research.google.com/notebooks/data_table.ipynb>data table notebook</a>'\n",
              "            + ' to learn more about interactive tables.';\n",
              "          element.innerHTML = '';\n",
              "          dataTable['output_type'] = 'display_data';\n",
              "          await google.colab.output.renderOutput(dataTable, element);\n",
              "          const docLink = document.createElement('div');\n",
              "          docLink.innerHTML = docLinkHtml;\n",
              "          element.appendChild(docLink);\n",
              "        }\n",
              "      </script>\n",
              "    </div>\n",
              "  </div>\n",
              "  "
            ]
          },
          "metadata": {},
          "execution_count": 570
        }
      ]
    },
    {
      "cell_type": "code",
      "source": [
        "plt.plot(mom_test['sales_mom'],label='Actual')\n",
        "plt.plot(mom_test['predicted_mean'],label='predicted_mean')\n",
        "plt.title('Month on Month Annualized Inflation')\n",
        "plt.legend()"
      ],
      "metadata": {
        "colab": {
          "base_uri": "https://localhost:8080/",
          "height": 299
        },
        "id": "giDKLBixt302",
        "outputId": "0fcb88f0-00cf-4ea6-b2f5-14047bd82270"
      },
      "execution_count": null,
      "outputs": [
        {
          "output_type": "execute_result",
          "data": {
            "text/plain": [
              "<matplotlib.legend.Legend at 0x7f7b20f21b10>"
            ]
          },
          "metadata": {},
          "execution_count": 572
        },
        {
          "output_type": "display_data",
          "data": {
            "text/plain": [
              "<Figure size 432x288 with 1 Axes>"
            ],
            "image/png": "[encoded data removed]"
          },
          "metadata": {
            "needs_background": "light"
          }
        }
      ]
    }
  ]
}